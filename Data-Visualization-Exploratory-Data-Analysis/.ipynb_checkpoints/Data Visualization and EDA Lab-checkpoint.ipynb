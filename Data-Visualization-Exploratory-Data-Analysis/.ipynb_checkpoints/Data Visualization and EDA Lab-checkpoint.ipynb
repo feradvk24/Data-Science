{
 "cells": [
  {
   "cell_type": "code",
   "execution_count": 1,
   "id": "1b1927be-b3ca-4858-93e1-83348b9b931e",
   "metadata": {
    "tags": []
   },
   "outputs": [],
   "source": [
    "# Write your imports here\n",
    "import pandas as pd\n",
    "import matplotlib.pyplot as plt\n",
    "import seaborn as sns"
   ]
  },
  {
   "cell_type": "markdown",
   "id": "0a1bacf2-619d-4a97-bf91-e791cee8ce99",
   "metadata": {},
   "source": [
    "# Data Visualization and Exploratory Data Analysis Lab\n",
    "## Visualizing and exploring data. The data mining process"
   ]
  },
  {
   "cell_type": "markdown",
   "id": "7dd6a75a-59db-4b6f-b51c-79cfbffcef45",
   "metadata": {},
   "source": [
    "In this lab, you'll get acquainted with the most streamed songs on Spotify in 2024. The dataset and its associated metadata can be found [here](https://www.kaggle.com/datasets/nelgiriyewithana/most-streamed-spotify-songs-2024). The version you'll need is provided in the `data/` folder.\n",
    "\n",
    "You know the drill. Do what you can / want / need to answer the questions to the best of your ability. Answers do not need to be trivial, or even the same among different people."
   ]
  },
  {
   "cell_type": "markdown",
   "id": "b8cfbf65-857c-464e-98df-b6425b0b571d",
   "metadata": {},
   "source": [
    "### Problem 1. Read the dataset (1 point)\n",
    "Read the file without unzipping it first. You can try a different character encoding, like `unicode_escape`. Don't worry too much about weird characters."
   ]
  },
  {
   "cell_type": "code",
   "execution_count": 5,
   "id": "00d7946c-3f48-476e-8213-42d816ec1db2",
   "metadata": {
    "tags": []
   },
   "outputs": [
    {
     "data": {
      "text/html": [
       "<div>\n",
       "<style scoped>\n",
       "    .dataframe tbody tr th:only-of-type {\n",
       "        vertical-align: middle;\n",
       "    }\n",
       "\n",
       "    .dataframe tbody tr th {\n",
       "        vertical-align: top;\n",
       "    }\n",
       "\n",
       "    .dataframe thead th {\n",
       "        text-align: right;\n",
       "    }\n",
       "</style>\n",
       "<table border=\"1\" class=\"dataframe\">\n",
       "  <thead>\n",
       "    <tr style=\"text-align: right;\">\n",
       "      <th></th>\n",
       "      <th>Track</th>\n",
       "      <th>Album Name</th>\n",
       "      <th>Artist</th>\n",
       "      <th>Release Date</th>\n",
       "      <th>ISRC</th>\n",
       "      <th>All Time Rank</th>\n",
       "      <th>Track Score</th>\n",
       "      <th>Spotify Streams</th>\n",
       "      <th>Spotify Playlist Count</th>\n",
       "      <th>Spotify Playlist Reach</th>\n",
       "      <th>...</th>\n",
       "      <th>SiriusXM Spins</th>\n",
       "      <th>Deezer Playlist Count</th>\n",
       "      <th>Deezer Playlist Reach</th>\n",
       "      <th>Amazon Playlist Count</th>\n",
       "      <th>Pandora Streams</th>\n",
       "      <th>Pandora Track Stations</th>\n",
       "      <th>Soundcloud Streams</th>\n",
       "      <th>Shazam Counts</th>\n",
       "      <th>TIDAL Popularity</th>\n",
       "      <th>Explicit Track</th>\n",
       "    </tr>\n",
       "  </thead>\n",
       "  <tbody>\n",
       "    <tr>\n",
       "      <th>0</th>\n",
       "      <td>MILLION DOLLAR BABY</td>\n",
       "      <td>Million Dollar Baby - Single</td>\n",
       "      <td>Tommy Richman</td>\n",
       "      <td>4/26/2024</td>\n",
       "      <td>QM24S2402528</td>\n",
       "      <td>1</td>\n",
       "      <td>725.4</td>\n",
       "      <td>390,470,936</td>\n",
       "      <td>30,716</td>\n",
       "      <td>196,631,588</td>\n",
       "      <td>...</td>\n",
       "      <td>684</td>\n",
       "      <td>62.0</td>\n",
       "      <td>17,598,718</td>\n",
       "      <td>114.0</td>\n",
       "      <td>18,004,655</td>\n",
       "      <td>22,931</td>\n",
       "      <td>4,818,457</td>\n",
       "      <td>2,669,262</td>\n",
       "      <td>NaN</td>\n",
       "      <td>0</td>\n",
       "    </tr>\n",
       "    <tr>\n",
       "      <th>1</th>\n",
       "      <td>Not Like Us</td>\n",
       "      <td>Not Like Us</td>\n",
       "      <td>Kendrick Lamar</td>\n",
       "      <td>5/4/2024</td>\n",
       "      <td>USUG12400910</td>\n",
       "      <td>2</td>\n",
       "      <td>545.9</td>\n",
       "      <td>323,703,884</td>\n",
       "      <td>28,113</td>\n",
       "      <td>174,597,137</td>\n",
       "      <td>...</td>\n",
       "      <td>3</td>\n",
       "      <td>67.0</td>\n",
       "      <td>10,422,430</td>\n",
       "      <td>111.0</td>\n",
       "      <td>7,780,028</td>\n",
       "      <td>28,444</td>\n",
       "      <td>6,623,075</td>\n",
       "      <td>1,118,279</td>\n",
       "      <td>NaN</td>\n",
       "      <td>1</td>\n",
       "    </tr>\n",
       "    <tr>\n",
       "      <th>2</th>\n",
       "      <td>i like the way you kiss me</td>\n",
       "      <td>I like the way you kiss me</td>\n",
       "      <td>Artemas</td>\n",
       "      <td>3/19/2024</td>\n",
       "      <td>QZJ842400387</td>\n",
       "      <td>3</td>\n",
       "      <td>538.4</td>\n",
       "      <td>601,309,283</td>\n",
       "      <td>54,331</td>\n",
       "      <td>211,607,669</td>\n",
       "      <td>...</td>\n",
       "      <td>536</td>\n",
       "      <td>136.0</td>\n",
       "      <td>36,321,847</td>\n",
       "      <td>172.0</td>\n",
       "      <td>5,022,621</td>\n",
       "      <td>5,639</td>\n",
       "      <td>7,208,651</td>\n",
       "      <td>5,285,340</td>\n",
       "      <td>NaN</td>\n",
       "      <td>0</td>\n",
       "    </tr>\n",
       "    <tr>\n",
       "      <th>3</th>\n",
       "      <td>Flowers</td>\n",
       "      <td>Flowers - Single</td>\n",
       "      <td>Miley Cyrus</td>\n",
       "      <td>1/12/2023</td>\n",
       "      <td>USSM12209777</td>\n",
       "      <td>4</td>\n",
       "      <td>444.9</td>\n",
       "      <td>2,031,280,633</td>\n",
       "      <td>269,802</td>\n",
       "      <td>136,569,078</td>\n",
       "      <td>...</td>\n",
       "      <td>2,182</td>\n",
       "      <td>264.0</td>\n",
       "      <td>24,684,248</td>\n",
       "      <td>210.0</td>\n",
       "      <td>190,260,277</td>\n",
       "      <td>203,384</td>\n",
       "      <td>NaN</td>\n",
       "      <td>11,822,942</td>\n",
       "      <td>NaN</td>\n",
       "      <td>0</td>\n",
       "    </tr>\n",
       "    <tr>\n",
       "      <th>4</th>\n",
       "      <td>Houdini</td>\n",
       "      <td>Houdini</td>\n",
       "      <td>Eminem</td>\n",
       "      <td>5/31/2024</td>\n",
       "      <td>USUG12403398</td>\n",
       "      <td>5</td>\n",
       "      <td>423.3</td>\n",
       "      <td>107,034,922</td>\n",
       "      <td>7,223</td>\n",
       "      <td>151,469,874</td>\n",
       "      <td>...</td>\n",
       "      <td>1</td>\n",
       "      <td>82.0</td>\n",
       "      <td>17,660,624</td>\n",
       "      <td>105.0</td>\n",
       "      <td>4,493,884</td>\n",
       "      <td>7,006</td>\n",
       "      <td>207,179</td>\n",
       "      <td>457,017</td>\n",
       "      <td>NaN</td>\n",
       "      <td>1</td>\n",
       "    </tr>\n",
       "    <tr>\n",
       "      <th>...</th>\n",
       "      <td>...</td>\n",
       "      <td>...</td>\n",
       "      <td>...</td>\n",
       "      <td>...</td>\n",
       "      <td>...</td>\n",
       "      <td>...</td>\n",
       "      <td>...</td>\n",
       "      <td>...</td>\n",
       "      <td>...</td>\n",
       "      <td>...</td>\n",
       "      <td>...</td>\n",
       "      <td>...</td>\n",
       "      <td>...</td>\n",
       "      <td>...</td>\n",
       "      <td>...</td>\n",
       "      <td>...</td>\n",
       "      <td>...</td>\n",
       "      <td>...</td>\n",
       "      <td>...</td>\n",
       "      <td>...</td>\n",
       "      <td>...</td>\n",
       "    </tr>\n",
       "    <tr>\n",
       "      <th>4595</th>\n",
       "      <td>For the Last Time</td>\n",
       "      <td>For the Last Time</td>\n",
       "      <td>$uicideboy$</td>\n",
       "      <td>9/5/2017</td>\n",
       "      <td>QM8DG1703420</td>\n",
       "      <td>4,585</td>\n",
       "      <td>19.4</td>\n",
       "      <td>305,049,963</td>\n",
       "      <td>65,770</td>\n",
       "      <td>5,103,054</td>\n",
       "      <td>...</td>\n",
       "      <td>NaN</td>\n",
       "      <td>2.0</td>\n",
       "      <td>14,217</td>\n",
       "      <td>NaN</td>\n",
       "      <td>20,104,066</td>\n",
       "      <td>13,184</td>\n",
       "      <td>50,633,006</td>\n",
       "      <td>656,337</td>\n",
       "      <td>NaN</td>\n",
       "      <td>1</td>\n",
       "    </tr>\n",
       "    <tr>\n",
       "      <th>4596</th>\n",
       "      <td>Dil Meri Na Sune</td>\n",
       "      <td>Dil Meri Na Sune (From \"Genius\")</td>\n",
       "      <td>Atif Aslam</td>\n",
       "      <td>7/27/2018</td>\n",
       "      <td>INT101800122</td>\n",
       "      <td>4,575</td>\n",
       "      <td>19.4</td>\n",
       "      <td>52,282,360</td>\n",
       "      <td>4,602</td>\n",
       "      <td>1,449,767</td>\n",
       "      <td>...</td>\n",
       "      <td>NaN</td>\n",
       "      <td>1.0</td>\n",
       "      <td>927</td>\n",
       "      <td>NaN</td>\n",
       "      <td>NaN</td>\n",
       "      <td>NaN</td>\n",
       "      <td>NaN</td>\n",
       "      <td>193,590</td>\n",
       "      <td>NaN</td>\n",
       "      <td>0</td>\n",
       "    </tr>\n",
       "    <tr>\n",
       "      <th>4597</th>\n",
       "      <td>Grace (feat. 42 Dugg)</td>\n",
       "      <td>My Turn</td>\n",
       "      <td>Lil Baby</td>\n",
       "      <td>2/28/2020</td>\n",
       "      <td>USUG12000043</td>\n",
       "      <td>4,571</td>\n",
       "      <td>19.4</td>\n",
       "      <td>189,972,685</td>\n",
       "      <td>72,066</td>\n",
       "      <td>6,704,802</td>\n",
       "      <td>...</td>\n",
       "      <td>NaN</td>\n",
       "      <td>1.0</td>\n",
       "      <td>74</td>\n",
       "      <td>6.0</td>\n",
       "      <td>84,426,740</td>\n",
       "      <td>28,999</td>\n",
       "      <td>NaN</td>\n",
       "      <td>1,135,998</td>\n",
       "      <td>NaN</td>\n",
       "      <td>1</td>\n",
       "    </tr>\n",
       "    <tr>\n",
       "      <th>4598</th>\n",
       "      <td>Nashe Si Chadh Gayi</td>\n",
       "      <td>November Top 10 Songs</td>\n",
       "      <td>Arijit Singh</td>\n",
       "      <td>11/8/2016</td>\n",
       "      <td>INY091600067</td>\n",
       "      <td>4,591</td>\n",
       "      <td>19.4</td>\n",
       "      <td>145,467,020</td>\n",
       "      <td>14,037</td>\n",
       "      <td>7,387,064</td>\n",
       "      <td>...</td>\n",
       "      <td>NaN</td>\n",
       "      <td>NaN</td>\n",
       "      <td>NaN</td>\n",
       "      <td>7.0</td>\n",
       "      <td>6,817,840</td>\n",
       "      <td>NaN</td>\n",
       "      <td>NaN</td>\n",
       "      <td>448,292</td>\n",
       "      <td>NaN</td>\n",
       "      <td>0</td>\n",
       "    </tr>\n",
       "    <tr>\n",
       "      <th>4599</th>\n",
       "      <td>Me Acostumbre (feat. Bad Bunny)</td>\n",
       "      <td>Me Acostumbre (feat. Bad Bunny)</td>\n",
       "      <td>Arcï¿½ï¿½</td>\n",
       "      <td>4/11/2017</td>\n",
       "      <td>USB271700107</td>\n",
       "      <td>4,593</td>\n",
       "      <td>19.4</td>\n",
       "      <td>255,740,653</td>\n",
       "      <td>32,138</td>\n",
       "      <td>14,066,526</td>\n",
       "      <td>...</td>\n",
       "      <td>NaN</td>\n",
       "      <td>4.0</td>\n",
       "      <td>127,479</td>\n",
       "      <td>4.0</td>\n",
       "      <td>69,006,739</td>\n",
       "      <td>11,320</td>\n",
       "      <td>NaN</td>\n",
       "      <td>767,006</td>\n",
       "      <td>NaN</td>\n",
       "      <td>1</td>\n",
       "    </tr>\n",
       "  </tbody>\n",
       "</table>\n",
       "<p>4600 rows × 29 columns</p>\n",
       "</div>"
      ],
      "text/plain": [
       "                                Track                        Album Name  \\\n",
       "0                 MILLION DOLLAR BABY      Million Dollar Baby - Single   \n",
       "1                         Not Like Us                       Not Like Us   \n",
       "2          i like the way you kiss me        I like the way you kiss me   \n",
       "3                             Flowers                  Flowers - Single   \n",
       "4                             Houdini                           Houdini   \n",
       "...                               ...                               ...   \n",
       "4595                For the Last Time                 For the Last Time   \n",
       "4596                 Dil Meri Na Sune  Dil Meri Na Sune (From \"Genius\")   \n",
       "4597            Grace (feat. 42 Dugg)                           My Turn   \n",
       "4598              Nashe Si Chadh Gayi             November Top 10 Songs   \n",
       "4599  Me Acostumbre (feat. Bad Bunny)   Me Acostumbre (feat. Bad Bunny)   \n",
       "\n",
       "              Artist Release Date          ISRC All Time Rank  Track Score  \\\n",
       "0      Tommy Richman    4/26/2024  QM24S2402528             1        725.4   \n",
       "1     Kendrick Lamar     5/4/2024  USUG12400910             2        545.9   \n",
       "2            Artemas    3/19/2024  QZJ842400387             3        538.4   \n",
       "3        Miley Cyrus    1/12/2023  USSM12209777             4        444.9   \n",
       "4             Eminem    5/31/2024  USUG12403398             5        423.3   \n",
       "...              ...          ...           ...           ...          ...   \n",
       "4595     $uicideboy$     9/5/2017  QM8DG1703420         4,585         19.4   \n",
       "4596      Atif Aslam    7/27/2018  INT101800122         4,575         19.4   \n",
       "4597        Lil Baby    2/28/2020  USUG12000043         4,571         19.4   \n",
       "4598    Arijit Singh    11/8/2016  INY091600067         4,591         19.4   \n",
       "4599       Arcï¿½ï¿½    4/11/2017  USB271700107         4,593         19.4   \n",
       "\n",
       "     Spotify Streams Spotify Playlist Count Spotify Playlist Reach  ...  \\\n",
       "0        390,470,936                 30,716            196,631,588  ...   \n",
       "1        323,703,884                 28,113            174,597,137  ...   \n",
       "2        601,309,283                 54,331            211,607,669  ...   \n",
       "3      2,031,280,633                269,802            136,569,078  ...   \n",
       "4        107,034,922                  7,223            151,469,874  ...   \n",
       "...              ...                    ...                    ...  ...   \n",
       "4595     305,049,963                 65,770              5,103,054  ...   \n",
       "4596      52,282,360                  4,602              1,449,767  ...   \n",
       "4597     189,972,685                 72,066              6,704,802  ...   \n",
       "4598     145,467,020                 14,037              7,387,064  ...   \n",
       "4599     255,740,653                 32,138             14,066,526  ...   \n",
       "\n",
       "      SiriusXM Spins Deezer Playlist Count Deezer Playlist Reach  \\\n",
       "0                684                  62.0            17,598,718   \n",
       "1                  3                  67.0            10,422,430   \n",
       "2                536                 136.0            36,321,847   \n",
       "3              2,182                 264.0            24,684,248   \n",
       "4                  1                  82.0            17,660,624   \n",
       "...              ...                   ...                   ...   \n",
       "4595             NaN                   2.0                14,217   \n",
       "4596             NaN                   1.0                   927   \n",
       "4597             NaN                   1.0                    74   \n",
       "4598             NaN                   NaN                   NaN   \n",
       "4599             NaN                   4.0               127,479   \n",
       "\n",
       "     Amazon Playlist Count Pandora Streams Pandora Track Stations  \\\n",
       "0                    114.0      18,004,655                 22,931   \n",
       "1                    111.0       7,780,028                 28,444   \n",
       "2                    172.0       5,022,621                  5,639   \n",
       "3                    210.0     190,260,277                203,384   \n",
       "4                    105.0       4,493,884                  7,006   \n",
       "...                    ...             ...                    ...   \n",
       "4595                   NaN      20,104,066                 13,184   \n",
       "4596                   NaN             NaN                    NaN   \n",
       "4597                   6.0      84,426,740                 28,999   \n",
       "4598                   7.0       6,817,840                    NaN   \n",
       "4599                   4.0      69,006,739                 11,320   \n",
       "\n",
       "     Soundcloud Streams  Shazam Counts TIDAL Popularity Explicit Track  \n",
       "0             4,818,457      2,669,262              NaN              0  \n",
       "1             6,623,075      1,118,279              NaN              1  \n",
       "2             7,208,651      5,285,340              NaN              0  \n",
       "3                   NaN     11,822,942              NaN              0  \n",
       "4               207,179        457,017              NaN              1  \n",
       "...                 ...            ...              ...            ...  \n",
       "4595         50,633,006        656,337              NaN              1  \n",
       "4596                NaN        193,590              NaN              0  \n",
       "4597                NaN      1,135,998              NaN              1  \n",
       "4598                NaN        448,292              NaN              0  \n",
       "4599                NaN        767,006              NaN              1  \n",
       "\n",
       "[4600 rows x 29 columns]"
      ]
     },
     "execution_count": 5,
     "metadata": {},
     "output_type": "execute_result"
    }
   ],
   "source": [
    "spotify_songs = pd.read_csv(\"data/Most Streamed Spotify Songs 2024.csv\", encoding = \"unicode_escape\")\n",
    "spotify_songs"
   ]
  },
  {
   "cell_type": "markdown",
   "id": "84bb1876-3ab5-4d66-86f6-7e1ede99fffe",
   "metadata": {},
   "source": [
    "### Problem 2. Perform some cleaning (1 point)\n",
    "Ensure all data has been read correctly; check the data types. Give the columns better names (e.g. `all_time_rank`, `track_score`, etc.). To do so, try to use `apply()` instead of a manual mapping between old and new name. Get rid of any unnecessary ones."
   ]
  },
  {
   "cell_type": "code",
   "execution_count": 7,
   "id": "b0a8a054-a18f-42b5-8dc3-e840e816f27c",
   "metadata": {
    "tags": []
   },
   "outputs": [
    {
     "name": "stdout",
     "output_type": "stream",
     "text": [
      "<class 'pandas.core.frame.DataFrame'>\n",
      "RangeIndex: 4600 entries, 0 to 4599\n",
      "Data columns (total 29 columns):\n",
      " #   Column                      Non-Null Count  Dtype  \n",
      "---  ------                      --------------  -----  \n",
      " 0   Track                       4600 non-null   object \n",
      " 1   Album Name                  4600 non-null   object \n",
      " 2   Artist                      4595 non-null   object \n",
      " 3   Release Date                4600 non-null   object \n",
      " 4   ISRC                        4600 non-null   object \n",
      " 5   All Time Rank               4600 non-null   object \n",
      " 6   Track Score                 4600 non-null   float64\n",
      " 7   Spotify Streams             4487 non-null   object \n",
      " 8   Spotify Playlist Count      4530 non-null   object \n",
      " 9   Spotify Playlist Reach      4528 non-null   object \n",
      " 10  Spotify Popularity          3796 non-null   float64\n",
      " 11  YouTube Views               4292 non-null   object \n",
      " 12  YouTube Likes               4285 non-null   object \n",
      " 13  TikTok Posts                3427 non-null   object \n",
      " 14  TikTok Likes                3620 non-null   object \n",
      " 15  TikTok Views                3619 non-null   object \n",
      " 16  YouTube Playlist Reach      3591 non-null   object \n",
      " 17  Apple Music Playlist Count  4039 non-null   float64\n",
      " 18  AirPlay Spins               4102 non-null   object \n",
      " 19  SiriusXM Spins              2477 non-null   object \n",
      " 20  Deezer Playlist Count       3679 non-null   float64\n",
      " 21  Deezer Playlist Reach       3672 non-null   object \n",
      " 22  Amazon Playlist Count       3545 non-null   float64\n",
      " 23  Pandora Streams             3494 non-null   object \n",
      " 24  Pandora Track Stations      3332 non-null   object \n",
      " 25  Soundcloud Streams          1267 non-null   object \n",
      " 26  Shazam Counts               4023 non-null   object \n",
      " 27  TIDAL Popularity            0 non-null      float64\n",
      " 28  Explicit Track              4600 non-null   int64  \n",
      "dtypes: float64(6), int64(1), object(22)\n",
      "memory usage: 1.0+ MB\n"
     ]
    }
   ],
   "source": [
    "spotify_songs.info()"
   ]
  },
  {
   "cell_type": "markdown",
   "id": "ac3b66fe-047c-47ef-812f-21094239218d",
   "metadata": {
    "tags": []
   },
   "source": [
    "Lets make a function that converts the column names to snake case:"
   ]
  },
  {
   "cell_type": "code",
   "execution_count": 9,
   "id": "f801c027-e25b-4411-8248-bdc7a2debe28",
   "metadata": {
    "tags": []
   },
   "outputs": [
    {
     "data": {
      "text/plain": [
       "Index(['track', 'album_name', 'artist', 'release_date', 'isrc',\n",
       "       'all_time_rank', 'track_score', 'spotify_streams',\n",
       "       'spotify_playlist_count', 'spotify_playlist_reach',\n",
       "       'spotify_popularity', 'youtube_views', 'youtube_likes', 'tiktok_posts',\n",
       "       'tiktok_likes', 'tiktok_views', 'youtube_playlist_reach',\n",
       "       'apple_music_playlist_count', 'airplay_spins', 'siriusxm_spins',\n",
       "       'deezer_playlist_count', 'deezer_playlist_reach',\n",
       "       'amazon_playlist_count', 'pandora_streams', 'pandora_track_stations',\n",
       "       'soundcloud_streams', 'shazam_counts', 'tidal_popularity',\n",
       "       'explicit_track'],\n",
       "      dtype='object')"
      ]
     },
     "execution_count": 9,
     "metadata": {},
     "output_type": "execute_result"
    }
   ],
   "source": [
    "def snake_case(column_name):\n",
    "    return column_name.replace(\" \", \"_\").lower() #Replace spaces with underscores and lower all letters\n",
    "\n",
    "\n",
    "column_series = pd.Series(spotify_songs.columns) #Create a series from the spotify_songs column names\n",
    "new_names = column_series.apply(snake_case) #Apply the snake_case function to the series\n",
    "spotify_songs.columns = new_names #Give the columns their new names\n",
    "spotify_songs.columns #Now the columns are structured in a pythonic way"
   ]
  },
  {
   "cell_type": "markdown",
   "id": "ef513969-d026-4847-91a6-cba2728aee03",
   "metadata": {},
   "source": [
    "Currently there are 0 non-null entries in the TIDAL Popularity column, so it doesn't provide any information. I think it's safe to drop it."
   ]
  },
  {
   "cell_type": "code",
   "execution_count": 11,
   "id": "3c6b5e34-0bc0-4c70-b901-992032075930",
   "metadata": {
    "tags": []
   },
   "outputs": [
    {
     "data": {
      "text/plain": [
       "0"
      ]
     },
     "execution_count": 11,
     "metadata": {},
     "output_type": "execute_result"
    }
   ],
   "source": [
    "spotify_songs.tidal_popularity.count()"
   ]
  },
  {
   "cell_type": "code",
   "execution_count": 12,
   "id": "fa80f82f-d186-4f85-ab20-813c4ae522f9",
   "metadata": {
    "tags": []
   },
   "outputs": [
    {
     "data": {
      "text/plain": [
       "Index(['track', 'album_name', 'artist', 'release_date', 'isrc',\n",
       "       'all_time_rank', 'track_score', 'spotify_streams',\n",
       "       'spotify_playlist_count', 'spotify_playlist_reach',\n",
       "       'spotify_popularity', 'youtube_views', 'youtube_likes', 'tiktok_posts',\n",
       "       'tiktok_likes', 'tiktok_views', 'youtube_playlist_reach',\n",
       "       'apple_music_playlist_count', 'airplay_spins', 'siriusxm_spins',\n",
       "       'deezer_playlist_count', 'deezer_playlist_reach',\n",
       "       'amazon_playlist_count', 'pandora_streams', 'pandora_track_stations',\n",
       "       'soundcloud_streams', 'shazam_counts', 'explicit_track'],\n",
       "      dtype='object')"
      ]
     },
     "execution_count": 12,
     "metadata": {},
     "output_type": "execute_result"
    }
   ],
   "source": [
    "spotify_songs = spotify_songs.drop(\"tidal_popularity\", axis = 1)\n",
    "spotify_songs.columns"
   ]
  },
  {
   "cell_type": "markdown",
   "id": "0ae40d8d-4831-484d-a464-dda392703366",
   "metadata": {},
   "source": [
    "### Problem 3. Most productive artists (1 point)\n",
    "Who are the five artists with the most songs in the dataset?\n",
    "\n",
    "Who are the five \"clean-mouthed\" artists (i.e., with no explicit songs)? **Note:** We're not going into details but we can start a discussion about whether a song needs swearing to be popular."
   ]
  },
  {
   "cell_type": "code",
   "execution_count": 14,
   "id": "49d45c5d-ae65-4324-b869-c5075667f690",
   "metadata": {
    "tags": []
   },
   "outputs": [
    {
     "data": {
      "text/plain": [
       "artist\n",
       "Drake           63\n",
       "Taylor Swift    63\n",
       "Bad Bunny       60\n",
       "KAROL G         32\n",
       "The Weeknd      31\n",
       "dtype: int64"
      ]
     },
     "execution_count": 14,
     "metadata": {},
     "output_type": "execute_result"
    }
   ],
   "source": [
    "song_count = spotify_songs.groupby(\"artist\").size()\n",
    "top_artists = song_count.sort_values(ascending = False).head(5)\n",
    "top_artists"
   ]
  },
  {
   "cell_type": "markdown",
   "id": "546b0cf6-6f03-47e3-8e7d-fdb618726fbf",
   "metadata": {},
   "source": [
    "These are the five artists with the most songs. Now let's check which artists have no explicit songs."
   ]
  },
  {
   "cell_type": "code",
   "execution_count": 16,
   "id": "12de9fd2-f293-4fec-b2a3-b63854d46218",
   "metadata": {
    "tags": []
   },
   "outputs": [
    {
     "data": {
      "text/plain": [
       "Index(['\"XY\"', '&ME', '(G)I-DLE', '*NSYNC', '.diedlonely', '10CM',\n",
       "       '1da Banton', '3 Palavrinhas',\n",
       "       '4*TOWN (From Disney and Pixarï¿½ï¿½ï¿½s Turnin', '5 Seconds of Summer',\n",
       "       ...\n",
       "       'ýýýýýýýýýý', 'ýýýýýýýýýý ýýýýýýýý', 'ýýýýýýýýýýýý',\n",
       "       'ýýýýýýýýýýýý ýýýýýýýýýýýýýý',\n",
       "       'ýýýýýýýýýýýý ýýýýýýýýýýýýýýýýýýýýýýýýýýý',\n",
       "       'ýýýýýýýýýýýýýýý ýýýýýýýýýýýýýýý', 'ýýýýýýýýýýýýýýý(ýýýýýýýýýýýýýýý)',\n",
       "       'ýýýýýýýýýýýýýýýýýý', 'ýýýýýýýýýýýýýýýýýýýýý ýýýýýýýýýýýýýýýýýýýýý',\n",
       "       'ýýýýýýýýýýýýýýýýýýýýýýýý'],\n",
       "      dtype='object', name='artist', length=1321)"
      ]
     },
     "execution_count": 16,
     "metadata": {},
     "output_type": "execute_result"
    }
   ],
   "source": [
    "explicit_status = spotify_songs.groupby('artist')['explicit_track'].any() #Group by artist and check if any song is explicit\n",
    "clean_mouthed_artists = explicit_status[~explicit_status].index #Take only the artists that have no explicit songs\n",
    "clean_mouthed_artists"
   ]
  },
  {
   "cell_type": "markdown",
   "id": "44b05a62-66b2-4fc4-8db7-a55d7393bee0",
   "metadata": {
    "tags": []
   },
   "source": [
    "Now let's find the top 5 \"clean-mouthed\" artists with most songs"
   ]
  },
  {
   "cell_type": "code",
   "execution_count": 18,
   "id": "ab629710-4c2a-4854-a356-c0de3c4a3608",
   "metadata": {
    "tags": []
   },
   "outputs": [
    {
     "data": {
      "text/plain": [
       "artist\n",
       "Imagine Dragons    16\n",
       "BTS                14\n",
       "Linkin Park        13\n",
       "Luke Combs         13\n",
       "Bruno Mars         12\n",
       "dtype: int64"
      ]
     },
     "execution_count": 18,
     "metadata": {},
     "output_type": "execute_result"
    }
   ],
   "source": [
    "filter_explicit_artists = spotify_songs[spotify_songs.artist.isin(clean_mouthed_artists)]\n",
    "song_count = filter_explicit_artists.groupby(\"artist\").size()\n",
    "top_non_explicit_artists = song_count.sort_values(ascending = False).head(5)\n",
    "top_non_explicit_artists"
   ]
  },
  {
   "cell_type": "markdown",
   "id": "24954a61-1f35-4eaa-972a-c4f68c528007",
   "metadata": {},
   "source": [
    "We can see that artists with explicit songs have SIGNIFICANTLY more entries in the leaderboard of the most streamed songs."
   ]
  },
  {
   "cell_type": "markdown",
   "id": "25ee2949-c7ce-4c30-8836-1fa443d245e9",
   "metadata": {},
   "source": [
    "### Problem 4. Most streamed artists (1 point)\n",
    "And who are the top five most streamed (as measured by Spotify streams) artists?"
   ]
  },
  {
   "cell_type": "code",
   "execution_count": 21,
   "id": "f88446ac-9ed4-4898-a469-7da622ea5b98",
   "metadata": {
    "tags": []
   },
   "outputs": [
    {
     "data": {
      "text/plain": [
       "0         390,470,936\n",
       "1         323,703,884\n",
       "2         601,309,283\n",
       "3       2,031,280,633\n",
       "4         107,034,922\n",
       "            ...      \n",
       "4595      305,049,963\n",
       "4596       52,282,360\n",
       "4597      189,972,685\n",
       "4598      145,467,020\n",
       "4599      255,740,653\n",
       "Name: spotify_streams, Length: 4600, dtype: object"
      ]
     },
     "execution_count": 21,
     "metadata": {},
     "output_type": "execute_result"
    }
   ],
   "source": [
    "spotify_songs.spotify_streams"
   ]
  },
  {
   "cell_type": "markdown",
   "id": "6a06df39-7a62-4208-9f17-974ad3ad061b",
   "metadata": {},
   "source": [
    "The column is currently of type 'object'. I will first need to turn it to integer type."
   ]
  },
  {
   "cell_type": "code",
   "execution_count": 23,
   "id": "a4391e0b-ae1e-4df9-bc43-7c65751cffea",
   "metadata": {
    "tags": []
   },
   "outputs": [],
   "source": [
    "clean_streams = spotify_songs.spotify_streams\n",
    "clean_streams.fillna(\"0\", inplace = True) #Fill the missing values with 0\n",
    "clean_streams = clean_streams.apply(lambda x: x.replace(\",\", \"\")).astype('int64') #Remove the commas\n",
    "spotify_songs.spotify_streams = pd.to_numeric(clean_streams)"
   ]
  },
  {
   "cell_type": "code",
   "execution_count": 24,
   "id": "aeb0384d-daa4-482e-b5ff-dbe8abca0688",
   "metadata": {
    "tags": []
   },
   "outputs": [
    {
     "data": {
      "text/plain": [
       "artist\n",
       "Bad Bunny       37054834425\n",
       "The Weeknd      36948540278\n",
       "Drake           34962157577\n",
       "Taylor Swift    34470771165\n",
       "Post Malone     26137472958\n",
       "Name: spotify_streams, dtype: int64"
      ]
     },
     "execution_count": 24,
     "metadata": {},
     "output_type": "execute_result"
    }
   ],
   "source": [
    "artist_streams = spotify_songs.groupby(\"artist\")[\"spotify_streams\"].sum()\n",
    "most_streamed_artists = artist_streams.sort_values(ascending = False).head(5)\n",
    "most_streamed_artists"
   ]
  },
  {
   "cell_type": "markdown",
   "id": "30fa25c3-abd4-4f04-859a-e00e781adaa8",
   "metadata": {},
   "source": [
    "### Problem 5. Songs by year and month (1 point)\n",
    "How many songs have been released each year? Present an appropriate plot. Can you explain the behavior of the plot for 2024?\n",
    "\n",
    "How about months? Is / Are there (a) popular month(s) to release music?"
   ]
  },
  {
   "cell_type": "markdown",
   "id": "b4306dff-b8be-4721-88e9-b9ce9c5edbc2",
   "metadata": {},
   "source": [
    "Let's check out the release_date column:"
   ]
  },
  {
   "cell_type": "code",
   "execution_count": 27,
   "id": "bf6c6ee4-8d79-4906-9344-55688e4aaf3a",
   "metadata": {
    "tags": []
   },
   "outputs": [
    {
     "data": {
      "text/plain": [
       "0       4/26/2024\n",
       "1        5/4/2024\n",
       "2       3/19/2024\n",
       "3       1/12/2023\n",
       "4       5/31/2024\n",
       "          ...    \n",
       "4595     9/5/2017\n",
       "4596    7/27/2018\n",
       "4597    2/28/2020\n",
       "4598    11/8/2016\n",
       "4599    4/11/2017\n",
       "Name: release_date, Length: 4600, dtype: object"
      ]
     },
     "execution_count": 27,
     "metadata": {},
     "output_type": "execute_result"
    }
   ],
   "source": [
    "spotify_songs.release_date"
   ]
  },
  {
   "cell_type": "markdown",
   "id": "cc5c8cec-2a01-4354-bd4b-42047360fd84",
   "metadata": {},
   "source": [
    "Currently it is of type 'object'. Let's transfotm it into datetime and extract the year into a new column."
   ]
  },
  {
   "cell_type": "code",
   "execution_count": 29,
   "id": "5f125584-744f-4b7f-ba18-66583282b6ba",
   "metadata": {},
   "outputs": [
    {
     "data": {
      "text/plain": [
       "array([2024, 2023, 2022, 2021, 2015, 2019, 2017, 2020, 2018, 2016, 2011,\n",
       "       2013, 2014, 2012, 2010, 2009, 2000, 2005, 2004, 1994, 2008, 2002,\n",
       "       2007, 2003, 2006, 1999, 1987, 1998, 2001, 1991])"
      ]
     },
     "execution_count": 29,
     "metadata": {},
     "output_type": "execute_result"
    }
   ],
   "source": [
    "spotify_songs.release_date = pd.to_datetime(spotify_songs.release_date)\n",
    "spotify_songs.release_date.dt.year.unique()"
   ]
  },
  {
   "cell_type": "code",
   "execution_count": 30,
   "id": "6be9d488-88ad-45a3-bfa8-3434921f578a",
   "metadata": {
    "tags": []
   },
   "outputs": [],
   "source": [
    "spotify_songs[\"release_year\"] = spotify_songs.release_date.dt.year"
   ]
  },
  {
   "cell_type": "markdown",
   "id": "6b2a947f-b812-4ae5-b58a-6eab4a3eea08",
   "metadata": {},
   "source": [
    "Now let's group the entries by their release year and show the count of entries for each year:"
   ]
  },
  {
   "cell_type": "code",
   "execution_count": 32,
   "id": "635aff0a-2588-43b3-b97a-8b7ca743a6a9",
   "metadata": {
    "tags": []
   },
   "outputs": [
    {
     "data": {
      "text/html": [
       "<div>\n",
       "<style scoped>\n",
       "    .dataframe tbody tr th:only-of-type {\n",
       "        vertical-align: middle;\n",
       "    }\n",
       "\n",
       "    .dataframe tbody tr th {\n",
       "        vertical-align: top;\n",
       "    }\n",
       "\n",
       "    .dataframe thead th {\n",
       "        text-align: right;\n",
       "    }\n",
       "</style>\n",
       "<table border=\"1\" class=\"dataframe\">\n",
       "  <thead>\n",
       "    <tr style=\"text-align: right;\">\n",
       "      <th></th>\n",
       "      <th>release_year</th>\n",
       "      <th>songs_count</th>\n",
       "    </tr>\n",
       "  </thead>\n",
       "  <tbody>\n",
       "    <tr>\n",
       "      <th>0</th>\n",
       "      <td>1987</td>\n",
       "      <td>1</td>\n",
       "    </tr>\n",
       "    <tr>\n",
       "      <th>1</th>\n",
       "      <td>1991</td>\n",
       "      <td>1</td>\n",
       "    </tr>\n",
       "    <tr>\n",
       "      <th>2</th>\n",
       "      <td>1994</td>\n",
       "      <td>1</td>\n",
       "    </tr>\n",
       "    <tr>\n",
       "      <th>3</th>\n",
       "      <td>1998</td>\n",
       "      <td>1</td>\n",
       "    </tr>\n",
       "    <tr>\n",
       "      <th>4</th>\n",
       "      <td>1999</td>\n",
       "      <td>1</td>\n",
       "    </tr>\n",
       "    <tr>\n",
       "      <th>5</th>\n",
       "      <td>2000</td>\n",
       "      <td>2</td>\n",
       "    </tr>\n",
       "    <tr>\n",
       "      <th>6</th>\n",
       "      <td>2001</td>\n",
       "      <td>1</td>\n",
       "    </tr>\n",
       "    <tr>\n",
       "      <th>7</th>\n",
       "      <td>2002</td>\n",
       "      <td>5</td>\n",
       "    </tr>\n",
       "    <tr>\n",
       "      <th>8</th>\n",
       "      <td>2003</td>\n",
       "      <td>3</td>\n",
       "    </tr>\n",
       "    <tr>\n",
       "      <th>9</th>\n",
       "      <td>2004</td>\n",
       "      <td>5</td>\n",
       "    </tr>\n",
       "    <tr>\n",
       "      <th>10</th>\n",
       "      <td>2005</td>\n",
       "      <td>5</td>\n",
       "    </tr>\n",
       "    <tr>\n",
       "      <th>11</th>\n",
       "      <td>2006</td>\n",
       "      <td>3</td>\n",
       "    </tr>\n",
       "    <tr>\n",
       "      <th>12</th>\n",
       "      <td>2007</td>\n",
       "      <td>5</td>\n",
       "    </tr>\n",
       "    <tr>\n",
       "      <th>13</th>\n",
       "      <td>2008</td>\n",
       "      <td>11</td>\n",
       "    </tr>\n",
       "    <tr>\n",
       "      <th>14</th>\n",
       "      <td>2009</td>\n",
       "      <td>15</td>\n",
       "    </tr>\n",
       "    <tr>\n",
       "      <th>15</th>\n",
       "      <td>2010</td>\n",
       "      <td>27</td>\n",
       "    </tr>\n",
       "    <tr>\n",
       "      <th>16</th>\n",
       "      <td>2011</td>\n",
       "      <td>51</td>\n",
       "    </tr>\n",
       "    <tr>\n",
       "      <th>17</th>\n",
       "      <td>2012</td>\n",
       "      <td>47</td>\n",
       "    </tr>\n",
       "    <tr>\n",
       "      <th>18</th>\n",
       "      <td>2013</td>\n",
       "      <td>55</td>\n",
       "    </tr>\n",
       "    <tr>\n",
       "      <th>19</th>\n",
       "      <td>2014</td>\n",
       "      <td>70</td>\n",
       "    </tr>\n",
       "    <tr>\n",
       "      <th>20</th>\n",
       "      <td>2015</td>\n",
       "      <td>96</td>\n",
       "    </tr>\n",
       "    <tr>\n",
       "      <th>21</th>\n",
       "      <td>2016</td>\n",
       "      <td>123</td>\n",
       "    </tr>\n",
       "    <tr>\n",
       "      <th>22</th>\n",
       "      <td>2017</td>\n",
       "      <td>213</td>\n",
       "    </tr>\n",
       "    <tr>\n",
       "      <th>23</th>\n",
       "      <td>2018</td>\n",
       "      <td>249</td>\n",
       "    </tr>\n",
       "    <tr>\n",
       "      <th>24</th>\n",
       "      <td>2019</td>\n",
       "      <td>296</td>\n",
       "    </tr>\n",
       "    <tr>\n",
       "      <th>25</th>\n",
       "      <td>2020</td>\n",
       "      <td>360</td>\n",
       "    </tr>\n",
       "    <tr>\n",
       "      <th>26</th>\n",
       "      <td>2021</td>\n",
       "      <td>408</td>\n",
       "    </tr>\n",
       "    <tr>\n",
       "      <th>27</th>\n",
       "      <td>2022</td>\n",
       "      <td>694</td>\n",
       "    </tr>\n",
       "    <tr>\n",
       "      <th>28</th>\n",
       "      <td>2023</td>\n",
       "      <td>1158</td>\n",
       "    </tr>\n",
       "    <tr>\n",
       "      <th>29</th>\n",
       "      <td>2024</td>\n",
       "      <td>693</td>\n",
       "    </tr>\n",
       "  </tbody>\n",
       "</table>\n",
       "</div>"
      ],
      "text/plain": [
       "    release_year  songs_count\n",
       "0           1987            1\n",
       "1           1991            1\n",
       "2           1994            1\n",
       "3           1998            1\n",
       "4           1999            1\n",
       "5           2000            2\n",
       "6           2001            1\n",
       "7           2002            5\n",
       "8           2003            3\n",
       "9           2004            5\n",
       "10          2005            5\n",
       "11          2006            3\n",
       "12          2007            5\n",
       "13          2008           11\n",
       "14          2009           15\n",
       "15          2010           27\n",
       "16          2011           51\n",
       "17          2012           47\n",
       "18          2013           55\n",
       "19          2014           70\n",
       "20          2015           96\n",
       "21          2016          123\n",
       "22          2017          213\n",
       "23          2018          249\n",
       "24          2019          296\n",
       "25          2020          360\n",
       "26          2021          408\n",
       "27          2022          694\n",
       "28          2023         1158\n",
       "29          2024          693"
      ]
     },
     "execution_count": 32,
     "metadata": {},
     "output_type": "execute_result"
    }
   ],
   "source": [
    "songs_per_year = spotify_songs.groupby(\"release_year\").size().reset_index(name = \"songs_count\")\n",
    "songs_per_year"
   ]
  },
  {
   "cell_type": "code",
   "execution_count": 33,
   "id": "2d1da369-e357-4cae-b283-d57842d2103a",
   "metadata": {
    "tags": []
   },
   "outputs": [],
   "source": [
    "years = range(songs_per_year.release_year.min(), songs_per_year.release_year.max() + 1)"
   ]
  },
  {
   "cell_type": "code",
   "execution_count": 34,
   "id": "1e78014a-3c7f-4bd0-971b-e240c1c5944f",
   "metadata": {
    "tags": []
   },
   "outputs": [
    {
     "data": {
      "image/png": "[encoded data removed]",
      "text/plain": [
       "<Figure size 1300x600 with 1 Axes>"
      ]
     },
     "metadata": {},
     "output_type": "display_data"
    }
   ],
   "source": [
    "plt.figure(figsize=(13,6))\n",
    "plt.bar(songs_per_year.release_year, songs_per_year.songs_count, color = \"teal\")\n",
    "\n",
    "plt.xticks(ticks = years[1::2], labels = years[1::2])\n",
    "plt.ylabel(\"Number of songs\")\n",
    "plt.xlabel(\"Release year\")\n",
    "\n",
    "plt.show()"
   ]
  },
  {
   "cell_type": "markdown",
   "id": "c9cfdf71-90c3-4c91-8b8b-59c08d72e618",
   "metadata": {},
   "source": [
    "We can see that the biggest part of the most streamed songs in 2024 are songs, released in 2023, which makes a lot of sense, considering they were released the soonest. The songs that were released in 2024, should logically be more, but the year isn't over, so there aren't that many songs released yet this year, compared to 2023.\n",
    "\n",
    "Now let's check the number of songs released per month. We have to extract the months from the release date and then group by them. I will exclude songs, released during 2024, because the year isn't over yet."
   ]
  },
  {
   "cell_type": "code",
   "execution_count": 36,
   "id": "c816c3ad-bf38-4595-a34a-352ef607e634",
   "metadata": {
    "tags": []
   },
   "outputs": [],
   "source": [
    "spotify_songs[\"release_month\"] = spotify_songs.release_date.dt.month\n",
    "songs_per_month = spotify_songs[spotify_songs.release_year < 2024].groupby(\"release_month\").size().reset_index(name = \"songs_count\")"
   ]
  },
  {
   "cell_type": "markdown",
   "id": "00afa196-fc47-4f44-85af-e28be742ca53",
   "metadata": {},
   "source": [
    "Doing this we get numbers, corresponding to the month. Directly getting the month name results in alphabetically sorted months, which is not how we usually want to display them, so now let's transform the number into the corresponding month name:"
   ]
  },
  {
   "cell_type": "code",
   "execution_count": 38,
   "id": "4e08ace1-a862-4fab-aa41-e6c2cf6c280c",
   "metadata": {
    "tags": []
   },
   "outputs": [
    {
     "data": {
      "text/html": [
       "<div>\n",
       "<style scoped>\n",
       "    .dataframe tbody tr th:only-of-type {\n",
       "        vertical-align: middle;\n",
       "    }\n",
       "\n",
       "    .dataframe tbody tr th {\n",
       "        vertical-align: top;\n",
       "    }\n",
       "\n",
       "    .dataframe thead th {\n",
       "        text-align: right;\n",
       "    }\n",
       "</style>\n",
       "<table border=\"1\" class=\"dataframe\">\n",
       "  <thead>\n",
       "    <tr style=\"text-align: right;\">\n",
       "      <th></th>\n",
       "      <th>release_month</th>\n",
       "      <th>songs_count</th>\n",
       "    </tr>\n",
       "  </thead>\n",
       "  <tbody>\n",
       "    <tr>\n",
       "      <th>0</th>\n",
       "      <td>January</td>\n",
       "      <td>431</td>\n",
       "    </tr>\n",
       "    <tr>\n",
       "      <th>1</th>\n",
       "      <td>February</td>\n",
       "      <td>267</td>\n",
       "    </tr>\n",
       "    <tr>\n",
       "      <th>2</th>\n",
       "      <td>March</td>\n",
       "      <td>297</td>\n",
       "    </tr>\n",
       "    <tr>\n",
       "      <th>3</th>\n",
       "      <td>April</td>\n",
       "      <td>257</td>\n",
       "    </tr>\n",
       "    <tr>\n",
       "      <th>4</th>\n",
       "      <td>May</td>\n",
       "      <td>337</td>\n",
       "    </tr>\n",
       "    <tr>\n",
       "      <th>5</th>\n",
       "      <td>June</td>\n",
       "      <td>348</td>\n",
       "    </tr>\n",
       "    <tr>\n",
       "      <th>6</th>\n",
       "      <td>July</td>\n",
       "      <td>321</td>\n",
       "    </tr>\n",
       "    <tr>\n",
       "      <th>7</th>\n",
       "      <td>August</td>\n",
       "      <td>315</td>\n",
       "    </tr>\n",
       "    <tr>\n",
       "      <th>8</th>\n",
       "      <td>September</td>\n",
       "      <td>328</td>\n",
       "    </tr>\n",
       "    <tr>\n",
       "      <th>9</th>\n",
       "      <td>October</td>\n",
       "      <td>384</td>\n",
       "    </tr>\n",
       "    <tr>\n",
       "      <th>10</th>\n",
       "      <td>November</td>\n",
       "      <td>350</td>\n",
       "    </tr>\n",
       "    <tr>\n",
       "      <th>11</th>\n",
       "      <td>December</td>\n",
       "      <td>272</td>\n",
       "    </tr>\n",
       "  </tbody>\n",
       "</table>\n",
       "</div>"
      ],
      "text/plain": [
       "   release_month  songs_count\n",
       "0        January          431\n",
       "1       February          267\n",
       "2          March          297\n",
       "3          April          257\n",
       "4            May          337\n",
       "5           June          348\n",
       "6           July          321\n",
       "7         August          315\n",
       "8      September          328\n",
       "9        October          384\n",
       "10      November          350\n",
       "11      December          272"
      ]
     },
     "execution_count": 38,
     "metadata": {},
     "output_type": "execute_result"
    }
   ],
   "source": [
    "songs_per_month.release_month = pd.to_datetime(songs_per_month.release_month, format = \"%m\").dt.month_name()\n",
    "songs_per_month"
   ]
  },
  {
   "cell_type": "code",
   "execution_count": 39,
   "id": "66224e6b-d62f-4e50-ab58-5fd801611b40",
   "metadata": {
    "tags": []
   },
   "outputs": [
    {
     "data": {
      "image/png": "[encoded data removed]",
      "text/plain": [
       "<Figure size 1300x1000 with 1 Axes>"
      ]
     },
     "metadata": {},
     "output_type": "display_data"
    }
   ],
   "source": [
    "plt.figure(figsize=(13,10))\n",
    "plt.bar(songs_per_month.release_month, songs_per_month.songs_count, color = \"teal\")\n",
    "\n",
    "plt.xlabel(\"Release month\")\n",
    "plt.ylabel(\"Number of songs\")\n",
    "\n",
    "plt.show()"
   ]
  },
  {
   "cell_type": "markdown",
   "id": "31ed3676-ee18-4ee4-8133-628392dc6aee",
   "metadata": {},
   "source": [
    "It looks like January is the month with the highest number of entries in the most streamed songs in 2024."
   ]
  },
  {
   "cell_type": "markdown",
   "id": "d83c5535-72dc-4670-81a3-8ca244233a46",
   "metadata": {},
   "source": [
    "### Problem 6. Playlists (2 points)\n",
    "Is there any connection (correlation) between users adding a song to playlists in one service, or another? Only Spotify, Apple, Deezer, and Amazon offer the ability to add a song to a playlist. Find a way to plot all these relationships at the same time, and analyze them. Experiment with different types of correlations."
   ]
  },
  {
   "cell_type": "markdown",
   "id": "be952da1-7f91-4271-972e-0bb47d3d4402",
   "metadata": {},
   "source": [
    "Lets take a look at the playlist counts for the different platforms:"
   ]
  },
  {
   "cell_type": "code",
   "execution_count": 43,
   "id": "ecf24350-6c36-4a7f-9a00-63d6592daa26",
   "metadata": {
    "tags": []
   },
   "outputs": [
    {
     "name": "stdout",
     "output_type": "stream",
     "text": [
      "<class 'pandas.core.frame.DataFrame'>\n",
      "RangeIndex: 4600 entries, 0 to 4599\n",
      "Data columns (total 4 columns):\n",
      " #   Column                      Non-Null Count  Dtype  \n",
      "---  ------                      --------------  -----  \n",
      " 0   spotify_playlist_count      4530 non-null   object \n",
      " 1   apple_music_playlist_count  4039 non-null   float64\n",
      " 2   deezer_playlist_count       3679 non-null   float64\n",
      " 3   amazon_playlist_count       3545 non-null   float64\n",
      "dtypes: float64(3), object(1)\n",
      "memory usage: 143.9+ KB\n"
     ]
    }
   ],
   "source": [
    "playlist_count = spotify_songs[[\"spotify_playlist_count\", \"apple_music_playlist_count\", \"deezer_playlist_count\", \"amazon_playlist_count\"]]\n",
    "playlist_count.info()"
   ]
  },
  {
   "cell_type": "markdown",
   "id": "e206926d-29fd-4886-bf6a-832f0c00546f",
   "metadata": {},
   "source": [
    "One column is of type object and three are of type float. They should all be of type int. Lets first convert the spotify_playlist_count, which has numbers separated by a comma:"
   ]
  },
  {
   "cell_type": "code",
   "execution_count": 45,
   "id": "5b5e7fab-7b31-4830-b3ba-2053e8dd8405",
   "metadata": {
    "tags": []
   },
   "outputs": [
    {
     "data": {
      "text/plain": [
       "0        30,716\n",
       "1        28,113\n",
       "2        54,331\n",
       "3       269,802\n",
       "4         7,223\n",
       "         ...   \n",
       "4595     65,770\n",
       "4596      4,602\n",
       "4597     72,066\n",
       "4598     14,037\n",
       "4599     32,138\n",
       "Name: spotify_playlist_count, Length: 4600, dtype: object"
      ]
     },
     "execution_count": 45,
     "metadata": {},
     "output_type": "execute_result"
    }
   ],
   "source": [
    "playlist_count.spotify_playlist_count"
   ]
  },
  {
   "cell_type": "code",
   "execution_count": 46,
   "id": "923e65da-9332-4970-86d7-ae84923793ca",
   "metadata": {
    "tags": []
   },
   "outputs": [
    {
     "name": "stderr",
     "output_type": "stream",
     "text": [
      "C:\\Users\\ferad\\AppData\\Local\\Temp\\ipykernel_1884\\147143637.py:1: SettingWithCopyWarning: \n",
      "A value is trying to be set on a copy of a slice from a DataFrame.\n",
      "Try using .loc[row_indexer,col_indexer] = value instead\n",
      "\n",
      "See the caveats in the documentation: https://pandas.pydata.org/pandas-docs/stable/user_guide/indexing.html#returning-a-view-versus-a-copy\n",
      "  playlist_count.spotify_playlist_count = playlist_count.spotify_playlist_count.str.replace(\",\", \"\").fillna(\"0\") #Remove the commas and fill missing values\n",
      "C:\\Users\\ferad\\AppData\\Local\\Temp\\ipykernel_1884\\147143637.py:2: SettingWithCopyWarning: \n",
      "A value is trying to be set on a copy of a slice from a DataFrame.\n",
      "Try using .loc[row_indexer,col_indexer] = value instead\n",
      "\n",
      "See the caveats in the documentation: https://pandas.pydata.org/pandas-docs/stable/user_guide/indexing.html#returning-a-view-versus-a-copy\n",
      "  playlist_count.spotify_playlist_count = playlist_count.spotify_playlist_count.astype(\"int\")\n"
     ]
    }
   ],
   "source": [
    "playlist_count.spotify_playlist_count = playlist_count.spotify_playlist_count.str.replace(\",\", \"\").fillna(\"0\") #Remove the commas and fill missing values\n",
    "playlist_count.spotify_playlist_count = playlist_count.spotify_playlist_count.astype(\"int\")"
   ]
  },
  {
   "cell_type": "markdown",
   "id": "71f1ad9b-5d42-4cc2-964b-7bddbd714aa2",
   "metadata": {},
   "source": [
    "The other three are easier to convert. Just fill the missing values and cast them as integers."
   ]
  },
  {
   "cell_type": "code",
   "execution_count": 48,
   "id": "e8db16b1-4147-4b72-a42f-25943b18cedc",
   "metadata": {
    "tags": []
   },
   "outputs": [
    {
     "name": "stderr",
     "output_type": "stream",
     "text": [
      "C:\\Users\\ferad\\AppData\\Local\\Temp\\ipykernel_1884\\2992587998.py:1: SettingWithCopyWarning: \n",
      "A value is trying to be set on a copy of a slice from a DataFrame.\n",
      "Try using .loc[row_indexer,col_indexer] = value instead\n",
      "\n",
      "See the caveats in the documentation: https://pandas.pydata.org/pandas-docs/stable/user_guide/indexing.html#returning-a-view-versus-a-copy\n",
      "  playlist_count.apple_music_playlist_count = playlist_count.apple_music_playlist_count.fillna(0).astype(\"int\")\n",
      "C:\\Users\\ferad\\AppData\\Local\\Temp\\ipykernel_1884\\2992587998.py:2: SettingWithCopyWarning: \n",
      "A value is trying to be set on a copy of a slice from a DataFrame.\n",
      "Try using .loc[row_indexer,col_indexer] = value instead\n",
      "\n",
      "See the caveats in the documentation: https://pandas.pydata.org/pandas-docs/stable/user_guide/indexing.html#returning-a-view-versus-a-copy\n",
      "  playlist_count.deezer_playlist_count = playlist_count.deezer_playlist_count.fillna(0).astype(\"int\")\n",
      "C:\\Users\\ferad\\AppData\\Local\\Temp\\ipykernel_1884\\2992587998.py:3: SettingWithCopyWarning: \n",
      "A value is trying to be set on a copy of a slice from a DataFrame.\n",
      "Try using .loc[row_indexer,col_indexer] = value instead\n",
      "\n",
      "See the caveats in the documentation: https://pandas.pydata.org/pandas-docs/stable/user_guide/indexing.html#returning-a-view-versus-a-copy\n",
      "  playlist_count.amazon_playlist_count = playlist_count.amazon_playlist_count.fillna(0).astype(\"int\")\n"
     ]
    }
   ],
   "source": [
    "playlist_count.apple_music_playlist_count = playlist_count.apple_music_playlist_count.fillna(0).astype(\"int\")\n",
    "playlist_count.deezer_playlist_count = playlist_count.deezer_playlist_count.fillna(0).astype(\"int\")\n",
    "playlist_count.amazon_playlist_count = playlist_count.amazon_playlist_count.fillna(0).astype(\"int\")"
   ]
  },
  {
   "cell_type": "code",
   "execution_count": 49,
   "id": "9ae10c5e-3ef2-4d86-b12e-3b1be6695de8",
   "metadata": {
    "tags": []
   },
   "outputs": [
    {
     "name": "stdout",
     "output_type": "stream",
     "text": [
      "<class 'pandas.core.frame.DataFrame'>\n",
      "RangeIndex: 4600 entries, 0 to 4599\n",
      "Data columns (total 4 columns):\n",
      " #   Column                      Non-Null Count  Dtype\n",
      "---  ------                      --------------  -----\n",
      " 0   spotify_playlist_count      4600 non-null   int32\n",
      " 1   apple_music_playlist_count  4600 non-null   int32\n",
      " 2   deezer_playlist_count       4600 non-null   int32\n",
      " 3   amazon_playlist_count       4600 non-null   int32\n",
      "dtypes: int32(4)\n",
      "memory usage: 72.0 KB\n"
     ]
    }
   ],
   "source": [
    "playlist_count.info()"
   ]
  },
  {
   "cell_type": "markdown",
   "id": "1197425e-e5cd-437c-b176-cfcd30e2692d",
   "metadata": {},
   "source": [
    "They have successfully been converted. Now lets show the correlations. We will create a function to each correlation type easier."
   ]
  },
  {
   "cell_type": "code",
   "execution_count": 51,
   "id": "cee3cbff-b716-429a-836b-a016f268341b",
   "metadata": {
    "tags": []
   },
   "outputs": [
    {
     "data": {
      "image/png": "[encoded data removed]",
      "text/plain": [
       "<Figure size 800x600 with 2 Axes>"
      ]
     },
     "metadata": {},
     "output_type": "display_data"
    },
    {
     "data": {
      "image/png": "[encoded data removed]",
      "text/plain": [
       "<Figure size 800x600 with 2 Axes>"
      ]
     },
     "metadata": {},
     "output_type": "display_data"
    },
    {
     "data": {
      "image/png": "[encoded data removed]",
      "text/plain": [
       "<Figure size 800x600 with 2 Axes>"
      ]
     },
     "metadata": {},
     "output_type": "display_data"
    }
   ],
   "source": [
    "def plot_correlation(correlation_method, data):\n",
    "    correlation_matrix = playlist_count.corr(method = correlation_method)\n",
    "    \n",
    "    plt.figure(figsize=(8, 6))\n",
    "    sns.heatmap(correlation_matrix, annot=True, cmap='coolwarm', vmin=-1, vmax=1)\n",
    "    plt.title(f'{correlation_method} Correlation Matrix of Playlist Counts')\n",
    "    plt.show()\n",
    "\n",
    "plot_correlation(\"pearson\", playlist_count)\n",
    "plot_correlation(\"kendall\", playlist_count)\n",
    "plot_correlation(\"spearman\", playlist_count)"
   ]
  },
  {
   "cell_type": "markdown",
   "id": "55b2bc7d-87b3-42ba-9e04-c644da9203cf",
   "metadata": {},
   "source": [
    "There seems to be a moderate to strong correlation between the playlist counts of the different platforms for each song. This makes sense, considering that if a song is popular on one platform, it is pretty likely to also be popular on the others."
   ]
  },
  {
   "cell_type": "markdown",
   "id": "e78b8307-de74-4cb4-ba61-da4e7c9fc6c6",
   "metadata": {},
   "source": [
    "### Problem 7. YouTube views and likes (1 point)\n",
    "What is the relationship between YouTube views and likes? Present an appropriate plot. \n",
    "\n",
    "What is the mean YouTube views-to-likes ratio? What is its distribution? Find a way to plot it and describe it."
   ]
  },
  {
   "cell_type": "code",
   "execution_count": 54,
   "id": "bf3c3dd5-7466-4dec-9fc3-14a5690da4b4",
   "metadata": {},
   "outputs": [
    {
     "data": {
      "text/html": [
       "<div>\n",
       "<style scoped>\n",
       "    .dataframe tbody tr th:only-of-type {\n",
       "        vertical-align: middle;\n",
       "    }\n",
       "\n",
       "    .dataframe tbody tr th {\n",
       "        vertical-align: top;\n",
       "    }\n",
       "\n",
       "    .dataframe thead th {\n",
       "        text-align: right;\n",
       "    }\n",
       "</style>\n",
       "<table border=\"1\" class=\"dataframe\">\n",
       "  <thead>\n",
       "    <tr style=\"text-align: right;\">\n",
       "      <th></th>\n",
       "      <th>youtube_views</th>\n",
       "      <th>youtube_likes</th>\n",
       "    </tr>\n",
       "  </thead>\n",
       "  <tbody>\n",
       "    <tr>\n",
       "      <th>0</th>\n",
       "      <td>84,274,754</td>\n",
       "      <td>1,713,126</td>\n",
       "    </tr>\n",
       "    <tr>\n",
       "      <th>1</th>\n",
       "      <td>116,347,040</td>\n",
       "      <td>3,486,739</td>\n",
       "    </tr>\n",
       "    <tr>\n",
       "      <th>2</th>\n",
       "      <td>122,599,116</td>\n",
       "      <td>2,228,730</td>\n",
       "    </tr>\n",
       "    <tr>\n",
       "      <th>3</th>\n",
       "      <td>1,096,100,899</td>\n",
       "      <td>10,629,796</td>\n",
       "    </tr>\n",
       "    <tr>\n",
       "      <th>4</th>\n",
       "      <td>77,373,957</td>\n",
       "      <td>3,670,188</td>\n",
       "    </tr>\n",
       "    <tr>\n",
       "      <th>...</th>\n",
       "      <td>...</td>\n",
       "      <td>...</td>\n",
       "    </tr>\n",
       "    <tr>\n",
       "      <th>4595</th>\n",
       "      <td>149,247,747</td>\n",
       "      <td>1,397,590</td>\n",
       "    </tr>\n",
       "    <tr>\n",
       "      <th>4596</th>\n",
       "      <td>943,920,245</td>\n",
       "      <td>5,347,766</td>\n",
       "    </tr>\n",
       "    <tr>\n",
       "      <th>4597</th>\n",
       "      <td>201,027,333</td>\n",
       "      <td>1,081,402</td>\n",
       "    </tr>\n",
       "    <tr>\n",
       "      <th>4598</th>\n",
       "      <td>1,118,595,159</td>\n",
       "      <td>3,868,828</td>\n",
       "    </tr>\n",
       "    <tr>\n",
       "      <th>4599</th>\n",
       "      <td>866,300,755</td>\n",
       "      <td>3,826,829</td>\n",
       "    </tr>\n",
       "  </tbody>\n",
       "</table>\n",
       "<p>4600 rows × 2 columns</p>\n",
       "</div>"
      ],
      "text/plain": [
       "      youtube_views youtube_likes\n",
       "0        84,274,754     1,713,126\n",
       "1       116,347,040     3,486,739\n",
       "2       122,599,116     2,228,730\n",
       "3     1,096,100,899    10,629,796\n",
       "4        77,373,957     3,670,188\n",
       "...             ...           ...\n",
       "4595    149,247,747     1,397,590\n",
       "4596    943,920,245     5,347,766\n",
       "4597    201,027,333     1,081,402\n",
       "4598  1,118,595,159     3,868,828\n",
       "4599    866,300,755     3,826,829\n",
       "\n",
       "[4600 rows x 2 columns]"
      ]
     },
     "execution_count": 54,
     "metadata": {},
     "output_type": "execute_result"
    }
   ],
   "source": [
    "views_likes = spotify_songs[[\"youtube_views\", \"youtube_likes\"]]\n",
    "views_likes"
   ]
  },
  {
   "cell_type": "code",
   "execution_count": 55,
   "id": "1e043282-6966-4189-b23f-4a7f3baf144b",
   "metadata": {
    "tags": []
   },
   "outputs": [
    {
     "name": "stdout",
     "output_type": "stream",
     "text": [
      "<class 'pandas.core.frame.DataFrame'>\n",
      "RangeIndex: 4600 entries, 0 to 4599\n",
      "Data columns (total 2 columns):\n",
      " #   Column         Non-Null Count  Dtype \n",
      "---  ------         --------------  ----- \n",
      " 0   youtube_views  4292 non-null   object\n",
      " 1   youtube_likes  4285 non-null   object\n",
      "dtypes: object(2)\n",
      "memory usage: 72.0+ KB\n"
     ]
    }
   ],
   "source": [
    "views_likes.info()"
   ]
  },
  {
   "cell_type": "markdown",
   "id": "882639c0-1fe5-45ae-a68f-2956cc30a310",
   "metadata": {},
   "source": [
    "The column values first need to be converted to integers."
   ]
  },
  {
   "cell_type": "code",
   "execution_count": 57,
   "id": "501d525d-03a0-4c5f-994a-53dc531ec908",
   "metadata": {
    "tags": []
   },
   "outputs": [
    {
     "name": "stderr",
     "output_type": "stream",
     "text": [
      "C:\\Users\\ferad\\AppData\\Local\\Temp\\ipykernel_1884\\2453862178.py:1: SettingWithCopyWarning: \n",
      "A value is trying to be set on a copy of a slice from a DataFrame.\n",
      "Try using .loc[row_indexer,col_indexer] = value instead\n",
      "\n",
      "See the caveats in the documentation: https://pandas.pydata.org/pandas-docs/stable/user_guide/indexing.html#returning-a-view-versus-a-copy\n",
      "  views_likes.youtube_views = views_likes.youtube_views.str.replace(\",\", \"\").fillna(\"0\").astype(\"int64\")\n",
      "C:\\Users\\ferad\\AppData\\Local\\Temp\\ipykernel_1884\\2453862178.py:2: SettingWithCopyWarning: \n",
      "A value is trying to be set on a copy of a slice from a DataFrame.\n",
      "Try using .loc[row_indexer,col_indexer] = value instead\n",
      "\n",
      "See the caveats in the documentation: https://pandas.pydata.org/pandas-docs/stable/user_guide/indexing.html#returning-a-view-versus-a-copy\n",
      "  views_likes.youtube_likes = views_likes.youtube_likes.str.replace(\",\", \"\").fillna(\"0\").astype(\"int64\")\n"
     ]
    }
   ],
   "source": [
    "views_likes.youtube_views = views_likes.youtube_views.str.replace(\",\", \"\").fillna(\"0\").astype(\"int64\")\n",
    "views_likes.youtube_likes = views_likes.youtube_likes.str.replace(\",\", \"\").fillna(\"0\").astype(\"int64\")"
   ]
  },
  {
   "cell_type": "code",
   "execution_count": 58,
   "id": "7690452f-e907-48f6-9a57-29e097ff472b",
   "metadata": {
    "tags": []
   },
   "outputs": [
    {
     "data": {
      "text/html": [
       "<div>\n",
       "<style scoped>\n",
       "    .dataframe tbody tr th:only-of-type {\n",
       "        vertical-align: middle;\n",
       "    }\n",
       "\n",
       "    .dataframe tbody tr th {\n",
       "        vertical-align: top;\n",
       "    }\n",
       "\n",
       "    .dataframe thead th {\n",
       "        text-align: right;\n",
       "    }\n",
       "</style>\n",
       "<table border=\"1\" class=\"dataframe\">\n",
       "  <thead>\n",
       "    <tr style=\"text-align: right;\">\n",
       "      <th></th>\n",
       "      <th>youtube_views</th>\n",
       "      <th>youtube_likes</th>\n",
       "    </tr>\n",
       "  </thead>\n",
       "  <tbody>\n",
       "    <tr>\n",
       "      <th>youtube_views</th>\n",
       "      <td>1.000000</td>\n",
       "      <td>0.835059</td>\n",
       "    </tr>\n",
       "    <tr>\n",
       "      <th>youtube_likes</th>\n",
       "      <td>0.835059</td>\n",
       "      <td>1.000000</td>\n",
       "    </tr>\n",
       "  </tbody>\n",
       "</table>\n",
       "</div>"
      ],
      "text/plain": [
       "               youtube_views  youtube_likes\n",
       "youtube_views       1.000000       0.835059\n",
       "youtube_likes       0.835059       1.000000"
      ]
     },
     "execution_count": 58,
     "metadata": {},
     "output_type": "execute_result"
    }
   ],
   "source": [
    "views_likes.corr() #There is a very high correlation between the views and the likes"
   ]
  },
  {
   "cell_type": "code",
   "execution_count": 59,
   "id": "904a1f76-ea19-43cc-a74c-014e5808cefb",
   "metadata": {
    "tags": []
   },
   "outputs": [
    {
     "data": {
      "image/png": "[encoded data removed]",
      "text/plain": [
       "<Figure size 640x480 with 1 Axes>"
      ]
     },
     "metadata": {},
     "output_type": "display_data"
    }
   ],
   "source": [
    "plt.scatter(views_likes.youtube_views, views_likes.youtube_likes, s = 10)\n",
    "plt.xlabel(\"Youtube views\")\n",
    "plt.ylabel(\"Youtube likes\")\n",
    "\n",
    "plt.show()"
   ]
  },
  {
   "cell_type": "markdown",
   "id": "9ab0c67f-b551-4a9f-97dd-5ad9d47d3367",
   "metadata": {},
   "source": [
    "There are some outliers here that disturb the plot, but overall the ternd is the same - more views equal more likes. Lets take a closer look, by ignoring some outliers"
   ]
  },
  {
   "cell_type": "code",
   "execution_count": 61,
   "id": "7e0310b2-6626-41a6-a6f5-80674edfa5aa",
   "metadata": {
    "tags": []
   },
   "outputs": [
    {
     "data": {
      "image/png": "[encoded data removed]",
      "text/plain": [
       "<Figure size 640x480 with 1 Axes>"
      ]
     },
     "metadata": {},
     "output_type": "display_data"
    }
   ],
   "source": [
    "ignore_outliers = views_likes[(views_likes.youtube_views < 100000000) & (views_likes.youtube_likes < 1000000)]\n",
    "plt.scatter(ignore_outliers.youtube_views, ignore_outliers.youtube_likes, s = 12)\n",
    "plt.xlabel(\"Youtube views\")\n",
    "plt.ylabel(\"Youtube likes\")\n",
    "\n",
    "plt.show()"
   ]
  },
  {
   "cell_type": "markdown",
   "id": "c927182a-4a1a-4c14-af83-f45c2a53b38e",
   "metadata": {},
   "source": [
    "Here the linear increase is much more evident.\n",
    "\n",
    "To find the mean, lets drop the entries that have 0 views or 0 likes. Then create a 'ratio' column to store the ratio of views to likes"
   ]
  },
  {
   "cell_type": "code",
   "execution_count": 63,
   "id": "3aa1fc67-35e7-4c8b-8970-7ea1a54f0992",
   "metadata": {
    "tags": []
   },
   "outputs": [
    {
     "name": "stderr",
     "output_type": "stream",
     "text": [
      "C:\\Users\\ferad\\AppData\\Local\\Temp\\ipykernel_1884\\2332678443.py:2: SettingWithCopyWarning: \n",
      "A value is trying to be set on a copy of a slice from a DataFrame.\n",
      "Try using .loc[row_indexer,col_indexer] = value instead\n",
      "\n",
      "See the caveats in the documentation: https://pandas.pydata.org/pandas-docs/stable/user_guide/indexing.html#returning-a-view-versus-a-copy\n",
      "  drop_zeros[\"ratio\"] = drop_zeros.youtube_views / drop_zeros.youtube_likes\n"
     ]
    },
    {
     "data": {
      "text/html": [
       "<div>\n",
       "<style scoped>\n",
       "    .dataframe tbody tr th:only-of-type {\n",
       "        vertical-align: middle;\n",
       "    }\n",
       "\n",
       "    .dataframe tbody tr th {\n",
       "        vertical-align: top;\n",
       "    }\n",
       "\n",
       "    .dataframe thead th {\n",
       "        text-align: right;\n",
       "    }\n",
       "</style>\n",
       "<table border=\"1\" class=\"dataframe\">\n",
       "  <thead>\n",
       "    <tr style=\"text-align: right;\">\n",
       "      <th></th>\n",
       "      <th>youtube_views</th>\n",
       "      <th>youtube_likes</th>\n",
       "      <th>ratio</th>\n",
       "    </tr>\n",
       "  </thead>\n",
       "  <tbody>\n",
       "    <tr>\n",
       "      <th>0</th>\n",
       "      <td>84274754</td>\n",
       "      <td>1713126</td>\n",
       "      <td>49.193553</td>\n",
       "    </tr>\n",
       "    <tr>\n",
       "      <th>1</th>\n",
       "      <td>116347040</td>\n",
       "      <td>3486739</td>\n",
       "      <td>33.368440</td>\n",
       "    </tr>\n",
       "    <tr>\n",
       "      <th>2</th>\n",
       "      <td>122599116</td>\n",
       "      <td>2228730</td>\n",
       "      <td>55.008510</td>\n",
       "    </tr>\n",
       "    <tr>\n",
       "      <th>3</th>\n",
       "      <td>1096100899</td>\n",
       "      <td>10629796</td>\n",
       "      <td>103.115892</td>\n",
       "    </tr>\n",
       "    <tr>\n",
       "      <th>4</th>\n",
       "      <td>77373957</td>\n",
       "      <td>3670188</td>\n",
       "      <td>21.081742</td>\n",
       "    </tr>\n",
       "    <tr>\n",
       "      <th>...</th>\n",
       "      <td>...</td>\n",
       "      <td>...</td>\n",
       "      <td>...</td>\n",
       "    </tr>\n",
       "    <tr>\n",
       "      <th>4595</th>\n",
       "      <td>149247747</td>\n",
       "      <td>1397590</td>\n",
       "      <td>106.789364</td>\n",
       "    </tr>\n",
       "    <tr>\n",
       "      <th>4596</th>\n",
       "      <td>943920245</td>\n",
       "      <td>5347766</td>\n",
       "      <td>176.507395</td>\n",
       "    </tr>\n",
       "    <tr>\n",
       "      <th>4597</th>\n",
       "      <td>201027333</td>\n",
       "      <td>1081402</td>\n",
       "      <td>185.895100</td>\n",
       "    </tr>\n",
       "    <tr>\n",
       "      <th>4598</th>\n",
       "      <td>1118595159</td>\n",
       "      <td>3868828</td>\n",
       "      <td>289.130238</td>\n",
       "    </tr>\n",
       "    <tr>\n",
       "      <th>4599</th>\n",
       "      <td>866300755</td>\n",
       "      <td>3826829</td>\n",
       "      <td>226.375612</td>\n",
       "    </tr>\n",
       "  </tbody>\n",
       "</table>\n",
       "<p>4285 rows × 3 columns</p>\n",
       "</div>"
      ],
      "text/plain": [
       "      youtube_views  youtube_likes       ratio\n",
       "0          84274754        1713126   49.193553\n",
       "1         116347040        3486739   33.368440\n",
       "2         122599116        2228730   55.008510\n",
       "3        1096100899       10629796  103.115892\n",
       "4          77373957        3670188   21.081742\n",
       "...             ...            ...         ...\n",
       "4595      149247747        1397590  106.789364\n",
       "4596      943920245        5347766  176.507395\n",
       "4597      201027333        1081402  185.895100\n",
       "4598     1118595159        3868828  289.130238\n",
       "4599      866300755        3826829  226.375612\n",
       "\n",
       "[4285 rows x 3 columns]"
      ]
     },
     "execution_count": 63,
     "metadata": {},
     "output_type": "execute_result"
    }
   ],
   "source": [
    "drop_zeros = views_likes[(views_likes.youtube_likes > 0) & (views_likes.youtube_likes > 0)]\n",
    "drop_zeros[\"ratio\"] = drop_zeros.youtube_views / drop_zeros.youtube_likes\n",
    "drop_zeros"
   ]
  },
  {
   "cell_type": "code",
   "execution_count": 64,
   "id": "c9947707-498e-4d7a-9ee3-a3269f4553c1",
   "metadata": {
    "tags": []
   },
   "outputs": [
    {
     "data": {
      "text/plain": [
       "169.1161131790719"
      ]
     },
     "execution_count": 64,
     "metadata": {},
     "output_type": "execute_result"
    }
   ],
   "source": [
    "drop_zeros.ratio.mean()"
   ]
  },
  {
   "cell_type": "markdown",
   "id": "7fc028b8-362f-4d5e-9958-72ed876f83fc",
   "metadata": {},
   "source": [
    "### Problem 8. TikTok stuff (2 points)\n",
    "The most popular songs on TikTok released every year show... interesting behavior. Which years peaked the most TikTok views? Show an appropriate chart. Can you explain this behavior? For a bit of context, TikTok was created in 2016.\n",
    "\n",
    "Now, how much popular is the most popular song for each release year, than the mean popularity? Analyze the results.\n",
    "\n",
    "In both parts, it would be helpful to see the actual songs."
   ]
  },
  {
   "cell_type": "code",
   "execution_count": 66,
   "id": "3ecec32f-7ddb-449d-9b69-8157705cc319",
   "metadata": {},
   "outputs": [
    {
     "name": "stdout",
     "output_type": "stream",
     "text": [
      "<class 'pandas.core.frame.DataFrame'>\n",
      "RangeIndex: 4600 entries, 0 to 4599\n",
      "Data columns (total 30 columns):\n",
      " #   Column                      Non-Null Count  Dtype         \n",
      "---  ------                      --------------  -----         \n",
      " 0   track                       4600 non-null   object        \n",
      " 1   album_name                  4600 non-null   object        \n",
      " 2   artist                      4595 non-null   object        \n",
      " 3   release_date                4600 non-null   datetime64[ns]\n",
      " 4   isrc                        4600 non-null   object        \n",
      " 5   all_time_rank               4600 non-null   object        \n",
      " 6   track_score                 4600 non-null   float64       \n",
      " 7   spotify_streams             4600 non-null   int64         \n",
      " 8   spotify_playlist_count      4530 non-null   object        \n",
      " 9   spotify_playlist_reach      4528 non-null   object        \n",
      " 10  spotify_popularity          3796 non-null   float64       \n",
      " 11  youtube_views               4292 non-null   object        \n",
      " 12  youtube_likes               4285 non-null   object        \n",
      " 13  tiktok_posts                3427 non-null   object        \n",
      " 14  tiktok_likes                3620 non-null   object        \n",
      " 15  tiktok_views                3619 non-null   object        \n",
      " 16  youtube_playlist_reach      3591 non-null   object        \n",
      " 17  apple_music_playlist_count  4039 non-null   float64       \n",
      " 18  airplay_spins               4102 non-null   object        \n",
      " 19  siriusxm_spins              2477 non-null   object        \n",
      " 20  deezer_playlist_count       3679 non-null   float64       \n",
      " 21  deezer_playlist_reach       3672 non-null   object        \n",
      " 22  amazon_playlist_count       3545 non-null   float64       \n",
      " 23  pandora_streams             3494 non-null   object        \n",
      " 24  pandora_track_stations      3332 non-null   object        \n",
      " 25  soundcloud_streams          1267 non-null   object        \n",
      " 26  shazam_counts               4023 non-null   object        \n",
      " 27  explicit_track              4600 non-null   int64         \n",
      " 28  release_year                4600 non-null   int32         \n",
      " 29  release_month               4600 non-null   int32         \n",
      "dtypes: datetime64[ns](1), float64(5), int32(2), int64(2), object(20)\n",
      "memory usage: 1.0+ MB\n"
     ]
    }
   ],
   "source": [
    "spotify_songs.info()"
   ]
  },
  {
   "cell_type": "markdown",
   "id": "a4e31344-a263-434c-be5d-97df2e335d2b",
   "metadata": {},
   "source": [
    "Lets turn the 'tiktok_views' column to integer type."
   ]
  },
  {
   "cell_type": "code",
   "execution_count": 68,
   "id": "0b786092-1c51-452d-bf7f-3e190ec0d07d",
   "metadata": {
    "tags": []
   },
   "outputs": [],
   "source": [
    "spotify_songs.tiktok_views = spotify_songs.tiktok_views.str.replace(\",\", \"\").fillna(\"0\").astype(\"int64\")"
   ]
  },
  {
   "cell_type": "code",
   "execution_count": 69,
   "id": "f01ad857-9d33-4824-8fe9-0068488d6776",
   "metadata": {
    "tags": []
   },
   "outputs": [
    {
     "data": {
      "text/plain": [
       "0        5332281936\n",
       "1         208339025\n",
       "2        3369120610\n",
       "3       14603725994\n",
       "4                 0\n",
       "           ...     \n",
       "4595      143934379\n",
       "4596          19935\n",
       "4597       36849005\n",
       "4598       37757301\n",
       "4599       70196388\n",
       "Name: tiktok_views, Length: 4600, dtype: int64"
      ]
     },
     "execution_count": 69,
     "metadata": {},
     "output_type": "execute_result"
    }
   ],
   "source": [
    "spotify_songs.tiktok_views"
   ]
  },
  {
   "cell_type": "code",
   "execution_count": 70,
   "id": "107f5056-cf1c-47e2-97fb-2c5a8d4ad96f",
   "metadata": {
    "tags": []
   },
   "outputs": [
    {
     "data": {
      "text/html": [
       "<div>\n",
       "<style scoped>\n",
       "    .dataframe tbody tr th:only-of-type {\n",
       "        vertical-align: middle;\n",
       "    }\n",
       "\n",
       "    .dataframe tbody tr th {\n",
       "        vertical-align: top;\n",
       "    }\n",
       "\n",
       "    .dataframe thead th {\n",
       "        text-align: right;\n",
       "    }\n",
       "</style>\n",
       "<table border=\"1\" class=\"dataframe\">\n",
       "  <thead>\n",
       "    <tr style=\"text-align: right;\">\n",
       "      <th></th>\n",
       "      <th>release_year</th>\n",
       "      <th>tiktok_views</th>\n",
       "    </tr>\n",
       "  </thead>\n",
       "  <tbody>\n",
       "    <tr>\n",
       "      <th>0</th>\n",
       "      <td>1987</td>\n",
       "      <td>673282408</td>\n",
       "    </tr>\n",
       "    <tr>\n",
       "      <th>1</th>\n",
       "      <td>1991</td>\n",
       "      <td>720283921</td>\n",
       "    </tr>\n",
       "    <tr>\n",
       "      <th>2</th>\n",
       "      <td>1994</td>\n",
       "      <td>15963128797</td>\n",
       "    </tr>\n",
       "    <tr>\n",
       "      <th>3</th>\n",
       "      <td>1998</td>\n",
       "      <td>803719645</td>\n",
       "    </tr>\n",
       "    <tr>\n",
       "      <th>4</th>\n",
       "      <td>1999</td>\n",
       "      <td>226008149</td>\n",
       "    </tr>\n",
       "    <tr>\n",
       "      <th>5</th>\n",
       "      <td>2000</td>\n",
       "      <td>1500548771</td>\n",
       "    </tr>\n",
       "    <tr>\n",
       "      <th>6</th>\n",
       "      <td>2001</td>\n",
       "      <td>167032445</td>\n",
       "    </tr>\n",
       "    <tr>\n",
       "      <th>7</th>\n",
       "      <td>2002</td>\n",
       "      <td>1102066396</td>\n",
       "    </tr>\n",
       "    <tr>\n",
       "      <th>8</th>\n",
       "      <td>2003</td>\n",
       "      <td>2791915025</td>\n",
       "    </tr>\n",
       "    <tr>\n",
       "      <th>9</th>\n",
       "      <td>2004</td>\n",
       "      <td>2262404643</td>\n",
       "    </tr>\n",
       "    <tr>\n",
       "      <th>10</th>\n",
       "      <td>2005</td>\n",
       "      <td>222395424736</td>\n",
       "    </tr>\n",
       "    <tr>\n",
       "      <th>11</th>\n",
       "      <td>2006</td>\n",
       "      <td>2633023886</td>\n",
       "    </tr>\n",
       "    <tr>\n",
       "      <th>12</th>\n",
       "      <td>2007</td>\n",
       "      <td>4439372196</td>\n",
       "    </tr>\n",
       "    <tr>\n",
       "      <th>13</th>\n",
       "      <td>2008</td>\n",
       "      <td>10235952720</td>\n",
       "    </tr>\n",
       "    <tr>\n",
       "      <th>14</th>\n",
       "      <td>2009</td>\n",
       "      <td>9018974772</td>\n",
       "    </tr>\n",
       "    <tr>\n",
       "      <th>15</th>\n",
       "      <td>2010</td>\n",
       "      <td>22050433351</td>\n",
       "    </tr>\n",
       "    <tr>\n",
       "      <th>16</th>\n",
       "      <td>2011</td>\n",
       "      <td>273542485517</td>\n",
       "    </tr>\n",
       "    <tr>\n",
       "      <th>17</th>\n",
       "      <td>2012</td>\n",
       "      <td>24485420283</td>\n",
       "    </tr>\n",
       "    <tr>\n",
       "      <th>18</th>\n",
       "      <td>2013</td>\n",
       "      <td>66675242055</td>\n",
       "    </tr>\n",
       "    <tr>\n",
       "      <th>19</th>\n",
       "      <td>2014</td>\n",
       "      <td>55645704122</td>\n",
       "    </tr>\n",
       "    <tr>\n",
       "      <th>20</th>\n",
       "      <td>2015</td>\n",
       "      <td>70701003150</td>\n",
       "    </tr>\n",
       "    <tr>\n",
       "      <th>21</th>\n",
       "      <td>2016</td>\n",
       "      <td>78330317089</td>\n",
       "    </tr>\n",
       "    <tr>\n",
       "      <th>22</th>\n",
       "      <td>2017</td>\n",
       "      <td>174362854260</td>\n",
       "    </tr>\n",
       "    <tr>\n",
       "      <th>23</th>\n",
       "      <td>2018</td>\n",
       "      <td>267661151841</td>\n",
       "    </tr>\n",
       "    <tr>\n",
       "      <th>24</th>\n",
       "      <td>2019</td>\n",
       "      <td>394210724566</td>\n",
       "    </tr>\n",
       "    <tr>\n",
       "      <th>25</th>\n",
       "      <td>2020</td>\n",
       "      <td>533191896010</td>\n",
       "    </tr>\n",
       "    <tr>\n",
       "      <th>26</th>\n",
       "      <td>2021</td>\n",
       "      <td>631177503424</td>\n",
       "    </tr>\n",
       "    <tr>\n",
       "      <th>27</th>\n",
       "      <td>2022</td>\n",
       "      <td>832975012888</td>\n",
       "    </tr>\n",
       "    <tr>\n",
       "      <th>28</th>\n",
       "      <td>2023</td>\n",
       "      <td>454816188900</td>\n",
       "    </tr>\n",
       "    <tr>\n",
       "      <th>29</th>\n",
       "      <td>2024</td>\n",
       "      <td>47470965442</td>\n",
       "    </tr>\n",
       "  </tbody>\n",
       "</table>\n",
       "</div>"
      ],
      "text/plain": [
       "    release_year  tiktok_views\n",
       "0           1987     673282408\n",
       "1           1991     720283921\n",
       "2           1994   15963128797\n",
       "3           1998     803719645\n",
       "4           1999     226008149\n",
       "5           2000    1500548771\n",
       "6           2001     167032445\n",
       "7           2002    1102066396\n",
       "8           2003    2791915025\n",
       "9           2004    2262404643\n",
       "10          2005  222395424736\n",
       "11          2006    2633023886\n",
       "12          2007    4439372196\n",
       "13          2008   10235952720\n",
       "14          2009    9018974772\n",
       "15          2010   22050433351\n",
       "16          2011  273542485517\n",
       "17          2012   24485420283\n",
       "18          2013   66675242055\n",
       "19          2014   55645704122\n",
       "20          2015   70701003150\n",
       "21          2016   78330317089\n",
       "22          2017  174362854260\n",
       "23          2018  267661151841\n",
       "24          2019  394210724566\n",
       "25          2020  533191896010\n",
       "26          2021  631177503424\n",
       "27          2022  832975012888\n",
       "28          2023  454816188900\n",
       "29          2024   47470965442"
      ]
     },
     "execution_count": 70,
     "metadata": {},
     "output_type": "execute_result"
    }
   ],
   "source": [
    "views_by_year = spotify_songs.groupby('release_year')['tiktok_views'].sum().reset_index()\n",
    "views_by_year"
   ]
  },
  {
   "cell_type": "code",
   "execution_count": 71,
   "id": "095d9611-bdf0-41c7-9892-75d49d88c344",
   "metadata": {
    "tags": []
   },
   "outputs": [
    {
     "data": {
      "image/png": "[encoded data removed]",
      "text/plain": [
       "<Figure size 1200x600 with 1 Axes>"
      ]
     },
     "metadata": {},
     "output_type": "display_data"
    }
   ],
   "source": [
    "plt.figure(figsize = (12, 6))\n",
    "plt.bar(views_by_year.release_year, views_by_year.tiktok_views, color = \"red\")\n",
    "\n",
    "plt.title('TikTok Views by Release Year')\n",
    "plt.xlabel('Release Year')\n",
    "plt.ylabel('TikTok Views')\n",
    "plt.xticks(views_by_year.release_year[::2])\n",
    "\n",
    "plt.show()"
   ]
  },
  {
   "cell_type": "markdown",
   "id": "90311091-dff1-412d-b34b-838fc9f3aa82",
   "metadata": {},
   "source": [
    "We can see that the years with the most views are from 2018 to 2023. This makes sense, considering tiktok's rise in popularity over the last few years and the fact that the most listened songs each year seem to be ones released that year or the one before that. Tiktok trends tend to often be based around songs released recently, with a few outliers of old songs becoming popular again.\n",
    "\n",
    "Now lets expand the 'views_by_year' dataframe to also include the mean tiktok views, the views and the name of the most popular song for each year."
   ]
  },
  {
   "cell_type": "code",
   "execution_count": 73,
   "id": "82e1d0ac-efce-4bbf-80bb-4f61637f2888",
   "metadata": {
    "tags": []
   },
   "outputs": [],
   "source": [
    "mean_tiktok_views_by_year = spotify_songs.groupby('release_year')['tiktok_views'].mean().reset_index()\n",
    "views_by_year[\"mean_views\"] = mean_tiktok_views_by_year.tiktok_views"
   ]
  },
  {
   "cell_type": "code",
   "execution_count": 74,
   "id": "5fe042f8-3ca1-4fdb-b23a-83fb9ba16d8f",
   "metadata": {
    "tags": []
   },
   "outputs": [],
   "source": [
    "most_viewed_track = spotify_songs.groupby('release_year')['tiktok_views'].max().reset_index()\n",
    "views_by_year[\"most_viewed_track\"] = most_viewed_track.tiktok_views"
   ]
  },
  {
   "cell_type": "code",
   "execution_count": 75,
   "id": "613e8f16-1bfe-4f5f-9db5-c0a0db95298e",
   "metadata": {
    "tags": []
   },
   "outputs": [],
   "source": [
    "most_viewed_track_name = spotify_songs.loc[spotify_songs.groupby('release_year')['tiktok_views'].idxmax()]\n",
    "views_by_year['track_name'] = views_by_year['release_year'].map(most_viewed_track_name.set_index('release_year')['track'])"
   ]
  },
  {
   "cell_type": "code",
   "execution_count": 77,
   "id": "80b3366a-f49e-4c9d-a3c9-a3d8105b49a7",
   "metadata": {
    "tags": []
   },
   "outputs": [
    {
     "data": {
      "text/html": [
       "<div>\n",
       "<style scoped>\n",
       "    .dataframe tbody tr th:only-of-type {\n",
       "        vertical-align: middle;\n",
       "    }\n",
       "\n",
       "    .dataframe tbody tr th {\n",
       "        vertical-align: top;\n",
       "    }\n",
       "\n",
       "    .dataframe thead th {\n",
       "        text-align: right;\n",
       "    }\n",
       "</style>\n",
       "<table border=\"1\" class=\"dataframe\">\n",
       "  <thead>\n",
       "    <tr style=\"text-align: right;\">\n",
       "      <th></th>\n",
       "      <th>release_year</th>\n",
       "      <th>tiktok_views</th>\n",
       "      <th>mean_views</th>\n",
       "      <th>most_viewed_track</th>\n",
       "      <th>track_name</th>\n",
       "    </tr>\n",
       "  </thead>\n",
       "  <tbody>\n",
       "    <tr>\n",
       "      <th>0</th>\n",
       "      <td>1987</td>\n",
       "      <td>673282408</td>\n",
       "      <td>6.732824e+08</td>\n",
       "      <td>673282408</td>\n",
       "      <td>Sweet Child O' Mine</td>\n",
       "    </tr>\n",
       "    <tr>\n",
       "      <th>1</th>\n",
       "      <td>1991</td>\n",
       "      <td>720283921</td>\n",
       "      <td>7.202839e+08</td>\n",
       "      <td>720283921</td>\n",
       "      <td>Smells Like Teen Spirit</td>\n",
       "    </tr>\n",
       "    <tr>\n",
       "      <th>2</th>\n",
       "      <td>1994</td>\n",
       "      <td>15963128797</td>\n",
       "      <td>1.596313e+10</td>\n",
       "      <td>15963128797</td>\n",
       "      <td>All I Want for Christmas Is You</td>\n",
       "    </tr>\n",
       "    <tr>\n",
       "      <th>3</th>\n",
       "      <td>1998</td>\n",
       "      <td>803719645</td>\n",
       "      <td>8.037196e+08</td>\n",
       "      <td>803719645</td>\n",
       "      <td>Beautiful Girls</td>\n",
       "    </tr>\n",
       "    <tr>\n",
       "      <th>4</th>\n",
       "      <td>1999</td>\n",
       "      <td>226008149</td>\n",
       "      <td>2.260081e+08</td>\n",
       "      <td>226008149</td>\n",
       "      <td>Californication</td>\n",
       "    </tr>\n",
       "    <tr>\n",
       "      <th>5</th>\n",
       "      <td>2000</td>\n",
       "      <td>1500548771</td>\n",
       "      <td>7.502744e+08</td>\n",
       "      <td>771015965</td>\n",
       "      <td>The Real Slim Shady</td>\n",
       "    </tr>\n",
       "    <tr>\n",
       "      <th>6</th>\n",
       "      <td>2001</td>\n",
       "      <td>167032445</td>\n",
       "      <td>1.670324e+08</td>\n",
       "      <td>167032445</td>\n",
       "      <td>Over the Rainbow</td>\n",
       "    </tr>\n",
       "    <tr>\n",
       "      <th>7</th>\n",
       "      <td>2002</td>\n",
       "      <td>1102066396</td>\n",
       "      <td>2.204133e+08</td>\n",
       "      <td>481408577</td>\n",
       "      <td>The Scientist</td>\n",
       "    </tr>\n",
       "    <tr>\n",
       "      <th>8</th>\n",
       "      <td>2003</td>\n",
       "      <td>2791915025</td>\n",
       "      <td>9.306383e+08</td>\n",
       "      <td>1394903550</td>\n",
       "      <td>Seven Nation Army</td>\n",
       "    </tr>\n",
       "    <tr>\n",
       "      <th>9</th>\n",
       "      <td>2004</td>\n",
       "      <td>2262404643</td>\n",
       "      <td>4.524809e+08</td>\n",
       "      <td>1599320816</td>\n",
       "      <td>Yeah! (feat. Lil Jon &amp; Ludacris)</td>\n",
       "    </tr>\n",
       "    <tr>\n",
       "      <th>10</th>\n",
       "      <td>2005</td>\n",
       "      <td>222395424736</td>\n",
       "      <td>4.447908e+10</td>\n",
       "      <td>214843956590</td>\n",
       "      <td>Love You So</td>\n",
       "    </tr>\n",
       "    <tr>\n",
       "      <th>11</th>\n",
       "      <td>2006</td>\n",
       "      <td>2633023886</td>\n",
       "      <td>8.776746e+08</td>\n",
       "      <td>1795501997</td>\n",
       "      <td>Promiscuous</td>\n",
       "    </tr>\n",
       "    <tr>\n",
       "      <th>12</th>\n",
       "      <td>2007</td>\n",
       "      <td>4439372196</td>\n",
       "      <td>8.878744e+08</td>\n",
       "      <td>2202590339</td>\n",
       "      <td>Low (feat. T-Pain)</td>\n",
       "    </tr>\n",
       "    <tr>\n",
       "      <th>13</th>\n",
       "      <td>2008</td>\n",
       "      <td>10235952720</td>\n",
       "      <td>9.305412e+08</td>\n",
       "      <td>2238389974</td>\n",
       "      <td>Hot N Cold</td>\n",
       "    </tr>\n",
       "    <tr>\n",
       "      <th>14</th>\n",
       "      <td>2009</td>\n",
       "      <td>9018974772</td>\n",
       "      <td>6.012650e+08</td>\n",
       "      <td>3323603337</td>\n",
       "      <td>Alors on danse</td>\n",
       "    </tr>\n",
       "    <tr>\n",
       "      <th>15</th>\n",
       "      <td>2010</td>\n",
       "      <td>22050433351</td>\n",
       "      <td>8.166827e+08</td>\n",
       "      <td>5938511405</td>\n",
       "      <td>Waka Waka (This Time for Africa) [The Official...</td>\n",
       "    </tr>\n",
       "    <tr>\n",
       "      <th>16</th>\n",
       "      <td>2011</td>\n",
       "      <td>273542485517</td>\n",
       "      <td>5.363578e+09</td>\n",
       "      <td>233232311463</td>\n",
       "      <td>Monkeys Spinning Monkeys</td>\n",
       "    </tr>\n",
       "    <tr>\n",
       "      <th>17</th>\n",
       "      <td>2012</td>\n",
       "      <td>24485420283</td>\n",
       "      <td>5.209664e+08</td>\n",
       "      <td>3172500312</td>\n",
       "      <td>Classic</td>\n",
       "    </tr>\n",
       "    <tr>\n",
       "      <th>18</th>\n",
       "      <td>2013</td>\n",
       "      <td>66675242055</td>\n",
       "      <td>1.212277e+09</td>\n",
       "      <td>17759263793</td>\n",
       "      <td>Ginseng Strip 2002</td>\n",
       "    </tr>\n",
       "    <tr>\n",
       "      <th>19</th>\n",
       "      <td>2014</td>\n",
       "      <td>55645704122</td>\n",
       "      <td>7.949386e+08</td>\n",
       "      <td>11018922699</td>\n",
       "      <td>Title</td>\n",
       "    </tr>\n",
       "    <tr>\n",
       "      <th>20</th>\n",
       "      <td>2015</td>\n",
       "      <td>70701003150</td>\n",
       "      <td>7.364688e+08</td>\n",
       "      <td>6577639193</td>\n",
       "      <td>Baby Shark</td>\n",
       "    </tr>\n",
       "    <tr>\n",
       "      <th>21</th>\n",
       "      <td>2016</td>\n",
       "      <td>78330317089</td>\n",
       "      <td>6.368318e+08</td>\n",
       "      <td>14808888629</td>\n",
       "      <td>Unstoppable</td>\n",
       "    </tr>\n",
       "    <tr>\n",
       "      <th>22</th>\n",
       "      <td>2017</td>\n",
       "      <td>174362854260</td>\n",
       "      <td>8.186049e+08</td>\n",
       "      <td>22241102823</td>\n",
       "      <td>Infinity</td>\n",
       "    </tr>\n",
       "    <tr>\n",
       "      <th>23</th>\n",
       "      <td>2018</td>\n",
       "      <td>267661151841</td>\n",
       "      <td>1.074944e+09</td>\n",
       "      <td>38373644011</td>\n",
       "      <td>Funny Song</td>\n",
       "    </tr>\n",
       "    <tr>\n",
       "      <th>24</th>\n",
       "      <td>2019</td>\n",
       "      <td>394210724566</td>\n",
       "      <td>1.331793e+09</td>\n",
       "      <td>61088562861</td>\n",
       "      <td>Oh No</td>\n",
       "    </tr>\n",
       "    <tr>\n",
       "      <th>25</th>\n",
       "      <td>2020</td>\n",
       "      <td>533191896010</td>\n",
       "      <td>1.481089e+09</td>\n",
       "      <td>33359398879</td>\n",
       "      <td>Spongebob</td>\n",
       "    </tr>\n",
       "    <tr>\n",
       "      <th>26</th>\n",
       "      <td>2021</td>\n",
       "      <td>631177503424</td>\n",
       "      <td>1.547004e+09</td>\n",
       "      <td>23712377029</td>\n",
       "      <td>STAY (with Justin Bieber)</td>\n",
       "    </tr>\n",
       "    <tr>\n",
       "      <th>27</th>\n",
       "      <td>2022</td>\n",
       "      <td>832975012888</td>\n",
       "      <td>1.200252e+09</td>\n",
       "      <td>33870791454</td>\n",
       "      <td>Aesthetic</td>\n",
       "    </tr>\n",
       "    <tr>\n",
       "      <th>28</th>\n",
       "      <td>2023</td>\n",
       "      <td>454816188900</td>\n",
       "      <td>3.927601e+08</td>\n",
       "      <td>14603725994</td>\n",
       "      <td>Flowers</td>\n",
       "    </tr>\n",
       "    <tr>\n",
       "      <th>29</th>\n",
       "      <td>2024</td>\n",
       "      <td>47470965442</td>\n",
       "      <td>6.850067e+07</td>\n",
       "      <td>6518604175</td>\n",
       "      <td>TEXAS HOLD 'EM</td>\n",
       "    </tr>\n",
       "  </tbody>\n",
       "</table>\n",
       "</div>"
      ],
      "text/plain": [
       "    release_year  tiktok_views    mean_views  most_viewed_track  \\\n",
       "0           1987     673282408  6.732824e+08          673282408   \n",
       "1           1991     720283921  7.202839e+08          720283921   \n",
       "2           1994   15963128797  1.596313e+10        15963128797   \n",
       "3           1998     803719645  8.037196e+08          803719645   \n",
       "4           1999     226008149  2.260081e+08          226008149   \n",
       "5           2000    1500548771  7.502744e+08          771015965   \n",
       "6           2001     167032445  1.670324e+08          167032445   \n",
       "7           2002    1102066396  2.204133e+08          481408577   \n",
       "8           2003    2791915025  9.306383e+08         1394903550   \n",
       "9           2004    2262404643  4.524809e+08         1599320816   \n",
       "10          2005  222395424736  4.447908e+10       214843956590   \n",
       "11          2006    2633023886  8.776746e+08         1795501997   \n",
       "12          2007    4439372196  8.878744e+08         2202590339   \n",
       "13          2008   10235952720  9.305412e+08         2238389974   \n",
       "14          2009    9018974772  6.012650e+08         3323603337   \n",
       "15          2010   22050433351  8.166827e+08         5938511405   \n",
       "16          2011  273542485517  5.363578e+09       233232311463   \n",
       "17          2012   24485420283  5.209664e+08         3172500312   \n",
       "18          2013   66675242055  1.212277e+09        17759263793   \n",
       "19          2014   55645704122  7.949386e+08        11018922699   \n",
       "20          2015   70701003150  7.364688e+08         6577639193   \n",
       "21          2016   78330317089  6.368318e+08        14808888629   \n",
       "22          2017  174362854260  8.186049e+08        22241102823   \n",
       "23          2018  267661151841  1.074944e+09        38373644011   \n",
       "24          2019  394210724566  1.331793e+09        61088562861   \n",
       "25          2020  533191896010  1.481089e+09        33359398879   \n",
       "26          2021  631177503424  1.547004e+09        23712377029   \n",
       "27          2022  832975012888  1.200252e+09        33870791454   \n",
       "28          2023  454816188900  3.927601e+08        14603725994   \n",
       "29          2024   47470965442  6.850067e+07         6518604175   \n",
       "\n",
       "                                           track_name  \n",
       "0                                 Sweet Child O' Mine  \n",
       "1                             Smells Like Teen Spirit  \n",
       "2                     All I Want for Christmas Is You  \n",
       "3                                     Beautiful Girls  \n",
       "4                                     Californication  \n",
       "5                                 The Real Slim Shady  \n",
       "6                                    Over the Rainbow  \n",
       "7                                       The Scientist  \n",
       "8                                   Seven Nation Army  \n",
       "9                    Yeah! (feat. Lil Jon & Ludacris)  \n",
       "10                                        Love You So  \n",
       "11                                        Promiscuous  \n",
       "12                                 Low (feat. T-Pain)  \n",
       "13                                         Hot N Cold  \n",
       "14                                     Alors on danse  \n",
       "15  Waka Waka (This Time for Africa) [The Official...  \n",
       "16                           Monkeys Spinning Monkeys  \n",
       "17                                            Classic  \n",
       "18                                 Ginseng Strip 2002  \n",
       "19                                              Title  \n",
       "20                                         Baby Shark  \n",
       "21                                        Unstoppable  \n",
       "22                                           Infinity  \n",
       "23                                         Funny Song  \n",
       "24                                              Oh No  \n",
       "25                                          Spongebob  \n",
       "26                          STAY (with Justin Bieber)  \n",
       "27                                          Aesthetic  \n",
       "28                                            Flowers  \n",
       "29                                     TEXAS HOLD 'EM  "
      ]
     },
     "execution_count": 77,
     "metadata": {},
     "output_type": "execute_result"
    }
   ],
   "source": [
    "views_by_year"
   ]
  },
  {
   "cell_type": "code",
   "execution_count": 78,
   "id": "34a6277c-847e-41d0-8ff9-4e90132c5202",
   "metadata": {
    "tags": []
   },
   "outputs": [
    {
     "data": {
      "image/png": "[encoded data removed]",
      "text/plain": [
       "<Figure size 1000x500 with 1 Axes>"
      ]
     },
     "metadata": {},
     "output_type": "display_data"
    }
   ],
   "source": [
    "plt.figure(figsize=(10, 5))\n",
    "# Bar plot for mean TikTok views\n",
    "plt.bar(views_by_year['release_year'] - 0.2, views_by_year['mean_views'], width=0.4, color='orange', label='Mean Views')\n",
    "# Bar plot for most viewed track\n",
    "plt.bar(views_by_year['release_year'] + 0.2, views_by_year['most_viewed_track'], width=0.4, color='red', alpha=0.6, label='Most Viewed Track')\n",
    "\n",
    "plt.xticks(ticks=views_by_year['release_year'][::2])\n",
    "\n",
    "plt.title('Mean Views and Most Viewed Track by Release Year')\n",
    "plt.xlabel('Release Year')\n",
    "plt.ylabel('Views')\n",
    "plt.legend()\n",
    "plt.show()"
   ]
  },
  {
   "cell_type": "markdown",
   "id": "c9ad55e7-d943-4e42-a731-7eaf3b541888",
   "metadata": {},
   "source": [
    "The most popular track is viewed WAY more than the mean views per year. This probably happens because there is a big number of songs that don't have a lot of tiktok views, which drags the mean value down."
   ]
  },
  {
   "cell_type": "markdown",
   "id": "d6d06ba6-54fe-4514-b9f3-50b5ac541b50",
   "metadata": {},
   "source": [
    "### * Problem 9. Explore (and clean) at will\n",
    "There is a lot to look for here. For example, you can easily link a song to its genres, and lyrics. You may also try to link artists and albums to more info about them. Or you can compare and contrast a song's performance across different platforms, in a similar manner to what you already did above; maybe even assign a better song ranking system (across platforms with different popularity metrics, and different requirements) than the one provided in the dataset."
   ]
  },
  {
   "cell_type": "code",
   "execution_count": null,
   "id": "844a9811-c034-4bcf-96c4-8b69f743a330",
   "metadata": {},
   "outputs": [],
   "source": []
  }
 ],
 "metadata": {
  "kernelspec": {
   "display_name": "Python 3 (ipykernel)",
   "language": "python",
   "name": "python3"
  },
  "language_info": {
   "codemirror_mode": {
    "name": "ipython",
    "version": 3
   },
   "file_extension": ".py",
   "mimetype": "text/x-python",
   "name": "python",
   "nbconvert_exporter": "python",
   "pygments_lexer": "ipython3",
   "version": "3.11.7"
  }
 },
 "nbformat": 4,
 "nbformat_minor": 5
}
