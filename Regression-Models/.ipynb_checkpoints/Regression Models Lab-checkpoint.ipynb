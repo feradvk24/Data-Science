{
 "cells": [
  {
   "cell_type": "code",
   "execution_count": 1,
   "id": "b1a21845-5edc-410a-ab41-5196319ddec6",
   "metadata": {},
   "outputs": [],
   "source": [
    "# Write your imports here\n",
    "import pandas as pd\n",
    "import matplotlib.pyplot as plt\n",
    "import numpy as np\n",
    "import seaborn as sns\n",
    "\n",
    "import matplotlib.pyplot as plt\n",
    "from sklearn.datasets import make_blobs\n",
    "from sklearn.decomposition import PCA"
   ]
  },
  {
   "cell_type": "markdown",
   "id": "d3786fdb-7af6-4ce2-b730-90c60a5d896f",
   "metadata": {},
   "source": [
    "# Regression Models Lab\n",
    "## Linear and logistic regression: theory and practice"
   ]
  },
  {
   "cell_type": "markdown",
   "id": "56d6ff4b-e18a-4580-8c7c-54f4c7ef2dc9",
   "metadata": {},
   "source": [
    "In this lab you'll revisit and expand on your knowledge of modelling in general, as well as the fundamentals of linear and logistic regression. As a reminder, _linear regression_ is a regression model (regressor), and _logistic regression_ is a classification model (classifier).\n",
    "\n",
    "This time, you'll use generated data, in order to separate some of the complexity of handling various datasets from inspecting and evaluating models.\n",
    "\n",
    "**Use vectorization as much as possible!** You should be able to complete the lab using for-loops only to track the training steps."
   ]
  },
  {
   "cell_type": "markdown",
   "id": "2b8a9603-c803-4728-a69d-b6acfe2bad8a",
   "metadata": {},
   "source": [
    "### Problem 1. Generate some data for multiple linear regression (1 point)\n",
    "As an expansion to the lecture, you'll create a dataset and a model.\n",
    "\n",
    "Create a dataset of some (e.g., 50-500) observations of several (e.g., 5-20) independent features. You can use random generators for them; think about what distributions you'd like to use. Let's call them $x_1, x_2, ..., x_m$. The data matrix $X$ you should get should be of size $n \\times m$. It's best if all features have different ranges.\n",
    "\n",
    "Create the dependent variable by assigning coefficients $\\bar{a_1}, \\bar{a_2}, ..., \\bar{a_m}, \\bar{b}$ and calculating $y$ as a linear combination of the input features. Add some random noise to the functional values. I've used bars over coefficients to avoid confusion with the model parameters later.\n",
    "\n",
    "Save the dataset ($X$ and $y$), and \"forget\" that the coefficients have ever existed. \"All\" you have is the file and the implicit assumption that there is a linear relationship between $X$ and $y$."
   ]
  },
  {
   "cell_type": "markdown",
   "id": "efaa8539-af79-4e19-ac37-826aeeb1175f",
   "metadata": {},
   "source": [
    "Lets generate a dataset with 8 features with different ranges and 150 observations."
   ]
  },
  {
   "cell_type": "code",
   "execution_count": 6,
   "id": "8bcaa62c-2462-471e-a1c1-3b6913eedd89",
   "metadata": {
    "tags": []
   },
   "outputs": [],
   "source": [
    "random_data = {\n",
    "    \"x1\": np.random.uniform(0, 10, 150),\n",
    "    \"x2\": np.random.uniform(10, 20, 150),\n",
    "    \"x3\": np.random.uniform(30, 40, 150),\n",
    "    \"x4\": np.random.uniform(55, 65, 150),\n",
    "    \"x5\": np.random.uniform(80, 90, 150),\n",
    "    \"x6\": np.random.uniform(100, 120, 150),\n",
    "    \"x7\": np.random.uniform(1, 5, 150),\n",
    "    \"x8\": np.random.uniform(8, 18, 150),\n",
    "}\n",
    "\n",
    "dataframe = pd.DataFrame(random_data)\n",
    "X = dataframe.to_numpy()"
   ]
  },
  {
   "cell_type": "code",
   "execution_count": 7,
   "id": "3b197fc2-cc26-4c2d-a83d-902f07a510c7",
   "metadata": {
    "tags": []
   },
   "outputs": [],
   "source": [
    "coefficients = np.random.uniform(0.1, 2, dataframe.shape[1])  # Random coefficients for each feature\n",
    "intercept = np.random.uniform(-10, 10)      # Random intercept\n",
    "\n",
    "y = X @ coefficients + intercept  # Linear combination\n",
    "noise = np.random.normal(0, 1, len(y))  # Gaussian noise\n",
    "y += noise  # Add noise to the dependent variable\n",
    "dataframe[\"y\"] = y"
   ]
  },
  {
   "cell_type": "markdown",
   "id": "d132593d-0c68-4373-bcbc-779635b62458",
   "metadata": {},
   "source": [
    "Now lets assign the coefficients to create the dependant variable **y**:"
   ]
  },
  {
   "cell_type": "code",
   "execution_count": 9,
   "id": "d45d64f1-354e-4804-94c0-ff4a8cfa7f4c",
   "metadata": {
    "tags": []
   },
   "outputs": [],
   "source": [
    "#Save the data\n",
    "dataframe.to_csv(\"Data.csv\")"
   ]
  },
  {
   "cell_type": "markdown",
   "id": "c4bb4164-eaa3-4b76-ae3f-36da95416b7b",
   "metadata": {
    "tags": []
   },
   "source": [
    "### Problem 2. Check your assumption (1 point)\n",
    "Read the dataset you just saved (this is just to simulate starting a new project). It's a good idea to test and verify our assumptions. Find a way to check whether there really is a linear relationship between the features and output."
   ]
  },
  {
   "cell_type": "code",
   "execution_count": 11,
   "id": "d13c8452-5eb1-4719-88da-372331cfce82",
   "metadata": {
    "tags": []
   },
   "outputs": [],
   "source": [
    "data = pd.read_csv(\"Data.csv\")\n",
    "data = data.drop(\"Unnamed: 0\", axis = 1)"
   ]
  },
  {
   "cell_type": "code",
   "execution_count": 12,
   "id": "642d040d-47d9-4c5f-a21e-b6c8acb26a6c",
   "metadata": {
    "tags": []
   },
   "outputs": [
    {
     "data": {
      "text/html": [
       "<div>\n",
       "<style scoped>\n",
       "    .dataframe tbody tr th:only-of-type {\n",
       "        vertical-align: middle;\n",
       "    }\n",
       "\n",
       "    .dataframe tbody tr th {\n",
       "        vertical-align: top;\n",
       "    }\n",
       "\n",
       "    .dataframe thead th {\n",
       "        text-align: right;\n",
       "    }\n",
       "</style>\n",
       "<table border=\"1\" class=\"dataframe\">\n",
       "  <thead>\n",
       "    <tr style=\"text-align: right;\">\n",
       "      <th></th>\n",
       "      <th>x1</th>\n",
       "      <th>x2</th>\n",
       "      <th>x3</th>\n",
       "      <th>x4</th>\n",
       "      <th>x5</th>\n",
       "      <th>x6</th>\n",
       "      <th>x7</th>\n",
       "      <th>x8</th>\n",
       "      <th>y</th>\n",
       "    </tr>\n",
       "  </thead>\n",
       "  <tbody>\n",
       "    <tr>\n",
       "      <th>0</th>\n",
       "      <td>8.983175</td>\n",
       "      <td>11.119519</td>\n",
       "      <td>31.644379</td>\n",
       "      <td>55.612076</td>\n",
       "      <td>82.978737</td>\n",
       "      <td>111.288894</td>\n",
       "      <td>1.324517</td>\n",
       "      <td>9.761604</td>\n",
       "      <td>304.783158</td>\n",
       "    </tr>\n",
       "    <tr>\n",
       "      <th>1</th>\n",
       "      <td>0.756106</td>\n",
       "      <td>10.123252</td>\n",
       "      <td>34.025706</td>\n",
       "      <td>55.799984</td>\n",
       "      <td>84.614972</td>\n",
       "      <td>108.295057</td>\n",
       "      <td>4.689011</td>\n",
       "      <td>13.795974</td>\n",
       "      <td>315.802323</td>\n",
       "    </tr>\n",
       "    <tr>\n",
       "      <th>2</th>\n",
       "      <td>9.853256</td>\n",
       "      <td>19.753914</td>\n",
       "      <td>30.989899</td>\n",
       "      <td>55.063984</td>\n",
       "      <td>88.013038</td>\n",
       "      <td>108.997951</td>\n",
       "      <td>2.893049</td>\n",
       "      <td>10.016994</td>\n",
       "      <td>324.023180</td>\n",
       "    </tr>\n",
       "    <tr>\n",
       "      <th>3</th>\n",
       "      <td>6.400647</td>\n",
       "      <td>13.021074</td>\n",
       "      <td>36.186392</td>\n",
       "      <td>62.273241</td>\n",
       "      <td>82.712962</td>\n",
       "      <td>115.288070</td>\n",
       "      <td>2.323945</td>\n",
       "      <td>9.312598</td>\n",
       "      <td>317.223520</td>\n",
       "    </tr>\n",
       "    <tr>\n",
       "      <th>4</th>\n",
       "      <td>5.577865</td>\n",
       "      <td>12.809256</td>\n",
       "      <td>31.486220</td>\n",
       "      <td>56.513654</td>\n",
       "      <td>86.755525</td>\n",
       "      <td>115.076143</td>\n",
       "      <td>1.452586</td>\n",
       "      <td>10.435883</td>\n",
       "      <td>316.267899</td>\n",
       "    </tr>\n",
       "    <tr>\n",
       "      <th>...</th>\n",
       "      <td>...</td>\n",
       "      <td>...</td>\n",
       "      <td>...</td>\n",
       "      <td>...</td>\n",
       "      <td>...</td>\n",
       "      <td>...</td>\n",
       "      <td>...</td>\n",
       "      <td>...</td>\n",
       "      <td>...</td>\n",
       "    </tr>\n",
       "    <tr>\n",
       "      <th>145</th>\n",
       "      <td>4.960001</td>\n",
       "      <td>12.608122</td>\n",
       "      <td>37.029973</td>\n",
       "      <td>63.641925</td>\n",
       "      <td>88.177384</td>\n",
       "      <td>112.847474</td>\n",
       "      <td>3.231864</td>\n",
       "      <td>8.987568</td>\n",
       "      <td>328.664931</td>\n",
       "    </tr>\n",
       "    <tr>\n",
       "      <th>146</th>\n",
       "      <td>5.545252</td>\n",
       "      <td>17.657395</td>\n",
       "      <td>37.571635</td>\n",
       "      <td>61.764769</td>\n",
       "      <td>84.682331</td>\n",
       "      <td>111.634850</td>\n",
       "      <td>1.959012</td>\n",
       "      <td>8.761269</td>\n",
       "      <td>322.305376</td>\n",
       "    </tr>\n",
       "    <tr>\n",
       "      <th>147</th>\n",
       "      <td>7.889568</td>\n",
       "      <td>19.169005</td>\n",
       "      <td>31.980991</td>\n",
       "      <td>57.089561</td>\n",
       "      <td>82.688990</td>\n",
       "      <td>101.191719</td>\n",
       "      <td>4.342230</td>\n",
       "      <td>15.764824</td>\n",
       "      <td>323.626763</td>\n",
       "    </tr>\n",
       "    <tr>\n",
       "      <th>148</th>\n",
       "      <td>1.101560</td>\n",
       "      <td>19.429616</td>\n",
       "      <td>30.363917</td>\n",
       "      <td>56.933600</td>\n",
       "      <td>81.061598</td>\n",
       "      <td>107.394784</td>\n",
       "      <td>1.154013</td>\n",
       "      <td>15.279846</td>\n",
       "      <td>311.818751</td>\n",
       "    </tr>\n",
       "    <tr>\n",
       "      <th>149</th>\n",
       "      <td>7.869310</td>\n",
       "      <td>16.519153</td>\n",
       "      <td>36.045729</td>\n",
       "      <td>64.911821</td>\n",
       "      <td>80.046569</td>\n",
       "      <td>118.475258</td>\n",
       "      <td>3.636793</td>\n",
       "      <td>13.843141</td>\n",
       "      <td>329.824652</td>\n",
       "    </tr>\n",
       "  </tbody>\n",
       "</table>\n",
       "<p>150 rows × 9 columns</p>\n",
       "</div>"
      ],
      "text/plain": [
       "           x1         x2         x3         x4         x5          x6  \\\n",
       "0    8.983175  11.119519  31.644379  55.612076  82.978737  111.288894   \n",
       "1    0.756106  10.123252  34.025706  55.799984  84.614972  108.295057   \n",
       "2    9.853256  19.753914  30.989899  55.063984  88.013038  108.997951   \n",
       "3    6.400647  13.021074  36.186392  62.273241  82.712962  115.288070   \n",
       "4    5.577865  12.809256  31.486220  56.513654  86.755525  115.076143   \n",
       "..        ...        ...        ...        ...        ...         ...   \n",
       "145  4.960001  12.608122  37.029973  63.641925  88.177384  112.847474   \n",
       "146  5.545252  17.657395  37.571635  61.764769  84.682331  111.634850   \n",
       "147  7.889568  19.169005  31.980991  57.089561  82.688990  101.191719   \n",
       "148  1.101560  19.429616  30.363917  56.933600  81.061598  107.394784   \n",
       "149  7.869310  16.519153  36.045729  64.911821  80.046569  118.475258   \n",
       "\n",
       "           x7         x8           y  \n",
       "0    1.324517   9.761604  304.783158  \n",
       "1    4.689011  13.795974  315.802323  \n",
       "2    2.893049  10.016994  324.023180  \n",
       "3    2.323945   9.312598  317.223520  \n",
       "4    1.452586  10.435883  316.267899  \n",
       "..        ...        ...         ...  \n",
       "145  3.231864   8.987568  328.664931  \n",
       "146  1.959012   8.761269  322.305376  \n",
       "147  4.342230  15.764824  323.626763  \n",
       "148  1.154013  15.279846  311.818751  \n",
       "149  3.636793  13.843141  329.824652  \n",
       "\n",
       "[150 rows x 9 columns]"
      ]
     },
     "execution_count": 12,
     "metadata": {},
     "output_type": "execute_result"
    }
   ],
   "source": [
    "data"
   ]
  },
  {
   "cell_type": "markdown",
   "id": "672bf680-9939-42f8-8c20-98f3cf2d7ceb",
   "metadata": {},
   "source": [
    "To display the correlation between the features and the variable **y**, I will find the sum of all the features and plot it with the variable."
   ]
  },
  {
   "cell_type": "code",
   "execution_count": 14,
   "id": "560dc84a-a612-41a9-95a4-5c9546999bb3",
   "metadata": {
    "tags": []
   },
   "outputs": [],
   "source": [
    "features_sum = data.loc[:, data.columns != 'y'].sum(axis=1)"
   ]
  },
  {
   "cell_type": "code",
   "execution_count": 15,
   "id": "7923ac7a-a0d2-4862-88c5-fb483a535a0c",
   "metadata": {
    "tags": []
   },
   "outputs": [
    {
     "data": {
      "text/plain": [
       "Text(0, 0.5, 'y')"
      ]
     },
     "execution_count": 15,
     "metadata": {},
     "output_type": "execute_result"
    },
    {
     "data": {
      "image/png": "[encoded data removed]",
      "text/plain": [
       "<Figure size 640x480 with 1 Axes>"
      ]
     },
     "metadata": {},
     "output_type": "display_data"
    }
   ],
   "source": [
    "plt.scatter(features_sum, data.y, color = \"red\")\n",
    "plt.xlabel(\"features_sum\")\n",
    "plt.ylabel(\"y\")"
   ]
  },
  {
   "cell_type": "markdown",
   "id": "c6901751-f1d5-4c79-8b02-2d169a1918ce",
   "metadata": {},
   "source": [
    "There does seem to be a strong correlation between the features and the **y** variable."
   ]
  },
  {
   "cell_type": "markdown",
   "id": "3b5f9a49-cee6-4537-b82f-d8148a45c0c2",
   "metadata": {
    "tags": []
   },
   "source": [
    "### Problem 3. Figure out the modelling function (1 point)\n",
    "The modelling function for linear regression is of the form\n",
    "$$ \\tilde{y} = \\sum_{i=1}^{m}a_i x_i + b $$\n",
    "\n",
    "If you want to be clever, you can find a way to represent $b$ in the same way as the other coefficients.\n",
    "\n",
    "Write a Python function which accepts coefficients and data, and ensure (test) it works correctly."
   ]
  },
  {
   "cell_type": "code",
   "execution_count": 111,
   "id": "f6f4d032-6ae2-4f5f-b5ca-55e027a9a89d",
   "metadata": {
    "tags": []
   },
   "outputs": [],
   "source": [
    "features = data.iloc[:, :-1].to_numpy() #Extract the columns with features\n",
    "y = data.iloc[:, -1].to_numpy() #Extract the column with the dependant variable"
   ]
  },
  {
   "cell_type": "code",
   "execution_count": 113,
   "id": "0f413d7d-3fe5-4f78-8fcd-6434ceb1f9d7",
   "metadata": {},
   "outputs": [],
   "source": [
    "def modelling_function(coefficients, features, y):\n",
    "    \"\"\"The function takes a dataframe with the features and the y variable and a list of coefficients with the number of \n",
    "    features plus 1 - the last one being for the b value.\n",
    "    It returns a tuple of the y values and the predicted y values\n",
    "    \"\"\"\n",
    "    predictions = np.sum(features * coefficients[:-1], axis = 1) + coefficients[-1] #Calculate the predicted y\n",
    "    return y, predictions"
   ]
  },
  {
   "cell_type": "code",
   "execution_count": 115,
   "id": "9918d44f-f255-45e7-a1ee-6526b4d82f59",
   "metadata": {
    "tags": []
   },
   "outputs": [
    {
     "data": {
      "text/plain": [
       "(array([304.7831585 , 315.80232327, 324.02318027, 317.22351953,\n",
       "        316.26789895, 320.35059256, 329.31184337, 323.01230293,\n",
       "        320.90992658, 345.35834889, 327.65959616, 315.75644876,\n",
       "        318.45111713, 324.51297641, 327.77887924, 307.89353047,\n",
       "        325.5947341 , 309.8371618 , 318.51015496, 332.4285459 ,\n",
       "        328.46179703, 324.54199604, 328.37000359, 324.81968347,\n",
       "        318.59914411, 317.24982426, 321.42738755, 327.95033107,\n",
       "        333.1614354 , 315.10884239, 317.63148601, 323.21068463,\n",
       "        325.61255625, 311.99489417, 330.08459455, 326.35926781,\n",
       "        330.98704847, 347.24842351, 321.30619237, 330.96928589,\n",
       "        325.99562747, 318.1553013 , 336.79142226, 333.23779348,\n",
       "        325.87753217, 318.01974969, 322.73953716, 338.1516774 ,\n",
       "        315.61427294, 323.80899733, 338.60124677, 332.38212711,\n",
       "        316.35643637, 336.225693  , 316.11812846, 331.89424269,\n",
       "        312.99232151, 322.58590666, 310.65889256, 330.76283339,\n",
       "        316.92476291, 315.4903092 , 348.22042263, 308.85128536,\n",
       "        316.99386141, 330.62081806, 317.86348668, 326.94927565,\n",
       "        319.09902989, 328.84013658, 331.0446049 , 320.97495252,\n",
       "        325.58274304, 336.54942365, 333.10518899, 333.79169125,\n",
       "        338.83743859, 324.47267754, 330.18122278, 315.19247612,\n",
       "        325.28021896, 327.18618158, 336.89728422, 327.05165441,\n",
       "        328.91752667, 316.51340935, 327.52018424, 326.83461817,\n",
       "        326.1694633 , 337.26992484, 340.43793445, 320.92781252,\n",
       "        325.00866508, 336.80106639, 323.10137043, 320.07930763,\n",
       "        323.70365237, 335.24780093, 334.27121312, 338.35070567,\n",
       "        329.89636423, 318.28332695, 328.84096046, 336.44385268,\n",
       "        318.52235042, 323.64899544, 323.47138865, 313.43257004,\n",
       "        338.12610078, 316.10552957, 331.34113605, 319.83922533,\n",
       "        323.26833248, 312.87800401, 320.45278557, 335.78982478,\n",
       "        323.55535227, 328.71916681, 333.80550569, 339.18053848,\n",
       "        311.33133066, 340.73109289, 336.24042826, 335.66617462,\n",
       "        340.08592762, 323.02008807, 320.57350345, 304.75690634,\n",
       "        335.64173764, 314.95672025, 331.07442657, 335.86326445,\n",
       "        332.42036495, 315.34985609, 323.72758137, 323.55300475,\n",
       "        320.80479197, 323.1598478 , 319.57492484, 329.94919852,\n",
       "        328.44994919, 327.04180153, 342.61330427, 338.91999858,\n",
       "        310.86789091, 328.66493135, 322.30537555, 323.62676283,\n",
       "        311.81875096, 329.82465246]),\n",
       " array([372.65462377, 372.52030646, 393.66328123, 391.93588886,\n",
       "        383.10365497, 400.39887683, 401.82692548, 390.59306133,\n",
       "        373.78545428, 409.0569317 , 385.75463127, 394.23668783,\n",
       "        399.25517624, 392.25828622, 401.8810397 , 373.75889751,\n",
       "        378.43986087, 379.05482789, 390.18746786, 402.14603093,\n",
       "        389.81766609, 395.64695172, 398.40408261, 391.24691609,\n",
       "        402.68322188, 394.13181983, 382.66110324, 403.40363622,\n",
       "        399.0702355 , 388.17897006, 392.96920755, 385.56043238,\n",
       "        389.3893023 , 377.85360787, 388.92532261, 397.10685782,\n",
       "        385.56835095, 417.85284582, 386.68062639, 393.44868997,\n",
       "        382.66640933, 380.82047958, 400.38108893, 408.60121823,\n",
       "        393.88526558, 386.84432941, 382.53923525, 405.26113226,\n",
       "        383.82155689, 399.09170591, 401.52123602, 410.88492469,\n",
       "        381.11022576, 408.84343903, 367.42383137, 392.63997001,\n",
       "        382.46520061, 391.24520394, 386.5618847 , 410.85434574,\n",
       "        393.85206848, 382.87351695, 413.44738307, 370.13716008,\n",
       "        393.76921112, 408.04208353, 382.81891827, 383.29584115,\n",
       "        384.21827065, 396.42411937, 394.72913859, 387.18241165,\n",
       "        395.79851489, 407.25675543, 401.05783848, 406.22990311,\n",
       "        399.68213363, 405.37589132, 398.09302201, 384.87128237,\n",
       "        382.89352137, 379.87395394, 387.11688402, 395.44139636,\n",
       "        407.83028441, 378.75665843, 391.48078576, 384.79084014,\n",
       "        392.42480351, 397.33290902, 402.38564278, 408.83074866,\n",
       "        393.82912353, 394.73981288, 390.91492838, 386.2491097 ,\n",
       "        395.50171415, 397.08239045, 398.82266809, 400.39476607,\n",
       "        392.69150788, 393.58284611, 387.52280098, 411.17667208,\n",
       "        388.62671889, 393.16479072, 393.47465816, 372.17443214,\n",
       "        412.6839281 , 388.22747896, 396.99455179, 383.75066897,\n",
       "        395.73863048, 388.55468202, 394.79222082, 410.19164374,\n",
       "        400.6541195 , 403.94954309, 415.27168375, 403.77106374,\n",
       "        377.27578961, 412.45284251, 409.93365094, 396.0268657 ,\n",
       "        394.44702391, 396.16155539, 391.21139237, 373.25646222,\n",
       "        399.30630547, 389.82086454, 386.01938931, 411.57953631,\n",
       "        392.52468579, 397.61687154, 390.88364936, 389.96886608,\n",
       "        387.84117071, 377.67607675, 389.47996239, 406.35969981,\n",
       "        386.90392249, 392.64446781, 411.71495568, 400.92901904,\n",
       "        385.42200579, 395.24828776, 397.47094509, 389.53351641,\n",
       "        383.34750971, 412.95709578]))"
      ]
     },
     "execution_count": 115,
     "metadata": {},
     "output_type": "execute_result"
    }
   ],
   "source": [
    "coeffs = [1,2,1,1.3,1,1.2,1,1.5,5] #Random coefficients\n",
    "model_vs_actual = modelling_function(coeffs, features, y)\n",
    "model_vs_actual #We get two numpy arrays containing the actual values of y versus the ones calculated via the given coefficients."
   ]
  },
  {
   "cell_type": "markdown",
   "id": "2ea9d650-0994-4ae8-bba9-3b8fdecbdd3e",
   "metadata": {
    "tags": []
   },
   "source": [
    "### Problem 4. Write the cost function and compute its gradients (1 point)\n",
    "Use MSE as the cost function $J$. Find a way to compute, calculate, or derive its gradients w.r.t. the model parameters $a_1, ..., a_m, b$\n",
    "\n",
    "Note that computing the cost function value and its gradients are two separate operations. Quick reminder: use vectorization to compute all gradients (maybe with the exception of $\\frac{\\partial J}{\\partial b}$) at the same time."
   ]
  },
  {
   "cell_type": "code",
   "execution_count": 117,
   "id": "99388ae1-1b23-4233-acf9-daf589bba07a",
   "metadata": {
    "tags": []
   },
   "outputs": [],
   "source": [
    "def cost_function(coefficients, features, y):\n",
    "    model_vs_actual = modelling_function(coefficients, features, y)\n",
    "    values = model_vs_actual[0]\n",
    "    model = model_vs_actual[1]\n",
    "    distances = (values - model) ** 2 #Get the distances, emphasizing on the larger errors, by squaring the result\n",
    "    avg_error = np.mean(distances)\n",
    "    return avg_error"
   ]
  },
  {
   "cell_type": "code",
   "execution_count": 119,
   "id": "fc0351ff-69f5-4b3c-a698-8a5cd69814d8",
   "metadata": {
    "tags": []
   },
   "outputs": [
    {
     "data": {
      "text/plain": [
       "4660.555156078077"
      ]
     },
     "execution_count": 119,
     "metadata": {},
     "output_type": "execute_result"
    }
   ],
   "source": [
    "J = cost_function(coeffs, features, y)\n",
    "J"
   ]
  },
  {
   "cell_type": "code",
   "execution_count": 121,
   "id": "97540c4a-e8ad-4bcb-9bc2-78f4d30433b5",
   "metadata": {
    "tags": []
   },
   "outputs": [],
   "source": [
    "def compute_gradient(features, y, a, b, learning_rate):\n",
    "    predictions = np.dot(features, a) + b\n",
    "    error = y - predictions\n",
    "    a_gradient = -2 / len(features) * np.dot(features.T, error) #Calculate gradient for coefficients\n",
    "    b_gradient = -2 / len(features) * np.sum(error) #Intercept gradient\n",
    "    new_a = a - a_gradient * learning_rate\n",
    "    new_b = b - b_gradient * learning_rate\n",
    "    return new_a, new_b"
   ]
  },
  {
   "cell_type": "markdown",
   "id": "1bad786e-4299-4900-ae86-16cbd2235a6e",
   "metadata": {
    "tags": []
   },
   "source": [
    "### Problem 5. Perform gradient descent (1 point)\n",
    "Perform weight updates iteratively. Find a useful criterion for stopping. For most cases, just using a fixed (large) number of steps is enough.\n",
    "\n",
    "You'll need to set a starting point (think about which one should be good, and how it matters); and a learning rate."
   ]
  },
  {
   "cell_type": "code",
   "execution_count": 123,
   "id": "73b98aa7-3930-41e2-9716-4278086681ab",
   "metadata": {
    "tags": []
   },
   "outputs": [
    {
     "data": {
      "text/plain": [
       "[1, 2, 1, 1.3, 1, 1.2, 1, 1.5, 5]"
      ]
     },
     "execution_count": 123,
     "metadata": {},
     "output_type": "execute_result"
    }
   ],
   "source": [
    "coeffs #These are the values I gave to the coefficients earlier."
   ]
  },
  {
   "cell_type": "code",
   "execution_count": 125,
   "id": "1ab111ab-f540-4223-a2f9-0cf31e56487a",
   "metadata": {
    "tags": []
   },
   "outputs": [],
   "source": [
    "model_a = np.array(coeffs[:-1]) #Get the coefficients\n",
    "model_b = coeffs[-1] #Get the intercept\n",
    "rate = 0.00001 #This will be the learning rate"
   ]
  },
  {
   "cell_type": "code",
   "execution_count": 127,
   "id": "dd4bc3bd-6b2c-4f40-9e94-40557a2325d0",
   "metadata": {
    "tags": []
   },
   "outputs": [
    {
     "name": "stdout",
     "output_type": "stream",
     "text": [
      "Step 0: a = [0.99330053 1.97914629 0.95285587 1.21822418 0.88440208 1.04918752\n",
      " 0.99602937 1.4828625 ], b = 4.998642596091235, J = 1216.0754140109375\n",
      "Step 100: a = [0.97931727 1.94166961 0.90469552 1.14971701 0.79641198 0.86784698\n",
      " 0.99540704 1.46692853], b = 4.997359454615568, J = 41.77571947964968\n",
      "Step 200: a = [0.97228523 1.92535436 0.90402869 1.16384207 0.82509743 0.84059199\n",
      " 0.99878448 1.46824071], b = 4.997450729242651, J = 39.68141267883662\n",
      "Step 300: a = [0.96546642 1.90919219 0.90299805 1.17742007 0.85279235 0.81450148\n",
      " 1.00209661 1.46938868], b = 4.997537081104089, J = 37.728367312808864\n",
      "Step 400: a = [0.95885231 1.89318536 0.90162372 1.19047383 0.87953648 0.78952498\n",
      " 1.00534617 1.4703823 ], b = 4.997618736019583, J = 35.9055878568353\n",
      "Step 500: a = [0.95243477 1.87733586 0.89992489 1.20302519 0.90536786 0.76561425\n",
      " 1.00853573 1.4712309 ], b = 4.997695909757067, J = 34.2029866711949\n",
      "Step 600: a = [0.946206   1.86164545 0.89791989 1.21509506 0.93032293 0.74272315\n",
      " 1.01166778 1.47194339], b = 4.9977688084753105, J = 32.61130735986694\n",
      "Step 700: a = [0.94015856 1.8461157  0.89562619 1.22670343 0.95443658 0.72080753\n",
      " 1.01474468 1.47252821], b = 4.997837629147194, J = 31.122054652684866\n",
      "Step 800: a = [0.93428533 1.83074793 0.89306047 1.23786945 0.97774221 0.69982518\n",
      " 1.01776869 1.47299336], b = 4.997902559964366, J = 29.72743025393797\n",
      "Step 900: a = [0.9285795  1.81554328 0.89023865 1.24861145 1.00027182 0.67973572\n",
      " 1.02074196 1.47334646], b = 4.997963780724177, J = 28.420274148025705\n",
      "Step 1000: a = [0.92303457 1.80050271 0.88717591 1.25894696 1.02205606 0.66050053\n",
      " 1.02366655 1.47359473], b = 4.9980214631996285, J = 27.19401089631862\n",
      "Final line: [0.92303457 1.80050271 0.88717591 1.25894696 1.02205606 0.66050053\n",
      " 1.02366655 1.47359473] * x + 4.9980214631996285\n"
     ]
    }
   ],
   "source": [
    "for i in range(1001):\n",
    "    model_a, model_b = compute_gradient(features, y, model_a, model_b, rate)\n",
    "    new_coeffs = np.hstack((model_a, model_b)) #Combine the feature coefficients with the intercept\n",
    "    if i % 100 == 0: #Print the result every 100 steps\n",
    "        error = cost_function(new_coeffs, features, y)\n",
    "        print(\"Step {}: a = {}, b = {}, J = {}\".format(i, model_a, model_b, error))\n",
    "print(\"Final line: {} * x + {}\".format(model_a, model_b)) "
   ]
  },
  {
   "cell_type": "markdown",
   "id": "d18a168f-de4c-4035-88db-7350c2b91745",
   "metadata": {},
   "source": [
    "### Problem 6. Do other cost functions work? (2 points)\n",
    "Repeat the process in problems 4 and 5 with MAE, and then again - with the [Huber loss](https://en.wikipedia.org/wiki/Huber_loss). Both of them are less sensitive to outliers / anomalies than MSE); with the Huber loss function being specifically made for datasets with outliers.\n",
    "\n",
    "Explain your findings. Is there a cost function that works much better? How about speed of training (measured in wall time)?"
   ]
  },
  {
   "cell_type": "markdown",
   "id": "6e708d35-4372-49c8-9800-37c5ac7d5956",
   "metadata": {},
   "source": [
    "Compute linear regression for MAE:"
   ]
  },
  {
   "cell_type": "code",
   "execution_count": 129,
   "id": "b3f0eb74-7b3d-4aa8-9749-dcb55e918a22",
   "metadata": {
    "tags": []
   },
   "outputs": [],
   "source": [
    "def cost_function_MAE(coefficients, features, y):\n",
    "    model_vs_actual = modelling_function(coefficients, features, y)\n",
    "    values = model_vs_actual[0]\n",
    "    model = model_vs_actual[1]\n",
    "    distances = np.abs(values - model) #Get the distances, emphasizing on the larger errors, by squaring the result\n",
    "    avg_error = np.mean(distances)\n",
    "    return avg_error"
   ]
  },
  {
   "cell_type": "code",
   "execution_count": 131,
   "id": "dc16e416-37b1-427b-abcb-47096b86f230",
   "metadata": {
    "tags": []
   },
   "outputs": [
    {
     "name": "stdout",
     "output_type": "stream",
     "text": [
      "Step 0: a = [0.92297991 1.80035314 0.88714411 1.25904832 1.02227024 0.66031237\n",
      " 1.02369556 1.47359671], b = 4.998022022717538, J = 4.227636347970742\n",
      "Step 100: a = [0.91759117 1.78547906 0.88385272 1.26899033 1.04333143 0.64190251\n",
      " 1.02657299 1.47374605], b = 4.99807629807281, J = 4.1350384659791475\n",
      "Step 200: a = [0.91235108 1.77077046 0.88034882 1.27855887 1.06370499 0.62427431\n",
      " 1.02940561 1.47380397], b = 4.998127357547805, J = 4.046174318876512\n",
      "Step 300: a = [0.90725396 1.75622777 0.87664558 1.28776932 1.08341782 0.60739399\n",
      " 1.03219521 1.47377663], b = 4.998175350834884, J = 3.9614005749852974\n",
      "Step 400: a = [0.90229437 1.74185129 0.87275554 1.29663641 1.10249572 0.59122923\n",
      " 1.03494351 1.47366987], b = 4.9982204209295364, J = 3.879440364158713\n",
      "Step 500: a = [0.8974671  1.7276412  0.86869066 1.30517421 1.12096337 0.57574915\n",
      " 1.03765214 1.47348923], b = 4.998262704425832, J = 3.7999567009406845\n",
      "Step 600: a = [0.89276717 1.71359752 0.86446236 1.31339623 1.13884443 0.56092417\n",
      " 1.04032267 1.47323995], b = 4.998302331798944, J = 3.724109517662173\n",
      "Step 700: a = [0.88818983 1.69972018 0.8600815  1.32131538 1.15616158 0.54672603\n",
      " 1.04295659 1.472927  ], b = 4.998339427675242, J = 3.6511917835189904\n",
      "Step 800: a = [0.88373051 1.68600896 0.85555845 1.32894401 1.17293654 0.53312768\n",
      " 1.04555533 1.4725551 ], b = 4.998374111090545, J = 3.5812784380118834\n",
      "Step 900: a = [0.87938486 1.67246354 0.85090307 1.33629397 1.1891901  0.52010326\n",
      " 1.04812024 1.47212869], b = 4.998406495737006, J = 3.51431789657473\n",
      "Step 1000: a = [0.87514871 1.65908353 0.84612476 1.34337659 1.20494222 0.50762802\n",
      " 1.05065263 1.471652  ], b = 4.99843669019919, J = 3.4497605166883702\n",
      "Final line: [0.87514871 1.65908353 0.84612476 1.34337659 1.20494222 0.50762802\n",
      " 1.05065263 1.471652  ] * x + 4.99843669019919\n"
     ]
    }
   ],
   "source": [
    "for i in range(1001):\n",
    "    model_a, model_b = compute_gradient(features, y, model_a, model_b, rate)\n",
    "    new_coeffs = np.hstack((model_a, model_b)) #Combine the feature coefficients with the intercept\n",
    "    if i % 100 == 0: #Print the result every 100 steps\n",
    "        error = cost_function_MAE(new_coeffs, features, y)\n",
    "        print(\"Step {}: a = {}, b = {}, J = {}\".format(i, model_a, model_b, error))\n",
    "print(\"Final line: {} * x + {}\".format(model_a, model_b)) "
   ]
  },
  {
   "cell_type": "markdown",
   "id": "04fe4b6d-59b1-48ff-a07c-f7bdb5d1a7dd",
   "metadata": {},
   "source": [
    "Compute linear regression with the Hubber loss function:"
   ]
  },
  {
   "cell_type": "code",
   "execution_count": 133,
   "id": "6177239e-be16-4a90-9c37-9d19514fe0ab",
   "metadata": {
    "tags": []
   },
   "outputs": [],
   "source": [
    "delta = 1.0 #Hubber loss threshold\n",
    "\n",
    "def cost_function_Hubber_loss(coefficients, features, y, delta):\n",
    "    model_vs_actual = modelling_function(coefficients, features, y)\n",
    "    values = model_vs_actual[0]\n",
    "    model = model_vs_actual[1]\n",
    "    residual = values - model\n",
    "    loss = np.where(np.abs(residual) <= delta,  # Condition\n",
    "                    0.5 * residual ** 2,        # MSE part (quadratic)\n",
    "                    delta * (np.abs(residual) - 0.5 * delta))  # MAE part (linear)\n",
    "    return np.mean(loss)"
   ]
  },
  {
   "cell_type": "code",
   "execution_count": 135,
   "id": "a522515e-c7ec-4d97-a764-969ad7ae502c",
   "metadata": {
    "tags": []
   },
   "outputs": [
    {
     "name": "stdout",
     "output_type": "stream",
     "text": [
      "Step 0: a = [0.87510689 1.65895056 0.84607639 1.3434461  1.20509727 0.50750596\n",
      " 1.05067779 1.47164699], b = 4.998436981438237, J = 2.9810154362977292\n",
      "Step 100: a = [0.87097728 1.64573708 0.84118302 1.35026972 1.22036231 0.49556137\n",
      " 1.0531786  1.47112356], b = 4.9984650690617505, J = 2.9191950187277182\n",
      "Step 200: a = [0.86694933 1.63268789 0.83618431 1.35684735 1.2351635  0.48411944\n",
      " 1.05564931 1.47055764], b = 4.998491170207762, J = 2.8595642373059666\n",
      "Step 300: a = [0.86301938 1.6198023  0.83108838 1.36318892 1.24951838 0.47315852\n",
      " 1.05809108 1.4699528 ], b = 4.998515379409474, J = 2.802000164295804\n",
      "Step 400: a = [0.85918393 1.60707956 0.82590294 1.36930396 1.26344375 0.46265791\n",
      " 1.06050498 1.46931242], b = 4.998537786939485, J = 2.746360129318786\n",
      "Step 500: a = [0.85543966 1.59451883 0.82063537 1.37520159 1.27695574 0.45259779\n",
      " 1.06289203 1.46863966], b = 4.998558478998264, J = 2.692560119378882\n",
      "Step 600: a = [0.85178334 1.58211921 0.81529267 1.38089055 1.29006978 0.44295923\n",
      " 1.06525324 1.46793755], b = 4.9985775378943895, J = 2.6405422152457585\n",
      "Step 700: a = [0.84821193 1.56987975 0.8098815  1.38637919 1.30280069 0.4337241\n",
      " 1.06758954 1.46720892], b = 4.998595042216824, J = 2.59022054545073\n",
      "Step 800: a = [0.84472247 1.55779942 0.8044082  1.39167552 1.31516266 0.42487507\n",
      " 1.06990182 1.46645643], b = 4.998611066999646, J = 2.541516482911575\n",
      "Step 900: a = [0.84131218 1.54587716 0.79887881 1.39678723 1.3271693  0.41639555\n",
      " 1.07219096 1.46568263], b = 4.998625683879562, J = 2.494349748724061\n",
      "Step 1000: a = [0.83797835 1.53411183 0.79329904 1.40172165 1.33883365 0.40826968\n",
      " 1.07445776 1.46488988], b = 4.99863896124642, J = 2.4486665839534796\n",
      "Final line: [0.83797835 1.53411183 0.79329904 1.40172165 1.33883365 0.40826968\n",
      " 1.07445776 1.46488988] * x + 4.99863896124642\n"
     ]
    }
   ],
   "source": [
    "for i in range(1001):\n",
    "    model_a, model_b = compute_gradient(features, y, model_a, model_b, rate)\n",
    "    new_coeffs = np.hstack((model_a, model_b)) #Combine the feature coefficients with the intercept\n",
    "    if i % 100 == 0: #Print the result every 100 steps\n",
    "        error = cost_function_Hubber_loss(new_coeffs, features, y, delta)\n",
    "        print(\"Step {}: a = {}, b = {}, J = {}\".format(i, model_a, model_b, error))\n",
    "print(\"Final line: {} * x + {}\".format(model_a, model_b)) "
   ]
  },
  {
   "cell_type": "markdown",
   "id": "1d4176d1-6cad-4830-824c-1d27e50efe89",
   "metadata": {},
   "source": [
    "### Problem 7. Experiment with the learning rate (1 point)\n",
    "Use your favorite cost function. Run several \"experiments\" with different learning rates. Try really small, and really large values. Observe and document your findings."
   ]
  },
  {
   "cell_type": "code",
   "execution_count": null,
   "id": "71f04525-95f3-427d-8763-27af6839cb93",
   "metadata": {
    "tags": []
   },
   "outputs": [],
   "source": []
  },
  {
   "cell_type": "markdown",
   "id": "91385302-2fc1-48a4-a453-cce7f038e9c2",
   "metadata": {},
   "source": [
    "### Problem 8. Generate some data for classification (1 point)\n",
    "You'll need to create two clusters of points (one cluster for each class). I recomment using `scikit-learn`'s `make_blobs()` ([info](https://scikit-learn.org/stable/modules/generated/sklearn.datasets.make_blobs.html)). Use as many features as you used in problem 1."
   ]
  },
  {
   "cell_type": "code",
   "execution_count": 38,
   "id": "b948009d-6af6-468c-ac6e-bacd4f75498c",
   "metadata": {
    "tags": []
   },
   "outputs": [
    {
     "data": {
      "image/png": "[encoded data removed]",
      "text/plain": [
       "<Figure size 800x600 with 2 Axes>"
      ]
     },
     "metadata": {},
     "output_type": "display_data"
    }
   ],
   "source": [
    "X, y = make_blobs(n_samples=150, centers=2, n_features=8, random_state=42) # X contains the 8 features, y contains the class labels (0 or 1)\n",
    " \n",
    "# Step 2: Reduce dimensions for visualization using PCA (from 8D to 2D)\n",
    "pca = PCA(n_components=2)\n",
    "X_pca = pca.fit_transform(X)\n",
    "\n",
    "# Step 3: Visualize the clusters\n",
    "plt.figure(figsize=(8, 6))\n",
    "plt.scatter(X_pca[:, 0], X_pca[:, 1], c=y, cmap='viridis', edgecolor='k')\n",
    "plt.title(\"Visualization of Clusters (PCA Reduced to 2D)\")\n",
    "plt.xlabel(\"Principal Component 1\")\n",
    "plt.ylabel(\"Principal Component 2\")\n",
    "plt.colorbar(label=\"Class\")\n",
    "plt.show()"
   ]
  },
  {
   "cell_type": "markdown",
   "id": "c6246890-0808-40e1-b892-fa1d11fd088c",
   "metadata": {},
   "source": [
    "### Problem 9. Perform logistic regression (1 point)\n",
    "Reuse the code you wrote in problems 3-7 as much as possible. If you wrote vectorized functions with variable parameters - you should find this easy. If not - it's not too late to go back and refactor your code.\n",
    "\n",
    "The modelling function for logistic regression is\n",
    "$$ \\tilde{y} = \\frac{1}{1+\\exp{(-\\sum_{i=1}^{m}a_i x_i + b)}}$$. Find a way to represent it using as much of your previous code as you can.\n",
    "\n",
    "The most commonly used loss function is the [cross-entropy](https://en.wikipedia.org/wiki/Cross-entropy).\n",
    "\n",
    "Experiment with different learning rates, basically repeating what you did in problem 7."
   ]
  },
  {
   "cell_type": "code",
   "execution_count": 40,
   "id": "c193f5ff-f20c-40ef-9945-7a8694fafba2",
   "metadata": {
    "tags": []
   },
   "outputs": [
    {
     "name": "stdout",
     "output_type": "stream",
     "text": [
      "Iteration 0, Loss: 12.5468\n",
      "Iteration 100, Loss: 0.0048\n",
      "Iteration 200, Loss: 0.0019\n",
      "Iteration 300, Loss: 0.0012\n",
      "Iteration 400, Loss: 0.0008\n",
      "Iteration 500, Loss: 0.0007\n",
      "Iteration 600, Loss: 0.0005\n",
      "Iteration 700, Loss: 0.0005\n",
      "Iteration 800, Loss: 0.0004\n",
      "Iteration 900, Loss: 0.0003\n",
      "Model accuracy: 100.00%\n"
     ]
    }
   ],
   "source": [
    "y = y.reshape(-1, 1)  # Reshape y to be a column vector\n",
    "\n",
    "m = X.shape[1]  # Number of features\n",
    "a = np.random.randn(m, 1)  # Weights (coefficients)\n",
    "b = 0  # Bias (intercept)\n",
    "learning_rate = 0.01\n",
    "n_iterations = 1000\n",
    "\n",
    "# Sigmoid Function\n",
    "def sigmoid(z):\n",
    "    return 1 / (1 + np.exp(-z))\n",
    "\n",
    "# Gradient Descent Loop\n",
    "for _ in range(n_iterations):\n",
    "    # Linear combination: z = X @ a + b\n",
    "    z = np.dot(X, a) + b\n",
    "    y_pred = sigmoid(z)\n",
    "\n",
    "    # Calculate Loss (Binary Cross-Entropy)\n",
    "    loss = -np.mean(y * np.log(y_pred) + (1 - y) * np.log(1 - y_pred))\n",
    "\n",
    "    # Calculate Gradients\n",
    "    dz = y_pred - y\n",
    "    da = np.dot(X.T, dz) / y.shape[0]  # Gradient w.r.t. weights\n",
    "    db = np.mean(dz)                   # Gradient w.r.t. bias\n",
    "\n",
    "    # Update Parameters\n",
    "    a -= learning_rate * da\n",
    "    b -= learning_rate * db\n",
    "\n",
    "    # Print Loss every 100 iterations\n",
    "    if _ % 100 == 0:\n",
    "        print(f\"Iteration {_}, Loss: {loss:.4f}\")\n",
    "\n",
    "# Prediction Function\n",
    "def predict(X):\n",
    "    z = np.dot(X, a) + b\n",
    "    return sigmoid(z) >= 0.5  # Classify as 1 if probability >= 0.5\n",
    "\n",
    "# Evaluate Accuracy\n",
    "y_pred = predict(X)\n",
    "accuracy = np.mean(y_pred == y) * 100\n",
    "print(f\"Model accuracy: {accuracy:.2f}%\")"
   ]
  },
  {
   "cell_type": "markdown",
   "id": "411df95f-5f16-4c37-8649-2c495eb96974",
   "metadata": {},
   "source": [
    "### * Problem 10. Continue experimenting and delving deep into ML\n",
    "You just saw how modelling works and how to implement some code. Some of the things you can think about (and I recommend you pause and ponder on some of them are):\n",
    "* Code: OOP can be your friend sometimes. `scikit-learn`'s models have `fit()`, `predict()` and `score()` methods.\n",
    "* Data: What approaches work on non-generated data?\n",
    "* Evaluation: How well do different models (and their \"settings\" - hyperparameters) actually work in practice? How do we evaluate a model in a meaningful way?\n",
    "* Optimization - maths: Look at what `optimizers` (or solvers) are used in `scikit-learn` and why. Many \"tricks\" revolve around making the algorithm converge (finish) in fewer iterations, or making it more numerically stable.\n",
    "* Optimization - code: Are there ways to make the code run fastr?"
   ]
  },
  {
   "cell_type": "code",
   "execution_count": null,
   "id": "08101fb6-d53f-4dc9-8f37-d07478c9e220",
   "metadata": {},
   "outputs": [],
   "source": []
  }
 ],
 "metadata": {
  "kernelspec": {
   "display_name": "Python 3 (ipykernel)",
   "language": "python",
   "name": "python3"
  },
  "language_info": {
   "codemirror_mode": {
    "name": "ipython",
    "version": 3
   },
   "file_extension": ".py",
   "mimetype": "text/x-python",
   "name": "python",
   "nbconvert_exporter": "python",
   "pygments_lexer": "ipython3",
   "version": "3.11.7"
  }
 },
 "nbformat": 4,
 "nbformat_minor": 5
}
