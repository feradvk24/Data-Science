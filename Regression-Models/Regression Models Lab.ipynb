{
 "cells": [
  {
   "cell_type": "code",
   "execution_count": 1,
   "id": "b1a21845-5edc-410a-ab41-5196319ddec6",
   "metadata": {},
   "outputs": [],
   "source": [
    "# Write your imports here\n",
    "import pandas as pd\n",
    "import matplotlib.pyplot as plt\n",
    "import numpy as np\n",
    "import seaborn as sns\n",
    "\n",
    "import matplotlib.pyplot as plt\n",
    "from sklearn.datasets import make_blobs\n",
    "from sklearn.decomposition import PCA"
   ]
  },
  {
   "cell_type": "markdown",
   "id": "d3786fdb-7af6-4ce2-b730-90c60a5d896f",
   "metadata": {},
   "source": [
    "# Regression Models Lab\n",
    "## Linear and logistic regression: theory and practice"
   ]
  },
  {
   "cell_type": "markdown",
   "id": "56d6ff4b-e18a-4580-8c7c-54f4c7ef2dc9",
   "metadata": {},
   "source": [
    "In this lab you'll revisit and expand on your knowledge of modelling in general, as well as the fundamentals of linear and logistic regression. As a reminder, _linear regression_ is a regression model (regressor), and _logistic regression_ is a classification model (classifier).\n",
    "\n",
    "This time, you'll use generated data, in order to separate some of the complexity of handling various datasets from inspecting and evaluating models.\n",
    "\n",
    "**Use vectorization as much as possible!** You should be able to complete the lab using for-loops only to track the training steps."
   ]
  },
  {
   "cell_type": "markdown",
   "id": "2b8a9603-c803-4728-a69d-b6acfe2bad8a",
   "metadata": {},
   "source": [
    "### Problem 1. Generate some data for multiple linear regression (1 point)\n",
    "As an expansion to the lecture, you'll create a dataset and a model.\n",
    "\n",
    "Create a dataset of some (e.g., 50-500) observations of several (e.g., 5-20) independent features. You can use random generators for them; think about what distributions you'd like to use. Let's call them $x_1, x_2, ..., x_m$. The data matrix $X$ you should get should be of size $n \\times m$. It's best if all features have different ranges.\n",
    "\n",
    "Create the dependent variable by assigning coefficients $\\bar{a_1}, \\bar{a_2}, ..., \\bar{a_m}, \\bar{b}$ and calculating $y$ as a linear combination of the input features. Add some random noise to the functional values. I've used bars over coefficients to avoid confusion with the model parameters later.\n",
    "\n",
    "Save the dataset ($X$ and $y$), and \"forget\" that the coefficients have ever existed. \"All\" you have is the file and the implicit assumption that there is a linear relationship between $X$ and $y$."
   ]
  },
  {
   "cell_type": "markdown",
   "id": "efaa8539-af79-4e19-ac37-826aeeb1175f",
   "metadata": {},
   "source": [
    "Lets generate a dataset with 8 features with different ranges and 150 observations."
   ]
  },
  {
   "cell_type": "code",
   "execution_count": 6,
   "id": "8bcaa62c-2462-471e-a1c1-3b6913eedd89",
   "metadata": {
    "tags": []
   },
   "outputs": [],
   "source": [
    "random_data = {\n",
    "    \"x1\": np.random.uniform(0, 10, 150),\n",
    "    \"x2\": np.random.uniform(10, 20, 150),\n",
    "    \"x3\": np.random.uniform(30, 40, 150),\n",
    "    \"x4\": np.random.uniform(55, 65, 150),\n",
    "    \"x5\": np.random.uniform(80, 90, 150),\n",
    "    \"x6\": np.random.uniform(100, 120, 150),\n",
    "    \"x7\": np.random.uniform(1, 5, 150),\n",
    "    \"x8\": np.random.uniform(8, 18, 150),\n",
    "}\n",
    "\n",
    "dataframe = pd.DataFrame(random_data)\n",
    "X = dataframe.to_numpy()"
   ]
  },
  {
   "cell_type": "code",
   "execution_count": 7,
   "id": "3b197fc2-cc26-4c2d-a83d-902f07a510c7",
   "metadata": {
    "tags": []
   },
   "outputs": [],
   "source": [
    "coefficients = np.random.uniform(0.1, 2, dataframe.shape[1])  # Random coefficients for each feature\n",
    "intercept = np.random.uniform(-10, 10)      # Random intercept\n",
    "\n",
    "y = X @ coefficients + intercept  # Linear combination\n",
    "noise = np.random.normal(0, 1, len(y))  # Gaussian noise\n",
    "y += noise  # Add noise to the dependent variable\n",
    "dataframe[\"y\"] = y"
   ]
  },
  {
   "cell_type": "markdown",
   "id": "d132593d-0c68-4373-bcbc-779635b62458",
   "metadata": {},
   "source": [
    "Now lets assign the coefficients to create the dependant variable **y**:"
   ]
  },
  {
   "cell_type": "code",
   "execution_count": 9,
   "id": "d45d64f1-354e-4804-94c0-ff4a8cfa7f4c",
   "metadata": {
    "tags": []
   },
   "outputs": [],
   "source": [
    "#Save the data\n",
    "dataframe.to_csv(\"Data.csv\")"
   ]
  },
  {
   "cell_type": "markdown",
   "id": "c4bb4164-eaa3-4b76-ae3f-36da95416b7b",
   "metadata": {
    "tags": []
   },
   "source": [
    "### Problem 2. Check your assumption (1 point)\n",
    "Read the dataset you just saved (this is just to simulate starting a new project). It's a good idea to test and verify our assumptions. Find a way to check whether there really is a linear relationship between the features and output."
   ]
  },
  {
   "cell_type": "code",
   "execution_count": 11,
   "id": "d13c8452-5eb1-4719-88da-372331cfce82",
   "metadata": {
    "tags": []
   },
   "outputs": [],
   "source": [
    "data = pd.read_csv(\"Data.csv\")\n",
    "data = data.drop(\"Unnamed: 0\", axis = 1)"
   ]
  },
  {
   "cell_type": "code",
   "execution_count": 12,
   "id": "642d040d-47d9-4c5f-a21e-b6c8acb26a6c",
   "metadata": {
    "tags": []
   },
   "outputs": [
    {
     "data": {
      "text/html": [
       "<div>\n",
       "<style scoped>\n",
       "    .dataframe tbody tr th:only-of-type {\n",
       "        vertical-align: middle;\n",
       "    }\n",
       "\n",
       "    .dataframe tbody tr th {\n",
       "        vertical-align: top;\n",
       "    }\n",
       "\n",
       "    .dataframe thead th {\n",
       "        text-align: right;\n",
       "    }\n",
       "</style>\n",
       "<table border=\"1\" class=\"dataframe\">\n",
       "  <thead>\n",
       "    <tr style=\"text-align: right;\">\n",
       "      <th></th>\n",
       "      <th>x1</th>\n",
       "      <th>x2</th>\n",
       "      <th>x3</th>\n",
       "      <th>x4</th>\n",
       "      <th>x5</th>\n",
       "      <th>x6</th>\n",
       "      <th>x7</th>\n",
       "      <th>x8</th>\n",
       "      <th>y</th>\n",
       "    </tr>\n",
       "  </thead>\n",
       "  <tbody>\n",
       "    <tr>\n",
       "      <th>0</th>\n",
       "      <td>5.275073</td>\n",
       "      <td>12.671587</td>\n",
       "      <td>38.633711</td>\n",
       "      <td>60.158288</td>\n",
       "      <td>88.500272</td>\n",
       "      <td>116.598954</td>\n",
       "      <td>1.100073</td>\n",
       "      <td>16.855420</td>\n",
       "      <td>361.888692</td>\n",
       "    </tr>\n",
       "    <tr>\n",
       "      <th>1</th>\n",
       "      <td>4.777939</td>\n",
       "      <td>11.298336</td>\n",
       "      <td>33.059267</td>\n",
       "      <td>62.146872</td>\n",
       "      <td>89.917955</td>\n",
       "      <td>110.763649</td>\n",
       "      <td>1.608410</td>\n",
       "      <td>8.418244</td>\n",
       "      <td>350.791445</td>\n",
       "    </tr>\n",
       "    <tr>\n",
       "      <th>2</th>\n",
       "      <td>7.562326</td>\n",
       "      <td>11.868250</td>\n",
       "      <td>34.382652</td>\n",
       "      <td>55.200791</td>\n",
       "      <td>87.770570</td>\n",
       "      <td>111.646527</td>\n",
       "      <td>2.122547</td>\n",
       "      <td>8.263569</td>\n",
       "      <td>340.696923</td>\n",
       "    </tr>\n",
       "    <tr>\n",
       "      <th>3</th>\n",
       "      <td>1.301145</td>\n",
       "      <td>10.181649</td>\n",
       "      <td>34.861441</td>\n",
       "      <td>55.100581</td>\n",
       "      <td>88.076458</td>\n",
       "      <td>115.229665</td>\n",
       "      <td>3.839116</td>\n",
       "      <td>8.333778</td>\n",
       "      <td>333.575237</td>\n",
       "    </tr>\n",
       "    <tr>\n",
       "      <th>4</th>\n",
       "      <td>1.442786</td>\n",
       "      <td>15.743803</td>\n",
       "      <td>34.120841</td>\n",
       "      <td>63.911252</td>\n",
       "      <td>85.762166</td>\n",
       "      <td>107.708342</td>\n",
       "      <td>4.748153</td>\n",
       "      <td>11.311408</td>\n",
       "      <td>348.382638</td>\n",
       "    </tr>\n",
       "    <tr>\n",
       "      <th>...</th>\n",
       "      <td>...</td>\n",
       "      <td>...</td>\n",
       "      <td>...</td>\n",
       "      <td>...</td>\n",
       "      <td>...</td>\n",
       "      <td>...</td>\n",
       "      <td>...</td>\n",
       "      <td>...</td>\n",
       "      <td>...</td>\n",
       "    </tr>\n",
       "    <tr>\n",
       "      <th>145</th>\n",
       "      <td>8.578101</td>\n",
       "      <td>14.398514</td>\n",
       "      <td>37.445732</td>\n",
       "      <td>60.892057</td>\n",
       "      <td>83.372882</td>\n",
       "      <td>117.651135</td>\n",
       "      <td>4.354314</td>\n",
       "      <td>10.156231</td>\n",
       "      <td>358.814103</td>\n",
       "    </tr>\n",
       "    <tr>\n",
       "      <th>146</th>\n",
       "      <td>3.572656</td>\n",
       "      <td>15.864600</td>\n",
       "      <td>32.162688</td>\n",
       "      <td>56.712881</td>\n",
       "      <td>86.984773</td>\n",
       "      <td>116.392098</td>\n",
       "      <td>4.380778</td>\n",
       "      <td>16.670639</td>\n",
       "      <td>350.025232</td>\n",
       "    </tr>\n",
       "    <tr>\n",
       "      <th>147</th>\n",
       "      <td>8.824331</td>\n",
       "      <td>10.383303</td>\n",
       "      <td>33.790038</td>\n",
       "      <td>59.161950</td>\n",
       "      <td>88.618294</td>\n",
       "      <td>103.739603</td>\n",
       "      <td>2.285387</td>\n",
       "      <td>9.874093</td>\n",
       "      <td>350.202001</td>\n",
       "    </tr>\n",
       "    <tr>\n",
       "      <th>148</th>\n",
       "      <td>8.391324</td>\n",
       "      <td>13.085105</td>\n",
       "      <td>36.714350</td>\n",
       "      <td>64.119033</td>\n",
       "      <td>85.160622</td>\n",
       "      <td>106.436337</td>\n",
       "      <td>1.740843</td>\n",
       "      <td>10.477782</td>\n",
       "      <td>359.036400</td>\n",
       "    </tr>\n",
       "    <tr>\n",
       "      <th>149</th>\n",
       "      <td>2.429083</td>\n",
       "      <td>12.535354</td>\n",
       "      <td>38.702617</td>\n",
       "      <td>56.435388</td>\n",
       "      <td>84.974550</td>\n",
       "      <td>102.040148</td>\n",
       "      <td>4.326280</td>\n",
       "      <td>17.575736</td>\n",
       "      <td>345.379073</td>\n",
       "    </tr>\n",
       "  </tbody>\n",
       "</table>\n",
       "<p>150 rows × 9 columns</p>\n",
       "</div>"
      ],
      "text/plain": [
       "           x1         x2         x3         x4         x5          x6  \\\n",
       "0    5.275073  12.671587  38.633711  60.158288  88.500272  116.598954   \n",
       "1    4.777939  11.298336  33.059267  62.146872  89.917955  110.763649   \n",
       "2    7.562326  11.868250  34.382652  55.200791  87.770570  111.646527   \n",
       "3    1.301145  10.181649  34.861441  55.100581  88.076458  115.229665   \n",
       "4    1.442786  15.743803  34.120841  63.911252  85.762166  107.708342   \n",
       "..        ...        ...        ...        ...        ...         ...   \n",
       "145  8.578101  14.398514  37.445732  60.892057  83.372882  117.651135   \n",
       "146  3.572656  15.864600  32.162688  56.712881  86.984773  116.392098   \n",
       "147  8.824331  10.383303  33.790038  59.161950  88.618294  103.739603   \n",
       "148  8.391324  13.085105  36.714350  64.119033  85.160622  106.436337   \n",
       "149  2.429083  12.535354  38.702617  56.435388  84.974550  102.040148   \n",
       "\n",
       "           x7         x8           y  \n",
       "0    1.100073  16.855420  361.888692  \n",
       "1    1.608410   8.418244  350.791445  \n",
       "2    2.122547   8.263569  340.696923  \n",
       "3    3.839116   8.333778  333.575237  \n",
       "4    4.748153  11.311408  348.382638  \n",
       "..        ...        ...         ...  \n",
       "145  4.354314  10.156231  358.814103  \n",
       "146  4.380778  16.670639  350.025232  \n",
       "147  2.285387   9.874093  350.202001  \n",
       "148  1.740843  10.477782  359.036400  \n",
       "149  4.326280  17.575736  345.379073  \n",
       "\n",
       "[150 rows x 9 columns]"
      ]
     },
     "execution_count": 12,
     "metadata": {},
     "output_type": "execute_result"
    }
   ],
   "source": [
    "data"
   ]
  },
  {
   "cell_type": "markdown",
   "id": "672bf680-9939-42f8-8c20-98f3cf2d7ceb",
   "metadata": {},
   "source": [
    "To display the correlation between the features and the variable **y**, I will find the sum of all the features and plot it with the variable."
   ]
  },
  {
   "cell_type": "code",
   "execution_count": 14,
   "id": "560dc84a-a612-41a9-95a4-5c9546999bb3",
   "metadata": {
    "tags": []
   },
   "outputs": [],
   "source": [
    "features_sum = data.loc[:, data.columns != 'y'].sum(axis=1)"
   ]
  },
  {
   "cell_type": "code",
   "execution_count": 15,
   "id": "7923ac7a-a0d2-4862-88c5-fb483a535a0c",
   "metadata": {
    "tags": []
   },
   "outputs": [
    {
     "data": {
      "text/plain": [
       "Text(0, 0.5, 'y')"
      ]
     },
     "execution_count": 15,
     "metadata": {},
     "output_type": "execute_result"
    },
    {
     "data": {
      "image/png": "[encoded data removed]",
      "text/plain": [
       "<Figure size 640x480 with 1 Axes>"
      ]
     },
     "metadata": {},
     "output_type": "display_data"
    }
   ],
   "source": [
    "plt.scatter(features_sum, data.y, color = \"red\")\n",
    "plt.xlabel(\"features_sum\")\n",
    "plt.ylabel(\"y\")"
   ]
  },
  {
   "cell_type": "markdown",
   "id": "c6901751-f1d5-4c79-8b02-2d169a1918ce",
   "metadata": {},
   "source": [
    "There does seem to be a strong correlation between the features and the **y** variable."
   ]
  },
  {
   "cell_type": "markdown",
   "id": "3b5f9a49-cee6-4537-b82f-d8148a45c0c2",
   "metadata": {
    "tags": []
   },
   "source": [
    "### Problem 3. Figure out the modelling function (1 point)\n",
    "The modelling function for linear regression is of the form\n",
    "$$ \\tilde{y} = \\sum_{i=1}^{m}a_i x_i + b $$\n",
    "\n",
    "If you want to be clever, you can find a way to represent $b$ in the same way as the other coefficients.\n",
    "\n",
    "Write a Python function which accepts coefficients and data, and ensure (test) it works correctly."
   ]
  },
  {
   "cell_type": "code",
   "execution_count": 18,
   "id": "f6f4d032-6ae2-4f5f-b5ca-55e027a9a89d",
   "metadata": {
    "tags": []
   },
   "outputs": [],
   "source": [
    "features = data.iloc[:, :-1].to_numpy() #Extract the columns with features\n",
    "y = data.iloc[:, -1].to_numpy() #Extract the column with the dependant variable"
   ]
  },
  {
   "cell_type": "code",
   "execution_count": 19,
   "id": "0f413d7d-3fe5-4f78-8fcd-6434ceb1f9d7",
   "metadata": {},
   "outputs": [],
   "source": [
    "def modelling_function(coefficients, features, y):\n",
    "    \"\"\"The function takes a dataframe with the features and the y variable and a list of coefficients with the number of \n",
    "    features plus 1 - the last one being for the b value.\n",
    "    It returns a tuple of the y values and the predicted y values\n",
    "    \"\"\"\n",
    "    predictions = np.sum(features * coefficients[:-1], axis = 1) + coefficients[-1] #Calculate the predicted y\n",
    "    return y, predictions"
   ]
  },
  {
   "cell_type": "code",
   "execution_count": 20,
   "id": "9918d44f-f255-45e7-a1ee-6526b4d82f59",
   "metadata": {
    "tags": []
   },
   "outputs": [
    {
     "data": {
      "text/plain": [
       "(array([361.88869223, 350.79144471, 340.69692279, 333.57523666,\n",
       "        348.38263788, 345.25653088, 332.83752288, 345.30233103,\n",
       "        335.04039355, 346.9402093 , 364.88367641, 339.17568145,\n",
       "        324.74040598, 353.08262987, 361.25051751, 339.95460941,\n",
       "        346.67096042, 359.79372258, 355.88512383, 358.5989019 ,\n",
       "        351.2649312 , 354.96306663, 342.90342218, 337.90266863,\n",
       "        352.66939926, 341.91726252, 349.09593445, 344.94129252,\n",
       "        351.42350925, 360.63209349, 342.91130624, 334.80962717,\n",
       "        334.04383302, 341.12051809, 353.51324327, 342.08526367,\n",
       "        349.05633174, 343.78210782, 364.96507458, 339.35711562,\n",
       "        353.47741885, 347.19519803, 331.94937585, 345.66671471,\n",
       "        336.33101054, 344.39410013, 344.2611072 , 341.69405415,\n",
       "        372.14462339, 366.26122749, 361.67511595, 354.14312798,\n",
       "        352.24222987, 341.555449  , 347.42457926, 344.48197396,\n",
       "        351.77998092, 351.36662749, 333.61266535, 359.1756598 ,\n",
       "        347.23875436, 347.4410765 , 346.53625631, 333.54052805,\n",
       "        352.18318368, 348.77734207, 342.68289819, 345.44473881,\n",
       "        346.93560819, 361.48397116, 351.30641452, 353.02155739,\n",
       "        370.40204303, 346.09874101, 361.97285351, 350.6948369 ,\n",
       "        345.48093235, 357.04852785, 346.39636529, 345.99138039,\n",
       "        360.78320996, 339.88604333, 338.1865736 , 334.53519491,\n",
       "        334.39962454, 343.47000448, 330.84462816, 349.52753015,\n",
       "        360.46101539, 354.56079428, 351.66789224, 328.63865218,\n",
       "        335.14688064, 348.30682301, 343.48410235, 342.08903522,\n",
       "        337.69486867, 348.09264963, 356.67300393, 361.28954528,\n",
       "        368.97809957, 352.83554911, 330.07357413, 363.04240553,\n",
       "        349.44298235, 331.19433128, 360.38475039, 344.0112784 ,\n",
       "        317.77852287, 372.06445992, 341.00046086, 370.17586482,\n",
       "        359.48642276, 361.83179318, 353.28899565, 352.39263541,\n",
       "        347.79006891, 362.9593918 , 352.3811325 , 345.40727449,\n",
       "        348.78202475, 365.3260728 , 342.38453083, 350.09282214,\n",
       "        350.85980372, 345.30773517, 343.56212404, 342.2829268 ,\n",
       "        336.40696986, 348.14283163, 360.57502271, 346.30095937,\n",
       "        354.7806805 , 361.31699291, 329.62052494, 358.85069316,\n",
       "        358.88651216, 353.43553874, 355.47684938, 355.79640495,\n",
       "        339.48521053, 333.78296526, 352.49221807, 362.44510504,\n",
       "        359.68538184, 358.81410254, 350.02523248, 350.20200057,\n",
       "        359.03640011, 345.379073  ]),\n",
       " array([407.25995261, 383.29492174, 378.70681063, 375.84847981,\n",
       "        391.86330222, 394.40071151, 362.67356007, 387.63828298,\n",
       "        379.97194494, 384.3774362 , 385.92705135, 379.91458424,\n",
       "        362.41207692, 414.78575357, 407.9397139 , 388.4086609 ,\n",
       "        386.63043947, 409.31135955, 389.72950632, 397.29393142,\n",
       "        393.32587387, 409.57611282, 403.29869687, 397.14871369,\n",
       "        398.32470775, 398.9823959 , 394.8350375 , 406.73338223,\n",
       "        401.82994006, 410.84433984, 394.24627516, 385.73152514,\n",
       "        368.57800585, 384.65200999, 394.2509323 , 390.45521954,\n",
       "        387.08940843, 392.95606975, 404.80075066, 369.05382761,\n",
       "        389.11826765, 386.47781483, 382.05811926, 392.19270449,\n",
       "        372.72957685, 397.73668607, 397.0320563 , 383.06251315,\n",
       "        408.3918759 , 418.98841086, 394.28648672, 394.89098189,\n",
       "        380.41384707, 367.08006556, 389.33562638, 401.59386081,\n",
       "        394.70727333, 393.20346226, 377.77968456, 393.78653939,\n",
       "        408.46292307, 401.8584108 , 380.63588702, 380.26788127,\n",
       "        403.04862602, 387.0063124 , 385.77718161, 399.48553807,\n",
       "        404.38074672, 402.50712742, 397.58876137, 394.0429341 ,\n",
       "        413.64592609, 405.52065103, 396.44230386, 380.62496532,\n",
       "        382.48419557, 405.82194006, 384.69918423, 388.54382466,\n",
       "        405.70760971, 372.9945549 , 375.03242949, 371.45893452,\n",
       "        392.94820229, 393.10957884, 397.4164808 , 378.25855444,\n",
       "        409.79785254, 398.45046035, 402.46343512, 379.03308971,\n",
       "        385.75982461, 381.63254171, 396.06268104, 382.93977353,\n",
       "        387.64971346, 380.59840351, 401.56384648, 409.82991275,\n",
       "        416.57534376, 390.38290553, 392.41844562, 401.04363083,\n",
       "        386.6418265 , 386.21821788, 403.65326991, 393.58458935,\n",
       "        360.99996146, 408.28234713, 375.90612575, 411.13464549,\n",
       "        405.80990736, 401.54246677, 403.2874058 , 396.98134987,\n",
       "        384.73471694, 405.67363574, 396.89658464, 373.41751094,\n",
       "        389.04629161, 392.01392795, 382.36650689, 403.66215569,\n",
       "        398.5844112 , 401.21528169, 396.74252787, 374.94701741,\n",
       "        366.81720827, 399.39258845, 390.09472119, 392.09518045,\n",
       "        398.64545644, 416.76650331, 382.73863283, 387.23758753,\n",
       "        413.80943185, 388.5916877 , 393.194663  , 400.33183677,\n",
       "        395.90844065, 379.22849784, 393.2509986 , 400.45570441,\n",
       "        401.76231688, 403.12343997, 402.23331523, 375.49385411,\n",
       "        389.97236848, 382.6810232 ]))"
      ]
     },
     "execution_count": 20,
     "metadata": {},
     "output_type": "execute_result"
    }
   ],
   "source": [
    "coeffs = [1,2,1,1.3,1,1.2,1,1.5,5] #Random coefficients\n",
    "model_vs_actual = modelling_function(coeffs, features, y)\n",
    "model_vs_actual #We get two numpy arrays containing the actual values of y versus the ones calculated via the given coefficients."
   ]
  },
  {
   "cell_type": "markdown",
   "id": "2ea9d650-0994-4ae8-bba9-3b8fdecbdd3e",
   "metadata": {
    "tags": []
   },
   "source": [
    "### Problem 4. Write the cost function and compute its gradients (1 point)\n",
    "Use MSE as the cost function $J$. Find a way to compute, calculate, or derive its gradients w.r.t. the model parameters $a_1, ..., a_m, b$\n",
    "\n",
    "Note that computing the cost function value and its gradients are two separate operations. Quick reminder: use vectorization to compute all gradients (maybe with the exception of $\\frac{\\partial J}{\\partial b}$) at the same time."
   ]
  },
  {
   "cell_type": "code",
   "execution_count": 22,
   "id": "99388ae1-1b23-4233-acf9-daf589bba07a",
   "metadata": {
    "tags": []
   },
   "outputs": [],
   "source": [
    "def cost_function(coefficients, features, y):\n",
    "    model_vs_actual = modelling_function(coefficients, features, y)\n",
    "    values = model_vs_actual[0]\n",
    "    model = model_vs_actual[1]\n",
    "    distances = (values - model) ** 2 #Get the distances, emphasizing on the larger errors, by squaring the result\n",
    "    avg_error = np.mean(distances)\n",
    "    return avg_error"
   ]
  },
  {
   "cell_type": "code",
   "execution_count": 23,
   "id": "fc0351ff-69f5-4b3c-a698-8a5cd69814d8",
   "metadata": {
    "tags": []
   },
   "outputs": [
    {
     "data": {
      "text/plain": [
       "1984.9625623827214"
      ]
     },
     "execution_count": 23,
     "metadata": {},
     "output_type": "execute_result"
    }
   ],
   "source": [
    "J = cost_function(coeffs, features, y)\n",
    "J"
   ]
  },
  {
   "cell_type": "code",
   "execution_count": 24,
   "id": "97540c4a-e8ad-4bcb-9bc2-78f4d30433b5",
   "metadata": {
    "tags": []
   },
   "outputs": [],
   "source": [
    "def compute_gradient(features, y, a, b, learning_rate):\n",
    "    predictions = np.dot(features, a) + b\n",
    "    error = y - predictions\n",
    "    a_gradient = -2 / len(features) * np.dot(features.T, error) #Calculate gradient for coefficients\n",
    "    b_gradient = -2 / len(features) * np.sum(error) #Intercept gradient\n",
    "    new_a = a - a_gradient * learning_rate\n",
    "    new_b = b - b_gradient * learning_rate\n",
    "    return new_a, new_b"
   ]
  },
  {
   "cell_type": "markdown",
   "id": "1bad786e-4299-4900-ae86-16cbd2235a6e",
   "metadata": {
    "tags": []
   },
   "source": [
    "### Problem 5. Perform gradient descent (1 point)\n",
    "Perform weight updates iteratively. Find a useful criterion for stopping. For most cases, just using a fixed (large) number of steps is enough.\n",
    "\n",
    "You'll need to set a starting point (think about which one should be good, and how it matters); and a learning rate."
   ]
  },
  {
   "cell_type": "code",
   "execution_count": 26,
   "id": "73b98aa7-3930-41e2-9716-4278086681ab",
   "metadata": {
    "tags": []
   },
   "outputs": [
    {
     "data": {
      "text/plain": [
       "[1, 2, 1, 1.3, 1, 1.2, 1, 1.5, 5]"
      ]
     },
     "execution_count": 26,
     "metadata": {},
     "output_type": "execute_result"
    }
   ],
   "source": [
    "coeffs #These are the values I gave to the coefficients earlier."
   ]
  },
  {
   "cell_type": "code",
   "execution_count": 27,
   "id": "1ab111ab-f540-4223-a2f9-0cf31e56487a",
   "metadata": {
    "tags": []
   },
   "outputs": [],
   "source": [
    "model_a = np.array(coeffs[:-1]) #Get the coefficients\n",
    "model_b = coeffs[-1] #Get the intercept\n",
    "rate = 0.00001 #This will be the learning rate"
   ]
  },
  {
   "cell_type": "code",
   "execution_count": 28,
   "id": "dd4bc3bd-6b2c-4f40-9e94-40557a2325d0",
   "metadata": {
    "tags": []
   },
   "outputs": [
    {
     "name": "stdout",
     "output_type": "stream",
     "text": [
      "Step 0: a = [0.99545095 1.98673172 0.96955035 1.24769943 0.92594622 1.10264079\n",
      " 0.99760604 1.48891064], b = 4.999126973460537, J = 558.2921127646697\n",
      "Step 100: a = [1.01049435 1.9451951  0.95161281 1.218065   0.87932221 0.96698636\n",
      " 0.99568777 1.4728356 ], b = 4.998444271325262, J = 64.21572383977251\n",
      "Step 200: a = [1.02989522 1.9173886  0.96411752 1.24116939 0.90738485 0.93229218\n",
      " 0.9962741  1.46821164], b = 4.998646862988747, J = 60.3631774879554\n",
      "Step 300: a = [1.04881107 1.89002838 0.97582833 1.26332229 0.93416191 0.89929472\n",
      " 0.99690908 1.46374297], b = 4.998840207020208, J = 56.80281884704707\n",
      "Step 400: a = [1.0672569  1.86310755 0.986786   1.28456606 0.95971416 0.86791243\n",
      " 0.99759016 1.4594243 ], b = 4.999024728262501, J = 53.50972402347862\n",
      "Step 500: a = [1.08524713 1.83661936 0.9970293  1.30494114 0.98409946 0.83806766\n",
      " 0.9983149  1.45525054], b = 4.999200831607963, J = 50.461207362669754\n",
      "Step 600: a = [1.10279565 1.81055712 1.00659512 1.3244861  1.00737293 0.80968645\n",
      " 0.99908099 1.45121678], b = 4.999368902942516, J = 47.63661635109746\n",
      "Step 700: a = [1.11991584 1.78491424 1.01551854 1.3432377  1.02958707 0.78269838\n",
      " 0.99988622 1.44731828], b = 4.99952931004493, J = 45.01714545565016\n",
      "Step 800: a = [1.13662057 1.7596842  1.02383296 1.36123104 1.05079187 0.75703637\n",
      " 1.0007285  1.44355049], b = 4.9996824034434875, J = 42.5856671467664\n",
      "Step 900: a = [1.15292226 1.73486061 1.03157012 1.37849957 1.07103496 0.73263659\n",
      " 1.00160583 1.43990902], b = 4.999828517231956, J = 40.32657851439533\n",
      "Step 1000: a = [1.16883286 1.71043713 1.03876022 1.39507522 1.09036169 0.70943821\n",
      " 1.0025163  1.43638962], b = 4.999967969846898, J = 38.22566203328063\n",
      "Final line: [1.16883286 1.71043713 1.03876022 1.39507522 1.09036169 0.70943821\n",
      " 1.0025163  1.43638962] * x + 4.999967969846898\n"
     ]
    }
   ],
   "source": [
    "for i in range(1001):\n",
    "    model_a, model_b = compute_gradient(features, y, model_a, model_b, rate)\n",
    "    new_coeffs = np.hstack((model_a, model_b)) #Combine the feature coefficients with the intercept\n",
    "    if i % 100 == 0: #Print the result every 100 steps\n",
    "        error = cost_function(new_coeffs, features, y)\n",
    "        print(\"Step {}: a = {}, b = {}, J = {}\".format(i, model_a, model_b, error))\n",
    "print(\"Final line: {} * x + {}\".format(model_a, model_b)) "
   ]
  },
  {
   "cell_type": "markdown",
   "id": "d18a168f-de4c-4035-88db-7350c2b91745",
   "metadata": {},
   "source": [
    "### Problem 6. Do other cost functions work? (2 points)\n",
    "Repeat the process in problems 4 and 5 with MAE, and then again - with the [Huber loss](https://en.wikipedia.org/wiki/Huber_loss). Both of them are less sensitive to outliers / anomalies than MSE); with the Huber loss function being specifically made for datasets with outliers.\n",
    "\n",
    "Explain your findings. Is there a cost function that works much better? How about speed of training (measured in wall time)?"
   ]
  },
  {
   "cell_type": "markdown",
   "id": "6e708d35-4372-49c8-9800-37c5ac7d5956",
   "metadata": {},
   "source": [
    "Compute linear regression for MAE:"
   ]
  },
  {
   "cell_type": "code",
   "execution_count": 31,
   "id": "b3f0eb74-7b3d-4aa8-9749-dcb55e918a22",
   "metadata": {
    "tags": []
   },
   "outputs": [],
   "source": [
    "def cost_function_MAE(coefficients, features, y):\n",
    "    model_vs_actual = modelling_function(coefficients, features, y)\n",
    "    values = model_vs_actual[0]\n",
    "    model = model_vs_actual[1]\n",
    "    distances = np.abs(values - model) #Get the distances, emphasizing on the larger errors, by squaring the result\n",
    "    avg_error = np.mean(distances)\n",
    "    return avg_error"
   ]
  },
  {
   "cell_type": "code",
   "execution_count": 32,
   "id": "dc16e416-37b1-427b-abcb-47096b86f230",
   "metadata": {
    "tags": []
   },
   "outputs": [
    {
     "name": "stdout",
     "output_type": "stream",
     "text": [
      "Step 0: a = [1.16899003 1.7101949  1.03882946 1.39523758 1.09055048 0.70921209\n",
      " 1.00252557 1.43635503], b = 4.99996933177321, J = 4.994702571867361\n",
      "Step 100: a = [1.18451732 1.68616919 1.04549618 1.41114434 1.10899554 0.68716837\n",
      " 1.00346768 1.4329548 ], b = 5.0001023646419425, J = 4.8640075893633785\n",
      "Step 200: a = [1.19967625 1.66253115 1.05167215 1.42641801 1.12660901 0.66621248\n",
      " 1.00443939 1.42966859], b = 5.00022933198873, J = 4.738461428761032\n",
      "Step 300: a = [1.21447752 1.63927469 1.05738334 1.4410863  1.14343004 0.64629194\n",
      " 1.00543906 1.42649261], b = 5.000350509450003, J = 4.620839598994953\n",
      "Step 400: a = [1.22893145 1.61639385 1.06265444 1.45517565 1.15949595 0.62735679\n",
      " 1.00646512 1.4234232 ], b = 5.0004661597687585, J = 4.50809197055132\n",
      "Step 500: a = [1.243048   1.59388271 1.06750893 1.46871127 1.17484228 0.60935944\n",
      " 1.00751609 1.42045684], b = 5.000576533403843, J = 4.399496377482657\n",
      "Step 600: a = [1.25683676 1.57173548 1.07196913 1.48171725 1.18950287 0.59225461\n",
      " 1.00859056 1.41759011], b = 5.000681869110403, J = 4.295498617871194\n",
      "Step 700: a = [1.27030701 1.54994642 1.07605628 1.49421655 1.20350998 0.57599914\n",
      " 1.00968717 1.41481973], b = 5.0007823944928, J = 4.195084558904585\n",
      "Step 800: a = [1.28346768 1.52850988 1.07979056 1.50623109 1.21689429 0.56055196\n",
      " 1.01080465 1.41214253], b = 5.0008783265312795, J = 4.099359359665985\n",
      "Step 900: a = [1.2963274  1.5074203  1.08319115 1.51778178 1.22968506 0.54587398\n",
      " 1.01194178 1.40955545], b = 5.000969872083707, J = 4.00661033594328\n",
      "Step 1000: a = [1.30889451 1.48667219 1.08627629 1.52888858 1.24191014 0.53192794\n",
      " 1.01309739 1.40705554], b = 5.001057228363479, J = 3.9167226458524693\n",
      "Final line: [1.30889451 1.48667219 1.08627629 1.52888858 1.24191014 0.53192794\n",
      " 1.01309739 1.40705554] * x + 5.001057228363479\n"
     ]
    }
   ],
   "source": [
    "for i in range(1001):\n",
    "    model_a, model_b = compute_gradient(features, y, model_a, model_b, rate)\n",
    "    new_coeffs = np.hstack((model_a, model_b)) #Combine the feature coefficients with the intercept\n",
    "    if i % 100 == 0: #Print the result every 100 steps\n",
    "        error = cost_function_MAE(new_coeffs, features, y)\n",
    "        print(\"Step {}: a = {}, b = {}, J = {}\".format(i, model_a, model_b, error))\n",
    "print(\"Final line: {} * x + {}\".format(model_a, model_b)) "
   ]
  },
  {
   "cell_type": "markdown",
   "id": "04fe4b6d-59b1-48ff-a07c-f7bdb5d1a7dd",
   "metadata": {},
   "source": [
    "Compute linear regression with the Hubber loss function:"
   ]
  },
  {
   "cell_type": "code",
   "execution_count": 34,
   "id": "6177239e-be16-4a90-9c37-9d19514fe0ab",
   "metadata": {
    "tags": []
   },
   "outputs": [],
   "source": [
    "delta = 1.0 #Hubber loss threshold\n",
    "\n",
    "def cost_function_Hubber_loss(coefficients, features, y, delta):\n",
    "    model_vs_actual = modelling_function(coefficients, features, y)\n",
    "    values = model_vs_actual[0]\n",
    "    model = model_vs_actual[1]\n",
    "    residual = values - model\n",
    "    loss = np.where(np.abs(residual) <= delta,  # Condition\n",
    "                    0.5 * residual ** 2,        # MSE part (quadratic)\n",
    "                    delta * (np.abs(residual) - 0.5 * delta))  # MAE part (linear)\n",
    "    return np.mean(loss)"
   ]
  },
  {
   "cell_type": "code",
   "execution_count": 35,
   "id": "a522515e-c7ec-4d97-a764-969ad7ae502c",
   "metadata": {
    "tags": []
   },
   "outputs": [
    {
     "name": "stdout",
     "output_type": "stream",
     "text": [
      "Step 0: a = [1.30901873 1.48646642 1.08630561 1.52899748 1.24202963 0.53179205\n",
      " 1.01310904 1.40703097], b = 5.001058081414103, J = 3.438544225912355\n",
      "Step 100: a = [1.32129847 1.46605771 1.08908974 1.5396753  1.2537103  0.5185493\n",
      " 1.01428221 1.40461621], b = 5.00114139735249, J = 3.3540899242940143\n",
      "Step 200: a = [1.3333015  1.44597969 1.09159239 1.54994667 1.26487735 0.50596896\n",
      " 1.0154717  1.40228298], b = 5.001220893061024, J = 3.2729665701885806\n",
      "Step 300: a = [1.34503533 1.42622712 1.09382921 1.55982893 1.27555483 0.4940189\n",
      " 1.01667651 1.40002863], b = 5.001296739384626, J = 3.194956807286331\n",
      "Step 400: a = [1.35650722 1.40679482 1.09581507 1.56933865 1.28576565 0.48266854\n",
      " 1.01789569 1.39785061], b = 5.00136909922323, J = 3.1198902225471303\n",
      "Step 500: a = [1.36772419 1.3876777  1.09756412 1.57849165 1.29553165 0.47188876\n",
      " 1.01912833 1.39574641], b = 5.001438127906503, J = 3.0476212094966475\n",
      "Step 600: a = [1.37869301 1.36887075 1.09908976 1.58730303 1.30487362 0.46165184\n",
      " 1.02037358 1.39371367], b = 5.001503973550793, J = 2.978039871161016\n",
      "Step 700: a = [1.38942025 1.35036902 1.10040477 1.5957872  1.31381137 0.45193136\n",
      " 1.02163061 1.39175005], b = 5.001566777399166, J = 2.9109934826666706\n",
      "Step 800: a = [1.39991224 1.33216764 1.10152125 1.60395793 1.32236375 0.44270222\n",
      " 1.02289865 1.38985334], b = 5.001626674145342, J = 2.8463153677874327\n",
      "Step 900: a = [1.41017514 1.31426183 1.10245073 1.61182837 1.33054874 0.43394047\n",
      " 1.02417696 1.38802137], b = 5.001683792242263, J = 2.7838997154538307\n",
      "Step 1000: a = [1.42021488 1.29664685 1.10320412 1.61941108 1.33838346 0.42562335\n",
      " 1.02546482 1.38625205], b = 5.001738254196081, J = 2.7236584829981467\n",
      "Final line: [1.42021488 1.29664685 1.10320412 1.61941108 1.33838346 0.42562335\n",
      " 1.02546482 1.38625205] * x + 5.001738254196081\n"
     ]
    }
   ],
   "source": [
    "for i in range(1001):\n",
    "    model_a, model_b = compute_gradient(features, y, model_a, model_b, rate)\n",
    "    new_coeffs = np.hstack((model_a, model_b)) #Combine the feature coefficients with the intercept\n",
    "    if i % 100 == 0: #Print the result every 100 steps\n",
    "        error = cost_function_Hubber_loss(new_coeffs, features, y, delta)\n",
    "        print(\"Step {}: a = {}, b = {}, J = {}\".format(i, model_a, model_b, error))\n",
    "print(\"Final line: {} * x + {}\".format(model_a, model_b)) "
   ]
  },
  {
   "cell_type": "markdown",
   "id": "1d4176d1-6cad-4830-824c-1d27e50efe89",
   "metadata": {},
   "source": [
    "### Problem 7. Experiment with the learning rate (1 point)\n",
    "Use your favorite cost function. Run several \"experiments\" with different learning rates. Try really small, and really large values. Observe and document your findings."
   ]
  },
  {
   "cell_type": "code",
   "execution_count": null,
   "id": "71f04525-95f3-427d-8763-27af6839cb93",
   "metadata": {
    "tags": []
   },
   "outputs": [],
   "source": []
  },
  {
   "cell_type": "markdown",
   "id": "91385302-2fc1-48a4-a453-cce7f038e9c2",
   "metadata": {},
   "source": [
    "### Problem 8. Generate some data for classification (1 point)\n",
    "You'll need to create two clusters of points (one cluster for each class). I recomment using `scikit-learn`'s `make_blobs()` ([info](https://scikit-learn.org/stable/modules/generated/sklearn.datasets.make_blobs.html)). Use as many features as you used in problem 1."
   ]
  },
  {
   "cell_type": "code",
   "execution_count": 38,
   "id": "b948009d-6af6-468c-ac6e-bacd4f75498c",
   "metadata": {
    "tags": []
   },
   "outputs": [
    {
     "data": {
      "image/png": "[encoded data removed]",
      "text/plain": [
       "<Figure size 800x600 with 2 Axes>"
      ]
     },
     "metadata": {},
     "output_type": "display_data"
    }
   ],
   "source": [
    "X, y = make_blobs(n_samples=150, centers=2, n_features=8, random_state=42) # X contains the 8 features, y contains the class labels (0 or 1)\n",
    " \n",
    "# Step 2: Reduce dimensions for visualization using PCA (from 8D to 2D)\n",
    "pca = PCA(n_components=2)\n",
    "X_pca = pca.fit_transform(X)\n",
    "\n",
    "# Step 3: Visualize the clusters\n",
    "plt.figure(figsize=(8, 6))\n",
    "plt.scatter(X_pca[:, 0], X_pca[:, 1], c=y, cmap='viridis', edgecolor='k')\n",
    "plt.title(\"Visualization of Clusters (PCA Reduced to 2D)\")\n",
    "plt.xlabel(\"Principal Component 1\")\n",
    "plt.ylabel(\"Principal Component 2\")\n",
    "plt.colorbar(label=\"Class\")\n",
    "plt.show()"
   ]
  },
  {
   "cell_type": "markdown",
   "id": "c6246890-0808-40e1-b892-fa1d11fd088c",
   "metadata": {},
   "source": [
    "### Problem 9. Perform logistic regression (1 point)\n",
    "Reuse the code you wrote in problems 3-7 as much as possible. If you wrote vectorized functions with variable parameters - you should find this easy. If not - it's not too late to go back and refactor your code.\n",
    "\n",
    "The modelling function for logistic regression is\n",
    "$$ \\tilde{y} = \\frac{1}{1+\\exp{(-\\sum_{i=1}^{m}a_i x_i + b)}}$$. Find a way to represent it using as much of your previous code as you can.\n",
    "\n",
    "The most commonly used loss function is the [cross-entropy](https://en.wikipedia.org/wiki/Cross-entropy).\n",
    "\n",
    "Experiment with different learning rates, basically repeating what you did in problem 7."
   ]
  },
  {
   "cell_type": "code",
   "execution_count": 40,
   "id": "c193f5ff-f20c-40ef-9945-7a8694fafba2",
   "metadata": {
    "tags": []
   },
   "outputs": [
    {
     "name": "stdout",
     "output_type": "stream",
     "text": [
      "Iteration 0, Loss: 11.0703\n",
      "Iteration 100, Loss: 0.0146\n",
      "Iteration 200, Loss: 0.0053\n",
      "Iteration 300, Loss: 0.0031\n",
      "Iteration 400, Loss: 0.0022\n",
      "Iteration 500, Loss: 0.0017\n",
      "Iteration 600, Loss: 0.0014\n",
      "Iteration 700, Loss: 0.0011\n",
      "Iteration 800, Loss: 0.0010\n",
      "Iteration 900, Loss: 0.0009\n",
      "Model accuracy: 100.00%\n"
     ]
    }
   ],
   "source": [
    "y = y.reshape(-1, 1)  # Reshape y to be a column vector\n",
    "\n",
    "m = X.shape[1]  # Number of features\n",
    "a = np.random.randn(m, 1)  # Weights (coefficients)\n",
    "b = 0  # Bias (intercept)\n",
    "learning_rate = 0.01\n",
    "n_iterations = 1000\n",
    "\n",
    "# Sigmoid Function\n",
    "def sigmoid(z):\n",
    "    return 1 / (1 + np.exp(-z))\n",
    "\n",
    "# Gradient Descent Loop\n",
    "for _ in range(n_iterations):\n",
    "    # Linear combination: z = X @ a + b\n",
    "    z = np.dot(X, a) + b\n",
    "    y_pred = sigmoid(z)\n",
    "\n",
    "    # Calculate Loss (Binary Cross-Entropy)\n",
    "    loss = -np.mean(y * np.log(y_pred) + (1 - y) * np.log(1 - y_pred))\n",
    "\n",
    "    # Calculate Gradients\n",
    "    dz = y_pred - y\n",
    "    da = np.dot(X.T, dz) / y.shape[0]  # Gradient w.r.t. weights\n",
    "    db = np.mean(dz)                   # Gradient w.r.t. bias\n",
    "\n",
    "    # Update Parameters\n",
    "    a -= learning_rate * da\n",
    "    b -= learning_rate * db\n",
    "\n",
    "    # Print Loss every 100 iterations\n",
    "    if _ % 100 == 0:\n",
    "        print(f\"Iteration {_}, Loss: {loss:.4f}\")\n",
    "\n",
    "# Prediction Function\n",
    "def predict(X):\n",
    "    z = np.dot(X, a) + b\n",
    "    return sigmoid(z) >= 0.5  # Classify as 1 if probability >= 0.5\n",
    "\n",
    "# Evaluate Accuracy\n",
    "y_pred = predict(X)\n",
    "accuracy = np.mean(y_pred == y) * 100\n",
    "print(f\"Model accuracy: {accuracy:.2f}%\")"
   ]
  },
  {
   "cell_type": "markdown",
   "id": "411df95f-5f16-4c37-8649-2c495eb96974",
   "metadata": {},
   "source": [
    "### * Problem 10. Continue experimenting and delving deep into ML\n",
    "You just saw how modelling works and how to implement some code. Some of the things you can think about (and I recommend you pause and ponder on some of them are):\n",
    "* Code: OOP can be your friend sometimes. `scikit-learn`'s models have `fit()`, `predict()` and `score()` methods.\n",
    "* Data: What approaches work on non-generated data?\n",
    "* Evaluation: How well do different models (and their \"settings\" - hyperparameters) actually work in practice? How do we evaluate a model in a meaningful way?\n",
    "* Optimization - maths: Look at what `optimizers` (or solvers) are used in `scikit-learn` and why. Many \"tricks\" revolve around making the algorithm converge (finish) in fewer iterations, or making it more numerically stable.\n",
    "* Optimization - code: Are there ways to make the code run fastr?"
   ]
  },
  {
   "cell_type": "code",
   "execution_count": null,
   "id": "08101fb6-d53f-4dc9-8f37-d07478c9e220",
   "metadata": {},
   "outputs": [],
   "source": []
  }
 ],
 "metadata": {
  "kernelspec": {
   "display_name": "Python 3 (ipykernel)",
   "language": "python",
   "name": "python3"
  },
  "language_info": {
   "codemirror_mode": {
    "name": "ipython",
    "version": 3
   },
   "file_extension": ".py",
   "mimetype": "text/x-python",
   "name": "python",
   "nbconvert_exporter": "python",
   "pygments_lexer": "ipython3",
   "version": "3.11.7"
  }
 },
 "nbformat": 4,
 "nbformat_minor": 5
}
