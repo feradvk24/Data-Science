{
 "cells": [
  {
   "cell_type": "code",
   "execution_count": 2,
   "id": "23f11120-9356-47ca-b65a-102b3b9b4541",
   "metadata": {
    "tags": []
   },
   "outputs": [],
   "source": [
    "import pandas as pd\n",
    "import scrape_lyrics"
   ]
  },
  {
   "cell_type": "markdown",
   "id": "2e687ba8-cbb0-44da-9777-3b33859163b8",
   "metadata": {},
   "source": [
    "Here I will collect lyrics for the songs that are missing them by doing web scraping on the **AZLyrics** website."
   ]
  },
  {
   "cell_type": "code",
   "execution_count": 4,
   "id": "a6d1d8ac-f5a9-406b-81cf-70971711e825",
   "metadata": {
    "tags": []
   },
   "outputs": [],
   "source": [
    "data = pd.read_csv(\"hot_100.csv\")"
   ]
  },
  {
   "cell_type": "code",
   "execution_count": 5,
   "id": "7cb7f982-818f-457d-b72e-aade54ff60f0",
   "metadata": {
    "tags": []
   },
   "outputs": [],
   "source": [
    "missing_lyrics = data[data.lyrics.isna()]"
   ]
  },
  {
   "cell_type": "code",
   "execution_count": 6,
   "id": "667015b9-dfdf-4467-856b-9f09b5305b0d",
   "metadata": {
    "tags": []
   },
   "outputs": [],
   "source": [
    "small_sample = missing_lyrics.sample(10)"
   ]
  },
  {
   "cell_type": "code",
   "execution_count": 7,
   "id": "145db71e-2951-4fa7-87a6-092f4dc60268",
   "metadata": {
    "tags": []
   },
   "outputs": [],
   "source": [
    "artist_song = dict(small_sample[['main_artist', 'song']].values)"
   ]
  },
  {
   "cell_type": "code",
   "execution_count": 8,
   "id": "946ab04d-43aa-467a-99ab-b1947417e40b",
   "metadata": {
    "tags": []
   },
   "outputs": [],
   "source": [
    "for index, row in small_sample.iterrows():\n",
    "    artist = row['artist']\n",
    "    song = row['song']\n",
    "    scraper = scrape_lyrics.AZLyrics(artist = artist, song = song)\n",
    "    response = scraper.scrape()\n",
    "    small_sample.at[index, 'lyrics'] = response"
   ]
  }
 ],
 "metadata": {
  "kernelspec": {
   "display_name": "Python 3 (ipykernel)",
   "language": "python",
   "name": "python3"
  },
  "language_info": {
   "codemirror_mode": {
    "name": "ipython",
    "version": 3
   },
   "file_extension": ".py",
   "mimetype": "text/x-python",
   "name": "python",
   "nbconvert_exporter": "python",
   "pygments_lexer": "ipython3",
   "version": "3.11.7"
  }
 },
 "nbformat": 4,
 "nbformat_minor": 5
}
