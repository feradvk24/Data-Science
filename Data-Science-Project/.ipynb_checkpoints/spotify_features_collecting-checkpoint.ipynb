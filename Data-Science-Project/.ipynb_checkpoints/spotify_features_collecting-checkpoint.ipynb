{
 "cells": [
  {
   "cell_type": "code",
   "execution_count": 2,
   "id": "94dd3901-dd6f-41dd-b5af-ff7d98b450bc",
   "metadata": {
    "tags": []
   },
   "outputs": [],
   "source": [
    "import spotipy\n",
    "from spotipy.oauth2 import SpotifyClientCredentials\n",
    "import pandas as pd\n",
    "\n",
    "import data_collection"
   ]
  },
  {
   "cell_type": "markdown",
   "id": "c1cdb738-df75-41e4-b1fb-2c767a2bd5b1",
   "metadata": {},
   "source": [
    "Here I will try to get the spotify features that are currently missing in the initial dataset"
   ]
  },
  {
   "cell_type": "code",
   "execution_count": 4,
   "id": "423fcbeb-9d5f-4448-9469-64b5d6f46837",
   "metadata": {},
   "outputs": [],
   "source": [
    "CLIENT_ID = 'x'\n",
    "CLIENT_SECRET = 'x'\n",
    "REDIRECT_URL = 'http://localhost:5000'"
   ]
  },
  {
   "cell_type": "code",
   "execution_count": 5,
   "id": "cd001eed-9712-46e0-8e27-bdbc89ef0d48",
   "metadata": {
    "tags": []
   },
   "outputs": [],
   "source": [
    "client_credentials_manager = SpotifyClientCredentials(client_id=CLIENT_ID, client_secret=CLIENT_SECRET)\n",
    "sp = spotipy.Spotify(client_credentials_manager=client_credentials_manager)"
   ]
  },
  {
   "cell_type": "code",
   "execution_count": 6,
   "id": "d85c330e-b21d-4adb-af3b-99378e3126cf",
   "metadata": {
    "tags": []
   },
   "outputs": [],
   "source": [
    "#Read this before any data is filled and the new file is created\n",
    "#data = pd.read_csv(\"hot_100_spotify.csv\")\n",
    "\n",
    "data = pd.read_csv(\"filled_spotify.csv\")"
   ]
  },
  {
   "cell_type": "markdown",
   "id": "85c7fe1c-3183-4ca1-bbcb-08433671c33e",
   "metadata": {},
   "source": [
    "On the first run, I created a file with all rows that have a missing spotify feature in them. On consecutive runs I will use the created file, fill some values, update the **filled_spotify** file and delete them from the created file, so that I can thin it out little by little."
   ]
  },
  {
   "cell_type": "code",
   "execution_count": 8,
   "id": "9073c577-eb5c-41c9-a2ef-450f38d30426",
   "metadata": {
    "tags": []
   },
   "outputs": [],
   "source": [
    "#Ran this the first time the file with missing values was created\n",
    "#missing = data[data.isnull().any(axis = 1)]\n",
    "#missing_data = missing.iloc[:, 6:]\n",
    "#missing_data['song'] = missing.song\n",
    "#missing_data['index_empty_val'] = missing['Unnamed: 0']\n",
    "#missing_data.to_csv(\"missing_spotify_features.csv\")\n",
    "\n",
    "missing_data = pd.read_csv(\"missing_spotify_features.csv\")"
   ]
  },
  {
   "cell_type": "code",
   "execution_count": 9,
   "id": "1f3b8796-8354-4f3f-9f3b-d364fc81c85b",
   "metadata": {
    "tags": []
   },
   "outputs": [
    {
     "name": "stdout",
     "output_type": "stream",
     "text": [
      "<class 'pandas.core.frame.DataFrame'>\n",
      "RangeIndex: 6180 entries, 0 to 6179\n",
      "Data columns (total 20 columns):\n",
      " #   Column              Non-Null Count  Dtype  \n",
      "---  ------              --------------  -----  \n",
      " 0   Unnamed: 0          6180 non-null   int64  \n",
      " 1   spotify_genre       3666 non-null   object \n",
      " 2   track_duration_s    196 non-null    float64\n",
      " 3   explicit_track      196 non-null    object \n",
      " 4   danceability        142 non-null    float64\n",
      " 5   energy              142 non-null    float64\n",
      " 6   key                 142 non-null    float64\n",
      " 7   loudness            142 non-null    float64\n",
      " 8   mode                142 non-null    float64\n",
      " 9   speechiness         142 non-null    float64\n",
      " 10  acousticness        142 non-null    float64\n",
      " 11  instrumentalness    142 non-null    float64\n",
      " 12  liveness            142 non-null    float64\n",
      " 13  valence             142 non-null    float64\n",
      " 14  tempo               142 non-null    float64\n",
      " 15  spotify_popularity  196 non-null    float64\n",
      " 16  main_artist         6180 non-null   object \n",
      " 17  artist_list         6180 non-null   object \n",
      " 18  song                6180 non-null   object \n",
      " 19  index_empty_val     6180 non-null   int64  \n",
      "dtypes: float64(13), int64(2), object(5)\n",
      "memory usage: 965.8+ KB\n"
     ]
    }
   ],
   "source": [
    "missing_data.info()"
   ]
  },
  {
   "cell_type": "code",
   "execution_count": 10,
   "id": "ac79d49a-f5bf-4dc1-b78c-b0f20061cace",
   "metadata": {
    "tags": []
   },
   "outputs": [],
   "source": [
    "filled_data = pd.DataFrame(columns = missing_data.columns)"
   ]
  },
  {
   "cell_type": "code",
   "execution_count": 11,
   "id": "cc0c5f02-5837-4194-b11b-1a4187c43426",
   "metadata": {
    "tags": []
   },
   "outputs": [
    {
     "name": "stderr",
     "output_type": "stream",
     "text": [
      "C:\\Users\\ferad\\AppData\\Local\\Temp\\ipykernel_11984\\1703369018.py:13: FutureWarning: The behavior of DataFrame concatenation with empty or all-NA entries is deprecated. In a future version, this will no longer exclude empty or all-NA columns when determining the result dtypes. To retain the old behavior, exclude the relevant entries before the concat operation.\n",
      "  filled_data = pd.concat([filled_data, filled_batch], ignore_index = True)\n"
     ]
    }
   ],
   "source": [
    "for i in range(20):\n",
    "    if (len(missing_data) >= 20):\n",
    "        current_batch = missing_data.head(20)\n",
    "        spotify_features_list = []\n",
    "        for _, row in current_batch.iterrows():\n",
    "            missing_row_index = row['index_empty_val']\n",
    "            artist = row['main_artist']\n",
    "            song = row['song']\n",
    "            spotify_info = data_collection.get_track_details_by_name(missing_row_index, song, artist, sp)\n",
    "            spotify_features_list.append(spotify_info)\n",
    "        no_nulls = [i for i in spotify_features_list if i != None] #Get only non-null values\n",
    "        filled_batch = pd.DataFrame(no_nulls) #A dataframe from the gathered infomration\n",
    "        filled_data = pd.concat([filled_data, filled_batch], ignore_index = True)\n",
    "\n",
    "        missing_data = missing_data.reset_index(drop = True).drop(range(20))"
   ]
  },
  {
   "cell_type": "code",
   "execution_count": 12,
   "id": "b87a8d34-fa70-4d2e-84d4-97137270b57f",
   "metadata": {},
   "outputs": [],
   "source": [
    "missing_data.drop(columns = ['Unnamed: 0']).to_csv(\"missing_spotify_features.csv\") #Overwrite the file, should now be smaller\n",
    "filled_data.to_csv(\"filled_data.csv\") #Export the last filled data to a csv just in case"
   ]
  },
  {
   "cell_type": "code",
   "execution_count": 13,
   "id": "cfd0296e-025c-46c0-aa68-241a529bb7ba",
   "metadata": {
    "tags": []
   },
   "outputs": [],
   "source": [
    "filling = pd.merge(left = data, right = filled_data, left_index = True, right_on = \"index_empty_val\", how = 'left')\n",
    "column_list = [\n",
    "    'spotify_genre', 'track_duration_s', 'explicit_track',\n",
    "    'danceability', 'energy', 'key', 'loudness', 'mode',\n",
    "    'speechiness', 'acousticness', 'instrumentalness', 'liveness',\n",
    "    'valence', 'tempo', 'spotify_popularity'\n",
    "]\n",
    "for col in column_list:\n",
    "    col_x = col + \"_x\"\n",
    "    col_y = col + \"_y\"\n",
    "    filling[col_x] = filling[col_x].fillna(filling[col_y]) #Fill the original columns with the information from the merged ones"
   ]
  },
  {
   "cell_type": "code",
   "execution_count": 14,
   "id": "1eca12b3-6bfb-44bf-93df-4ceb5dafa324",
   "metadata": {
    "tags": []
   },
   "outputs": [],
   "source": [
    "filling = filling.reset_index(drop = True)\n",
    "filling = filling.iloc[:, 1:23] #Keep only the '_x' columns\n",
    "for col in filling.columns:\n",
    "    filling = filling.rename(columns = {col : col.replace(\"_x\", \"\")}) #Clean the names"
   ]
  },
  {
   "cell_type": "code",
   "execution_count": 15,
   "id": "1308a5d1-3cb0-4b41-8fd5-af862ac63e08",
   "metadata": {},
   "outputs": [],
   "source": [
    "filling.to_csv(\"filled_spotify.csv\")"
   ]
  },
  {
   "cell_type": "code",
   "execution_count": 16,
   "id": "4b27b5ea-3551-4494-95fe-19d3aa72617f",
   "metadata": {
    "tags": []
   },
   "outputs": [
    {
     "data": {
      "text/plain": [
       "Index(['song', 'artist', 'peak_position', 'weeks_on_chart', 'date',\n",
       "       'spotify_genre', 'track_duration_s', 'explicit_track', 'danceability',\n",
       "       'energy', 'key', 'loudness', 'mode', 'speechiness', 'acousticness',\n",
       "       'instrumentalness', 'liveness', 'valence', 'tempo',\n",
       "       'spotify_popularity', 'main_artist', 'artist_list'],\n",
       "      dtype='object')"
      ]
     },
     "execution_count": 16,
     "metadata": {},
     "output_type": "execute_result"
    }
   ],
   "source": [
    "filling.columns"
   ]
  },
  {
   "cell_type": "code",
   "execution_count": 17,
   "id": "bb7ff964-fe8d-458e-970e-25353cb5a7f2",
   "metadata": {
    "tags": []
   },
   "outputs": [
    {
     "name": "stdout",
     "output_type": "stream",
     "text": [
      "<class 'pandas.core.frame.DataFrame'>\n",
      "RangeIndex: 31447 entries, 0 to 31446\n",
      "Data columns (total 22 columns):\n",
      " #   Column              Non-Null Count  Dtype  \n",
      "---  ------              --------------  -----  \n",
      " 0   song                31447 non-null  object \n",
      " 1   artist              31447 non-null  object \n",
      " 2   peak_position       31447 non-null  int64  \n",
      " 3   weeks_on_chart      31447 non-null  int64  \n",
      " 4   date                31447 non-null  object \n",
      " 5   spotify_genre       29247 non-null  object \n",
      " 6   track_duration_s    25776 non-null  float64\n",
      " 7   explicit_track      25776 non-null  object \n",
      " 8   danceability        25722 non-null  float64\n",
      " 9   energy              25722 non-null  float64\n",
      " 10  key                 25722 non-null  float64\n",
      " 11  loudness            25722 non-null  float64\n",
      " 12  mode                25722 non-null  float64\n",
      " 13  speechiness         25722 non-null  float64\n",
      " 14  acousticness        25722 non-null  float64\n",
      " 15  instrumentalness    25722 non-null  float64\n",
      " 16  liveness            25722 non-null  float64\n",
      " 17  valence             25722 non-null  float64\n",
      " 18  tempo               25722 non-null  float64\n",
      " 19  spotify_popularity  25776 non-null  float64\n",
      " 20  main_artist         31447 non-null  object \n",
      " 21  artist_list         31447 non-null  object \n",
      "dtypes: float64(13), int64(2), object(7)\n",
      "memory usage: 5.3+ MB\n"
     ]
    }
   ],
   "source": [
    "filling.info()"
   ]
  },
  {
   "cell_type": "code",
   "execution_count": 18,
   "id": "d03a2b75-cd27-4113-96b6-f9fc4a2fbcd8",
   "metadata": {
    "tags": []
   },
   "outputs": [
    {
     "name": "stdout",
     "output_type": "stream",
     "text": [
      "<class 'pandas.core.frame.DataFrame'>\n",
      "RangeIndex: 31447 entries, 0 to 31446\n",
      "Data columns (total 23 columns):\n",
      " #   Column              Non-Null Count  Dtype  \n",
      "---  ------              --------------  -----  \n",
      " 0   Unnamed: 0          31447 non-null  int64  \n",
      " 1   song                31447 non-null  object \n",
      " 2   artist              31447 non-null  object \n",
      " 3   peak_position       31447 non-null  int64  \n",
      " 4   weeks_on_chart      31447 non-null  int64  \n",
      " 5   date                31447 non-null  object \n",
      " 6   spotify_genre       28857 non-null  object \n",
      " 7   track_duration_s    25387 non-null  float64\n",
      " 8   explicit_track      25387 non-null  object \n",
      " 9   danceability        25333 non-null  float64\n",
      " 10  energy              25333 non-null  float64\n",
      " 11  key                 25333 non-null  float64\n",
      " 12  loudness            25333 non-null  float64\n",
      " 13  mode                25333 non-null  float64\n",
      " 14  speechiness         25333 non-null  float64\n",
      " 15  acousticness        25333 non-null  float64\n",
      " 16  instrumentalness    25333 non-null  float64\n",
      " 17  liveness            25333 non-null  float64\n",
      " 18  valence             25333 non-null  float64\n",
      " 19  tempo               25333 non-null  float64\n",
      " 20  spotify_popularity  25387 non-null  float64\n",
      " 21  main_artist         31447 non-null  object \n",
      " 22  artist_list         31447 non-null  object \n",
      "dtypes: float64(13), int64(3), object(7)\n",
      "memory usage: 5.5+ MB\n"
     ]
    }
   ],
   "source": [
    "data.info()"
   ]
  }
 ],
 "metadata": {
  "kernelspec": {
   "display_name": "Python 3 (ipykernel)",
   "language": "python",
   "name": "python3"
  },
  "language_info": {
   "codemirror_mode": {
    "name": "ipython",
    "version": 3
   },
   "file_extension": ".py",
   "mimetype": "text/x-python",
   "name": "python",
   "nbconvert_exporter": "python",
   "pygments_lexer": "ipython3",
   "version": "3.11.7"
  }
 },
 "nbformat": 4,
 "nbformat_minor": 5
}
