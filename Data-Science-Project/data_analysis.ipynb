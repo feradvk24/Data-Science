{
 "cells": [
  {
   "cell_type": "code",
   "execution_count": 1,
   "id": "d931c85e-e538-49a5-b736-f84b9762ee4a",
   "metadata": {
    "tags": []
   },
   "outputs": [],
   "source": [
    "%matplotlib inline"
   ]
  },
  {
   "cell_type": "code",
   "execution_count": 2,
   "id": "54f30e98-4360-4211-97d3-669d4e9c5d3d",
   "metadata": {
    "tags": []
   },
   "outputs": [],
   "source": [
    "import pandas as pd\n",
    "import matplotlib.pyplot as plt\n",
    "import numpy as np\n",
    "import seaborn as sns\n",
    "import ast\n",
    "\n",
    "import visualization\n",
    "import data_collection"
   ]
  },
  {
   "cell_type": "markdown",
   "id": "6b089671-5dda-44c6-836e-3ea20e5f4bdb",
   "metadata": {},
   "source": [
    "# Analysis of song popularity, lyrics and music features"
   ]
  },
  {
   "cell_type": "markdown",
   "id": "4a52f547-2cf0-4e14-b7ff-0b872a366dbe",
   "metadata": {},
   "source": [
    "The project contains data collection, cleaning and analysis of different datasets with songs, containing information about Billboard Hot 100 charts, spotify features and lyrics.\n"
   ]
  },
  {
   "cell_type": "code",
   "execution_count": 5,
   "id": "1d6421f1-730e-4b83-bf33-a942c7a3c671",
   "metadata": {
    "tags": []
   },
   "outputs": [
    {
     "data": {
      "text/html": [
       "<div>\n",
       "<style scoped>\n",
       "    .dataframe tbody tr th:only-of-type {\n",
       "        vertical-align: middle;\n",
       "    }\n",
       "\n",
       "    .dataframe tbody tr th {\n",
       "        vertical-align: top;\n",
       "    }\n",
       "\n",
       "    .dataframe thead th {\n",
       "        text-align: right;\n",
       "    }\n",
       "</style>\n",
       "<table border=\"1\" class=\"dataframe\">\n",
       "  <thead>\n",
       "    <tr style=\"text-align: right;\">\n",
       "      <th></th>\n",
       "      <th>peak_position</th>\n",
       "      <th>weeks_on_chart</th>\n",
       "      <th>track_duration_s</th>\n",
       "      <th>danceability</th>\n",
       "      <th>energy</th>\n",
       "      <th>key</th>\n",
       "      <th>loudness</th>\n",
       "      <th>mode</th>\n",
       "      <th>speechiness</th>\n",
       "      <th>acousticness</th>\n",
       "      <th>instrumentalness</th>\n",
       "      <th>liveness</th>\n",
       "      <th>valence</th>\n",
       "      <th>tempo</th>\n",
       "      <th>spotify_popularity</th>\n",
       "    </tr>\n",
       "  </thead>\n",
       "  <tbody>\n",
       "    <tr>\n",
       "      <th>count</th>\n",
       "      <td>31459.000000</td>\n",
       "      <td>31459.000000</td>\n",
       "      <td>24719.000000</td>\n",
       "      <td>24665.000000</td>\n",
       "      <td>24665.000000</td>\n",
       "      <td>24665.000000</td>\n",
       "      <td>24665.000000</td>\n",
       "      <td>24665.000000</td>\n",
       "      <td>24665.000000</td>\n",
       "      <td>24665.000000</td>\n",
       "      <td>24665.000000</td>\n",
       "      <td>24665.000000</td>\n",
       "      <td>24665.000000</td>\n",
       "      <td>24665.000000</td>\n",
       "      <td>24719.000000</td>\n",
       "    </tr>\n",
       "    <tr>\n",
       "      <th>mean</th>\n",
       "      <td>46.822817</td>\n",
       "      <td>10.965097</td>\n",
       "      <td>220.237838</td>\n",
       "      <td>0.600180</td>\n",
       "      <td>0.618146</td>\n",
       "      <td>5.229516</td>\n",
       "      <td>-8.631842</td>\n",
       "      <td>0.726049</td>\n",
       "      <td>0.073896</td>\n",
       "      <td>0.293460</td>\n",
       "      <td>0.032183</td>\n",
       "      <td>0.191901</td>\n",
       "      <td>0.598586</td>\n",
       "      <td>120.339127</td>\n",
       "      <td>41.663660</td>\n",
       "    </tr>\n",
       "    <tr>\n",
       "      <th>std</th>\n",
       "      <td>30.439163</td>\n",
       "      <td>8.550567</td>\n",
       "      <td>67.539963</td>\n",
       "      <td>0.152923</td>\n",
       "      <td>0.198420</td>\n",
       "      <td>3.561697</td>\n",
       "      <td>3.592360</td>\n",
       "      <td>0.445993</td>\n",
       "      <td>0.083451</td>\n",
       "      <td>0.282088</td>\n",
       "      <td>0.135481</td>\n",
       "      <td>0.158567</td>\n",
       "      <td>0.239511</td>\n",
       "      <td>28.081366</td>\n",
       "      <td>22.597551</td>\n",
       "    </tr>\n",
       "    <tr>\n",
       "      <th>min</th>\n",
       "      <td>1.000000</td>\n",
       "      <td>1.000000</td>\n",
       "      <td>29.688000</td>\n",
       "      <td>0.000000</td>\n",
       "      <td>0.000581</td>\n",
       "      <td>0.000000</td>\n",
       "      <td>-28.030000</td>\n",
       "      <td>0.000000</td>\n",
       "      <td>0.000000</td>\n",
       "      <td>0.000003</td>\n",
       "      <td>0.000000</td>\n",
       "      <td>0.009670</td>\n",
       "      <td>0.000000</td>\n",
       "      <td>0.000000</td>\n",
       "      <td>0.000000</td>\n",
       "    </tr>\n",
       "    <tr>\n",
       "      <th>25%</th>\n",
       "      <td>19.000000</td>\n",
       "      <td>4.000000</td>\n",
       "      <td>174.800000</td>\n",
       "      <td>0.499000</td>\n",
       "      <td>0.476000</td>\n",
       "      <td>2.000000</td>\n",
       "      <td>-10.990000</td>\n",
       "      <td>0.000000</td>\n",
       "      <td>0.032200</td>\n",
       "      <td>0.046200</td>\n",
       "      <td>0.000000</td>\n",
       "      <td>0.091200</td>\n",
       "      <td>0.409000</td>\n",
       "      <td>99.076000</td>\n",
       "      <td>23.000000</td>\n",
       "    </tr>\n",
       "    <tr>\n",
       "      <th>50%</th>\n",
       "      <td>47.000000</td>\n",
       "      <td>9.000000</td>\n",
       "      <td>214.426000</td>\n",
       "      <td>0.608000</td>\n",
       "      <td>0.634000</td>\n",
       "      <td>5.000000</td>\n",
       "      <td>-8.162000</td>\n",
       "      <td>1.000000</td>\n",
       "      <td>0.041400</td>\n",
       "      <td>0.192000</td>\n",
       "      <td>0.000004</td>\n",
       "      <td>0.131000</td>\n",
       "      <td>0.617000</td>\n",
       "      <td>119.001000</td>\n",
       "      <td>43.000000</td>\n",
       "    </tr>\n",
       "    <tr>\n",
       "      <th>75%</th>\n",
       "      <td>73.000000</td>\n",
       "      <td>16.000000</td>\n",
       "      <td>252.699500</td>\n",
       "      <td>0.708000</td>\n",
       "      <td>0.776000</td>\n",
       "      <td>8.000000</td>\n",
       "      <td>-5.835000</td>\n",
       "      <td>1.000000</td>\n",
       "      <td>0.068600</td>\n",
       "      <td>0.507000</td>\n",
       "      <td>0.000443</td>\n",
       "      <td>0.248000</td>\n",
       "      <td>0.800000</td>\n",
       "      <td>136.801000</td>\n",
       "      <td>60.000000</td>\n",
       "    </tr>\n",
       "    <tr>\n",
       "      <th>max</th>\n",
       "      <td>100.000000</td>\n",
       "      <td>91.000000</td>\n",
       "      <td>3079.157000</td>\n",
       "      <td>0.988000</td>\n",
       "      <td>0.997000</td>\n",
       "      <td>11.000000</td>\n",
       "      <td>2.291000</td>\n",
       "      <td>1.000000</td>\n",
       "      <td>0.951000</td>\n",
       "      <td>0.991000</td>\n",
       "      <td>0.982000</td>\n",
       "      <td>0.999000</td>\n",
       "      <td>0.991000</td>\n",
       "      <td>241.009000</td>\n",
       "      <td>100.000000</td>\n",
       "    </tr>\n",
       "  </tbody>\n",
       "</table>\n",
       "</div>"
      ],
      "text/plain": [
       "       peak_position  weeks_on_chart  track_duration_s  danceability  \\\n",
       "count   31459.000000    31459.000000      24719.000000  24665.000000   \n",
       "mean       46.822817       10.965097        220.237838      0.600180   \n",
       "std        30.439163        8.550567         67.539963      0.152923   \n",
       "min         1.000000        1.000000         29.688000      0.000000   \n",
       "25%        19.000000        4.000000        174.800000      0.499000   \n",
       "50%        47.000000        9.000000        214.426000      0.608000   \n",
       "75%        73.000000       16.000000        252.699500      0.708000   \n",
       "max       100.000000       91.000000       3079.157000      0.988000   \n",
       "\n",
       "             energy           key      loudness          mode   speechiness  \\\n",
       "count  24665.000000  24665.000000  24665.000000  24665.000000  24665.000000   \n",
       "mean       0.618146      5.229516     -8.631842      0.726049      0.073896   \n",
       "std        0.198420      3.561697      3.592360      0.445993      0.083451   \n",
       "min        0.000581      0.000000    -28.030000      0.000000      0.000000   \n",
       "25%        0.476000      2.000000    -10.990000      0.000000      0.032200   \n",
       "50%        0.634000      5.000000     -8.162000      1.000000      0.041400   \n",
       "75%        0.776000      8.000000     -5.835000      1.000000      0.068600   \n",
       "max        0.997000     11.000000      2.291000      1.000000      0.951000   \n",
       "\n",
       "       acousticness  instrumentalness      liveness       valence  \\\n",
       "count  24665.000000      24665.000000  24665.000000  24665.000000   \n",
       "mean       0.293460          0.032183      0.191901      0.598586   \n",
       "std        0.282088          0.135481      0.158567      0.239511   \n",
       "min        0.000003          0.000000      0.009670      0.000000   \n",
       "25%        0.046200          0.000000      0.091200      0.409000   \n",
       "50%        0.192000          0.000004      0.131000      0.617000   \n",
       "75%        0.507000          0.000443      0.248000      0.800000   \n",
       "max        0.991000          0.982000      0.999000      0.991000   \n",
       "\n",
       "              tempo  spotify_popularity  \n",
       "count  24665.000000        24719.000000  \n",
       "mean     120.339127           41.663660  \n",
       "std       28.081366           22.597551  \n",
       "min        0.000000            0.000000  \n",
       "25%       99.076000           23.000000  \n",
       "50%      119.001000           43.000000  \n",
       "75%      136.801000           60.000000  \n",
       "max      241.009000          100.000000  "
      ]
     },
     "execution_count": 5,
     "metadata": {},
     "output_type": "execute_result"
    }
   ],
   "source": [
    "hot_100 = pd.read_csv(\"filled_spotify.csv\").drop(\"Unnamed: 0\", axis=1)\n",
    "hot_100.describe()"
   ]
  },
  {
   "cell_type": "code",
   "execution_count": 6,
   "id": "e82fc8e6-112a-4633-afc3-8794a51cd48a",
   "metadata": {
    "tags": []
   },
   "outputs": [
    {
     "name": "stdout",
     "output_type": "stream",
     "text": [
      "<class 'pandas.core.frame.DataFrame'>\n",
      "RangeIndex: 31459 entries, 0 to 31458\n",
      "Data columns (total 21 columns):\n",
      " #   Column              Non-Null Count  Dtype  \n",
      "---  ------              --------------  -----  \n",
      " 0   song                31459 non-null  object \n",
      " 1   artist              31459 non-null  object \n",
      " 2   peak_position       31459 non-null  int64  \n",
      " 3   weeks_on_chart      31459 non-null  int64  \n",
      " 4   date                31459 non-null  object \n",
      " 5   spotify_genre       28189 non-null  object \n",
      " 6   track_duration_s    24719 non-null  float64\n",
      " 7   explicit_track      24719 non-null  object \n",
      " 8   danceability        24665 non-null  float64\n",
      " 9   energy              24665 non-null  float64\n",
      " 10  key                 24665 non-null  float64\n",
      " 11  loudness            24665 non-null  float64\n",
      " 12  mode                24665 non-null  float64\n",
      " 13  speechiness         24665 non-null  float64\n",
      " 14  acousticness        24665 non-null  float64\n",
      " 15  instrumentalness    24665 non-null  float64\n",
      " 16  liveness            24665 non-null  float64\n",
      " 17  valence             24665 non-null  float64\n",
      " 18  tempo               24665 non-null  float64\n",
      " 19  spotify_popularity  24719 non-null  float64\n",
      " 20  main_artist         31459 non-null  object \n",
      "dtypes: float64(13), int64(2), object(6)\n",
      "memory usage: 5.0+ MB\n"
     ]
    }
   ],
   "source": [
    "hot_100.info()"
   ]
  },
  {
   "cell_type": "code",
   "execution_count": 7,
   "id": "dfc73f7c-7972-4894-9a44-e5f92d84bfdd",
   "metadata": {
    "tags": []
   },
   "outputs": [
    {
     "data": {
      "text/plain": [
       "Index(['song', 'artist', 'peak_position', 'weeks_on_chart', 'date',\n",
       "       'spotify_genre', 'track_duration_s', 'explicit_track', 'danceability',\n",
       "       'energy', 'key', 'loudness', 'mode', 'speechiness', 'acousticness',\n",
       "       'instrumentalness', 'liveness', 'valence', 'tempo',\n",
       "       'spotify_popularity', 'main_artist'],\n",
       "      dtype='object')"
      ]
     },
     "execution_count": 7,
     "metadata": {},
     "output_type": "execute_result"
    }
   ],
   "source": [
    "hot_100.columns"
   ]
  },
  {
   "cell_type": "markdown",
   "id": "2b41fda6-ca06-443f-ba09-39a7e437f956",
   "metadata": {},
   "source": [
    "## Correlations between different features\n",
    "\n",
    "Not all songs have information for every feature. Lets plot a heatmap to see the correlations between all numerical features. By default the heatmap ignores NaN values, so we don't have to worry about them at the moment. Also lets inverse the columns showing the position for the song, as currently higher position is considered worse, because of the lower numerical value."
   ]
  },
  {
   "cell_type": "code",
   "execution_count": 9,
   "id": "3a0a80a1-b2e5-4560-9771-1ee30f887e8c",
   "metadata": {
    "tags": []
   },
   "outputs": [],
   "source": [
    "hot_100.peak_position = hot_100.peak_position * -1"
   ]
  },
  {
   "cell_type": "code",
   "execution_count": 10,
   "id": "d18c1038-6df3-42ed-aeb3-546c2065fe9d",
   "metadata": {
    "tags": []
   },
   "outputs": [
    {
     "data": {
      "image/png": "[encoded data removed]",
      "text/plain": [
       "<Figure size 1500x1000 with 2 Axes>"
      ]
     },
     "metadata": {},
     "output_type": "display_data"
    }
   ],
   "source": [
    "# Calculate the correlation matrix\n",
    "hot_100_numerical = hot_100.select_dtypes(include = ['float', 'int'])\n",
    "correlation_matrix = hot_100_numerical.corr()\n",
    "\n",
    "# Plot the heatmap\n",
    "plt.figure(figsize=(15, 10))\n",
    "sns.heatmap(correlation_matrix, annot=False, cmap='coolwarm', vmin=-1, vmax=1)\n",
    "plt.title('Correlation Heatmap of Float Columns')\n",
    "plt.show()"
   ]
  },
  {
   "cell_type": "code",
   "execution_count": 11,
   "id": "fc1b20b2-4e3d-4c39-b2bc-d42338e64277",
   "metadata": {
    "tags": []
   },
   "outputs": [
    {
     "data": {
      "text/html": [
       "<div>\n",
       "<style scoped>\n",
       "    .dataframe tbody tr th:only-of-type {\n",
       "        vertical-align: middle;\n",
       "    }\n",
       "\n",
       "    .dataframe tbody tr th {\n",
       "        vertical-align: top;\n",
       "    }\n",
       "\n",
       "    .dataframe thead th {\n",
       "        text-align: right;\n",
       "    }\n",
       "</style>\n",
       "<table border=\"1\" class=\"dataframe\">\n",
       "  <thead>\n",
       "    <tr style=\"text-align: right;\">\n",
       "      <th></th>\n",
       "      <th>peak_position</th>\n",
       "      <th>weeks_on_chart</th>\n",
       "      <th>track_duration_s</th>\n",
       "      <th>danceability</th>\n",
       "      <th>energy</th>\n",
       "      <th>key</th>\n",
       "      <th>loudness</th>\n",
       "      <th>mode</th>\n",
       "      <th>speechiness</th>\n",
       "      <th>acousticness</th>\n",
       "      <th>instrumentalness</th>\n",
       "      <th>liveness</th>\n",
       "      <th>valence</th>\n",
       "      <th>tempo</th>\n",
       "      <th>spotify_popularity</th>\n",
       "    </tr>\n",
       "  </thead>\n",
       "  <tbody>\n",
       "    <tr>\n",
       "      <th>peak_position</th>\n",
       "      <td>1.000000</td>\n",
       "      <td>0.693296</td>\n",
       "      <td>0.053686</td>\n",
       "      <td>0.040857</td>\n",
       "      <td>-0.013735</td>\n",
       "      <td>-0.003614</td>\n",
       "      <td>-0.028088</td>\n",
       "      <td>0.006550</td>\n",
       "      <td>-0.062242</td>\n",
       "      <td>-0.015198</td>\n",
       "      <td>-0.029608</td>\n",
       "      <td>-0.021743</td>\n",
       "      <td>0.048154</td>\n",
       "      <td>-0.009355</td>\n",
       "      <td>0.308997</td>\n",
       "    </tr>\n",
       "    <tr>\n",
       "      <th>weeks_on_chart</th>\n",
       "      <td>0.693296</td>\n",
       "      <td>1.000000</td>\n",
       "      <td>0.157696</td>\n",
       "      <td>0.120083</td>\n",
       "      <td>0.088530</td>\n",
       "      <td>0.013148</td>\n",
       "      <td>0.114970</td>\n",
       "      <td>-0.030601</td>\n",
       "      <td>-0.036409</td>\n",
       "      <td>-0.160631</td>\n",
       "      <td>-0.045142</td>\n",
       "      <td>-0.061045</td>\n",
       "      <td>-0.003231</td>\n",
       "      <td>-0.006415</td>\n",
       "      <td>0.400132</td>\n",
       "    </tr>\n",
       "    <tr>\n",
       "      <th>track_duration_s</th>\n",
       "      <td>0.053686</td>\n",
       "      <td>0.157696</td>\n",
       "      <td>1.000000</td>\n",
       "      <td>0.077185</td>\n",
       "      <td>0.120054</td>\n",
       "      <td>0.008340</td>\n",
       "      <td>0.027739</td>\n",
       "      <td>-0.115820</td>\n",
       "      <td>0.026367</td>\n",
       "      <td>-0.280709</td>\n",
       "      <td>0.019850</td>\n",
       "      <td>-0.030364</td>\n",
       "      <td>-0.141441</td>\n",
       "      <td>-0.018834</td>\n",
       "      <td>0.170206</td>\n",
       "    </tr>\n",
       "    <tr>\n",
       "      <th>danceability</th>\n",
       "      <td>0.040857</td>\n",
       "      <td>0.120083</td>\n",
       "      <td>0.077185</td>\n",
       "      <td>1.000000</td>\n",
       "      <td>0.201542</td>\n",
       "      <td>0.015764</td>\n",
       "      <td>0.138427</td>\n",
       "      <td>-0.162005</td>\n",
       "      <td>0.255451</td>\n",
       "      <td>-0.314082</td>\n",
       "      <td>-0.001454</td>\n",
       "      <td>-0.128518</td>\n",
       "      <td>0.380497</td>\n",
       "      <td>-0.142575</td>\n",
       "      <td>0.180676</td>\n",
       "    </tr>\n",
       "    <tr>\n",
       "      <th>energy</th>\n",
       "      <td>-0.013735</td>\n",
       "      <td>0.088530</td>\n",
       "      <td>0.120054</td>\n",
       "      <td>0.201542</td>\n",
       "      <td>1.000000</td>\n",
       "      <td>0.022147</td>\n",
       "      <td>0.682878</td>\n",
       "      <td>-0.101378</td>\n",
       "      <td>0.132385</td>\n",
       "      <td>-0.584845</td>\n",
       "      <td>-0.002375</td>\n",
       "      <td>0.112897</td>\n",
       "      <td>0.353572</td>\n",
       "      <td>0.159072</td>\n",
       "      <td>0.172731</td>\n",
       "    </tr>\n",
       "    <tr>\n",
       "      <th>key</th>\n",
       "      <td>-0.003614</td>\n",
       "      <td>0.013148</td>\n",
       "      <td>0.008340</td>\n",
       "      <td>0.015764</td>\n",
       "      <td>0.022147</td>\n",
       "      <td>1.000000</td>\n",
       "      <td>0.008130</td>\n",
       "      <td>-0.142557</td>\n",
       "      <td>0.022301</td>\n",
       "      <td>-0.021663</td>\n",
       "      <td>0.004056</td>\n",
       "      <td>-0.003604</td>\n",
       "      <td>0.014344</td>\n",
       "      <td>-0.014429</td>\n",
       "      <td>0.002492</td>\n",
       "    </tr>\n",
       "    <tr>\n",
       "      <th>loudness</th>\n",
       "      <td>-0.028088</td>\n",
       "      <td>0.114970</td>\n",
       "      <td>0.027739</td>\n",
       "      <td>0.138427</td>\n",
       "      <td>0.682878</td>\n",
       "      <td>0.008130</td>\n",
       "      <td>1.000000</td>\n",
       "      <td>-0.080979</td>\n",
       "      <td>0.170090</td>\n",
       "      <td>-0.408790</td>\n",
       "      <td>-0.136238</td>\n",
       "      <td>0.041753</td>\n",
       "      <td>0.013957</td>\n",
       "      <td>0.095164</td>\n",
       "      <td>0.355740</td>\n",
       "    </tr>\n",
       "    <tr>\n",
       "      <th>mode</th>\n",
       "      <td>0.006550</td>\n",
       "      <td>-0.030601</td>\n",
       "      <td>-0.115820</td>\n",
       "      <td>-0.162005</td>\n",
       "      <td>-0.101378</td>\n",
       "      <td>-0.142557</td>\n",
       "      <td>-0.080979</td>\n",
       "      <td>1.000000</td>\n",
       "      <td>-0.136237</td>\n",
       "      <td>0.141322</td>\n",
       "      <td>-0.008916</td>\n",
       "      <td>0.011471</td>\n",
       "      <td>-0.016320</td>\n",
       "      <td>0.016023</td>\n",
       "      <td>-0.119664</td>\n",
       "    </tr>\n",
       "    <tr>\n",
       "      <th>speechiness</th>\n",
       "      <td>-0.062242</td>\n",
       "      <td>-0.036409</td>\n",
       "      <td>0.026367</td>\n",
       "      <td>0.255451</td>\n",
       "      <td>0.132385</td>\n",
       "      <td>0.022301</td>\n",
       "      <td>0.170090</td>\n",
       "      <td>-0.136237</td>\n",
       "      <td>1.000000</td>\n",
       "      <td>-0.155903</td>\n",
       "      <td>-0.058323</td>\n",
       "      <td>0.080394</td>\n",
       "      <td>-0.031080</td>\n",
       "      <td>0.062561</td>\n",
       "      <td>0.207353</td>\n",
       "    </tr>\n",
       "    <tr>\n",
       "      <th>acousticness</th>\n",
       "      <td>-0.015198</td>\n",
       "      <td>-0.160631</td>\n",
       "      <td>-0.280709</td>\n",
       "      <td>-0.314082</td>\n",
       "      <td>-0.584845</td>\n",
       "      <td>-0.021663</td>\n",
       "      <td>-0.408790</td>\n",
       "      <td>0.141322</td>\n",
       "      <td>-0.155903</td>\n",
       "      <td>1.000000</td>\n",
       "      <td>0.028427</td>\n",
       "      <td>0.039020</td>\n",
       "      <td>-0.115073</td>\n",
       "      <td>-0.104476</td>\n",
       "      <td>-0.301775</td>\n",
       "    </tr>\n",
       "    <tr>\n",
       "      <th>instrumentalness</th>\n",
       "      <td>-0.029608</td>\n",
       "      <td>-0.045142</td>\n",
       "      <td>0.019850</td>\n",
       "      <td>-0.001454</td>\n",
       "      <td>-0.002375</td>\n",
       "      <td>0.004056</td>\n",
       "      <td>-0.136238</td>\n",
       "      <td>-0.008916</td>\n",
       "      <td>-0.058323</td>\n",
       "      <td>0.028427</td>\n",
       "      <td>1.000000</td>\n",
       "      <td>-0.010462</td>\n",
       "      <td>0.050555</td>\n",
       "      <td>0.001742</td>\n",
       "      <td>-0.120532</td>\n",
       "    </tr>\n",
       "    <tr>\n",
       "      <th>liveness</th>\n",
       "      <td>-0.021743</td>\n",
       "      <td>-0.061045</td>\n",
       "      <td>-0.030364</td>\n",
       "      <td>-0.128518</td>\n",
       "      <td>0.112897</td>\n",
       "      <td>-0.003604</td>\n",
       "      <td>0.041753</td>\n",
       "      <td>0.011471</td>\n",
       "      <td>0.080394</td>\n",
       "      <td>0.039020</td>\n",
       "      <td>-0.010462</td>\n",
       "      <td>1.000000</td>\n",
       "      <td>0.026541</td>\n",
       "      <td>0.019559</td>\n",
       "      <td>-0.074658</td>\n",
       "    </tr>\n",
       "    <tr>\n",
       "      <th>valence</th>\n",
       "      <td>0.048154</td>\n",
       "      <td>-0.003231</td>\n",
       "      <td>-0.141441</td>\n",
       "      <td>0.380497</td>\n",
       "      <td>0.353572</td>\n",
       "      <td>0.014344</td>\n",
       "      <td>0.013957</td>\n",
       "      <td>-0.016320</td>\n",
       "      <td>-0.031080</td>\n",
       "      <td>-0.115073</td>\n",
       "      <td>0.050555</td>\n",
       "      <td>0.026541</td>\n",
       "      <td>1.000000</td>\n",
       "      <td>0.069193</td>\n",
       "      <td>-0.228468</td>\n",
       "    </tr>\n",
       "    <tr>\n",
       "      <th>tempo</th>\n",
       "      <td>-0.009355</td>\n",
       "      <td>-0.006415</td>\n",
       "      <td>-0.018834</td>\n",
       "      <td>-0.142575</td>\n",
       "      <td>0.159072</td>\n",
       "      <td>-0.014429</td>\n",
       "      <td>0.095164</td>\n",
       "      <td>0.016023</td>\n",
       "      <td>0.062561</td>\n",
       "      <td>-0.104476</td>\n",
       "      <td>0.001742</td>\n",
       "      <td>0.019559</td>\n",
       "      <td>0.069193</td>\n",
       "      <td>1.000000</td>\n",
       "      <td>0.028347</td>\n",
       "    </tr>\n",
       "    <tr>\n",
       "      <th>spotify_popularity</th>\n",
       "      <td>0.308997</td>\n",
       "      <td>0.400132</td>\n",
       "      <td>0.170206</td>\n",
       "      <td>0.180676</td>\n",
       "      <td>0.172731</td>\n",
       "      <td>0.002492</td>\n",
       "      <td>0.355740</td>\n",
       "      <td>-0.119664</td>\n",
       "      <td>0.207353</td>\n",
       "      <td>-0.301775</td>\n",
       "      <td>-0.120532</td>\n",
       "      <td>-0.074658</td>\n",
       "      <td>-0.228468</td>\n",
       "      <td>0.028347</td>\n",
       "      <td>1.000000</td>\n",
       "    </tr>\n",
       "  </tbody>\n",
       "</table>\n",
       "</div>"
      ],
      "text/plain": [
       "                    peak_position  weeks_on_chart  track_duration_s  \\\n",
       "peak_position            1.000000        0.693296          0.053686   \n",
       "weeks_on_chart           0.693296        1.000000          0.157696   \n",
       "track_duration_s         0.053686        0.157696          1.000000   \n",
       "danceability             0.040857        0.120083          0.077185   \n",
       "energy                  -0.013735        0.088530          0.120054   \n",
       "key                     -0.003614        0.013148          0.008340   \n",
       "loudness                -0.028088        0.114970          0.027739   \n",
       "mode                     0.006550       -0.030601         -0.115820   \n",
       "speechiness             -0.062242       -0.036409          0.026367   \n",
       "acousticness            -0.015198       -0.160631         -0.280709   \n",
       "instrumentalness        -0.029608       -0.045142          0.019850   \n",
       "liveness                -0.021743       -0.061045         -0.030364   \n",
       "valence                  0.048154       -0.003231         -0.141441   \n",
       "tempo                   -0.009355       -0.006415         -0.018834   \n",
       "spotify_popularity       0.308997        0.400132          0.170206   \n",
       "\n",
       "                    danceability    energy       key  loudness      mode  \\\n",
       "peak_position           0.040857 -0.013735 -0.003614 -0.028088  0.006550   \n",
       "weeks_on_chart          0.120083  0.088530  0.013148  0.114970 -0.030601   \n",
       "track_duration_s        0.077185  0.120054  0.008340  0.027739 -0.115820   \n",
       "danceability            1.000000  0.201542  0.015764  0.138427 -0.162005   \n",
       "energy                  0.201542  1.000000  0.022147  0.682878 -0.101378   \n",
       "key                     0.015764  0.022147  1.000000  0.008130 -0.142557   \n",
       "loudness                0.138427  0.682878  0.008130  1.000000 -0.080979   \n",
       "mode                   -0.162005 -0.101378 -0.142557 -0.080979  1.000000   \n",
       "speechiness             0.255451  0.132385  0.022301  0.170090 -0.136237   \n",
       "acousticness           -0.314082 -0.584845 -0.021663 -0.408790  0.141322   \n",
       "instrumentalness       -0.001454 -0.002375  0.004056 -0.136238 -0.008916   \n",
       "liveness               -0.128518  0.112897 -0.003604  0.041753  0.011471   \n",
       "valence                 0.380497  0.353572  0.014344  0.013957 -0.016320   \n",
       "tempo                  -0.142575  0.159072 -0.014429  0.095164  0.016023   \n",
       "spotify_popularity      0.180676  0.172731  0.002492  0.355740 -0.119664   \n",
       "\n",
       "                    speechiness  acousticness  instrumentalness  liveness  \\\n",
       "peak_position         -0.062242     -0.015198         -0.029608 -0.021743   \n",
       "weeks_on_chart        -0.036409     -0.160631         -0.045142 -0.061045   \n",
       "track_duration_s       0.026367     -0.280709          0.019850 -0.030364   \n",
       "danceability           0.255451     -0.314082         -0.001454 -0.128518   \n",
       "energy                 0.132385     -0.584845         -0.002375  0.112897   \n",
       "key                    0.022301     -0.021663          0.004056 -0.003604   \n",
       "loudness               0.170090     -0.408790         -0.136238  0.041753   \n",
       "mode                  -0.136237      0.141322         -0.008916  0.011471   \n",
       "speechiness            1.000000     -0.155903         -0.058323  0.080394   \n",
       "acousticness          -0.155903      1.000000          0.028427  0.039020   \n",
       "instrumentalness      -0.058323      0.028427          1.000000 -0.010462   \n",
       "liveness               0.080394      0.039020         -0.010462  1.000000   \n",
       "valence               -0.031080     -0.115073          0.050555  0.026541   \n",
       "tempo                  0.062561     -0.104476          0.001742  0.019559   \n",
       "spotify_popularity     0.207353     -0.301775         -0.120532 -0.074658   \n",
       "\n",
       "                     valence     tempo  spotify_popularity  \n",
       "peak_position       0.048154 -0.009355            0.308997  \n",
       "weeks_on_chart     -0.003231 -0.006415            0.400132  \n",
       "track_duration_s   -0.141441 -0.018834            0.170206  \n",
       "danceability        0.380497 -0.142575            0.180676  \n",
       "energy              0.353572  0.159072            0.172731  \n",
       "key                 0.014344 -0.014429            0.002492  \n",
       "loudness            0.013957  0.095164            0.355740  \n",
       "mode               -0.016320  0.016023           -0.119664  \n",
       "speechiness        -0.031080  0.062561            0.207353  \n",
       "acousticness       -0.115073 -0.104476           -0.301775  \n",
       "instrumentalness    0.050555  0.001742           -0.120532  \n",
       "liveness            0.026541  0.019559           -0.074658  \n",
       "valence             1.000000  0.069193           -0.228468  \n",
       "tempo               0.069193  1.000000            0.028347  \n",
       "spotify_popularity -0.228468  0.028347            1.000000  "
      ]
     },
     "execution_count": 11,
     "metadata": {},
     "output_type": "execute_result"
    }
   ],
   "source": [
    "hot_100_numerical.corr()"
   ]
  },
  {
   "cell_type": "markdown",
   "id": "353d827d-6a38-4757-9ad7-fd1201213ee5",
   "metadata": {},
   "source": [
    "#### Some interesting observations:\n",
    "\n",
    "- As expected, positive correlations between chart poristion, weeks on chart and spotify popularity;\n",
    "- Moderate correlation between spotify popularity and loudness. Loud songs tend to be more popular. Meanwhile there is a negative correlation between acousticness and popularity;\n",
    "- Higher energy equates to higher loudness and valence;\n",
    "- Valence and danceability are also correlated, however energy and danceability - not as much;\n",
    "- Higher danceability, loudness, track duration and energy all lead to lower acousticness;"
   ]
  },
  {
   "cell_type": "markdown",
   "id": "d159414c-d1f2-438f-8a48-293080da59a6",
   "metadata": {},
   "source": [
    "## Most popular artists"
   ]
  },
  {
   "cell_type": "markdown",
   "id": "e1e49ca9-c62a-4a6f-a9f0-1540f14c8ce5",
   "metadata": {},
   "source": [
    "Lets take a look at the most popular artists based on billboard charts and spotify popularity and see if they are mostly the same for both.\n",
    "\n",
    "### Most popular artists on the Billboard Hot 100 chart\n",
    "\n",
    "To find out which are the most popular artists on the chart, I will visualize the 15 artists who have the most songs that have charted, then see the artists with the highest average position, most weeks on the chart and highest spotify popularity. Lets see if these three criteria each paint a different picture.\n",
    "\n",
    "Considering that some songs have featuring artists, it will be better to count the song as it belongs to all of the artists, performing it. I will make a visualization for both counting only the main artist and counting all artists.\n"
   ]
  },
  {
   "cell_type": "code",
   "execution_count": 15,
   "id": "25d91e15-fd32-4d72-a854-67e6796eb022",
   "metadata": {
    "tags": []
   },
   "outputs": [
    {
     "ename": "KeyError",
     "evalue": "'artist_list'",
     "output_type": "error",
     "traceback": [
      "\u001b[1;31m---------------------------------------------------------------------------\u001b[0m",
      "\u001b[1;31mKeyError\u001b[0m                                  Traceback (most recent call last)",
      "File \u001b[1;32m~\\anaconda3\\Lib\\site-packages\\pandas\\core\\indexes\\base.py:3791\u001b[0m, in \u001b[0;36mIndex.get_loc\u001b[1;34m(self, key)\u001b[0m\n\u001b[0;32m   3790\u001b[0m \u001b[38;5;28;01mtry\u001b[39;00m:\n\u001b[1;32m-> 3791\u001b[0m     \u001b[38;5;28;01mreturn\u001b[39;00m \u001b[38;5;28mself\u001b[39m\u001b[38;5;241m.\u001b[39m_engine\u001b[38;5;241m.\u001b[39mget_loc(casted_key)\n\u001b[0;32m   3792\u001b[0m \u001b[38;5;28;01mexcept\u001b[39;00m \u001b[38;5;167;01mKeyError\u001b[39;00m \u001b[38;5;28;01mas\u001b[39;00m err:\n",
      "File \u001b[1;32mindex.pyx:152\u001b[0m, in \u001b[0;36mpandas._libs.index.IndexEngine.get_loc\u001b[1;34m()\u001b[0m\n",
      "File \u001b[1;32mindex.pyx:181\u001b[0m, in \u001b[0;36mpandas._libs.index.IndexEngine.get_loc\u001b[1;34m()\u001b[0m\n",
      "File \u001b[1;32mpandas\\_libs\\hashtable_class_helper.pxi:7080\u001b[0m, in \u001b[0;36mpandas._libs.hashtable.PyObjectHashTable.get_item\u001b[1;34m()\u001b[0m\n",
      "File \u001b[1;32mpandas\\_libs\\hashtable_class_helper.pxi:7088\u001b[0m, in \u001b[0;36mpandas._libs.hashtable.PyObjectHashTable.get_item\u001b[1;34m()\u001b[0m\n",
      "\u001b[1;31mKeyError\u001b[0m: 'artist_list'",
      "\nThe above exception was the direct cause of the following exception:\n",
      "\u001b[1;31mKeyError\u001b[0m                                  Traceback (most recent call last)",
      "Cell \u001b[1;32mIn[15], line 1\u001b[0m\n\u001b[1;32m----> 1\u001b[0m hot_100_expanded_artists \u001b[38;5;241m=\u001b[39m hot_100\u001b[38;5;241m.\u001b[39mexplode(\u001b[38;5;124m'\u001b[39m\u001b[38;5;124martist_list\u001b[39m\u001b[38;5;124m'\u001b[39m)\n",
      "File \u001b[1;32m~\\anaconda3\\Lib\\site-packages\\pandas\\core\\frame.py:9540\u001b[0m, in \u001b[0;36mDataFrame.explode\u001b[1;34m(self, column, ignore_index)\u001b[0m\n\u001b[0;32m   9538\u001b[0m df \u001b[38;5;241m=\u001b[39m \u001b[38;5;28mself\u001b[39m\u001b[38;5;241m.\u001b[39mreset_index(drop\u001b[38;5;241m=\u001b[39m\u001b[38;5;28;01mTrue\u001b[39;00m)\n\u001b[0;32m   9539\u001b[0m \u001b[38;5;28;01mif\u001b[39;00m \u001b[38;5;28mlen\u001b[39m(columns) \u001b[38;5;241m==\u001b[39m \u001b[38;5;241m1\u001b[39m:\n\u001b[1;32m-> 9540\u001b[0m     result \u001b[38;5;241m=\u001b[39m df[columns[\u001b[38;5;241m0\u001b[39m]]\u001b[38;5;241m.\u001b[39mexplode()\n\u001b[0;32m   9541\u001b[0m \u001b[38;5;28;01melse\u001b[39;00m:\n\u001b[0;32m   9542\u001b[0m     mylen \u001b[38;5;241m=\u001b[39m \u001b[38;5;28;01mlambda\u001b[39;00m x: \u001b[38;5;28mlen\u001b[39m(x) \u001b[38;5;28;01mif\u001b[39;00m (is_list_like(x) \u001b[38;5;129;01mand\u001b[39;00m \u001b[38;5;28mlen\u001b[39m(x) \u001b[38;5;241m>\u001b[39m \u001b[38;5;241m0\u001b[39m) \u001b[38;5;28;01melse\u001b[39;00m \u001b[38;5;241m1\u001b[39m\n",
      "File \u001b[1;32m~\\anaconda3\\Lib\\site-packages\\pandas\\core\\frame.py:3893\u001b[0m, in \u001b[0;36mDataFrame.__getitem__\u001b[1;34m(self, key)\u001b[0m\n\u001b[0;32m   3891\u001b[0m \u001b[38;5;28;01mif\u001b[39;00m \u001b[38;5;28mself\u001b[39m\u001b[38;5;241m.\u001b[39mcolumns\u001b[38;5;241m.\u001b[39mnlevels \u001b[38;5;241m>\u001b[39m \u001b[38;5;241m1\u001b[39m:\n\u001b[0;32m   3892\u001b[0m     \u001b[38;5;28;01mreturn\u001b[39;00m \u001b[38;5;28mself\u001b[39m\u001b[38;5;241m.\u001b[39m_getitem_multilevel(key)\n\u001b[1;32m-> 3893\u001b[0m indexer \u001b[38;5;241m=\u001b[39m \u001b[38;5;28mself\u001b[39m\u001b[38;5;241m.\u001b[39mcolumns\u001b[38;5;241m.\u001b[39mget_loc(key)\n\u001b[0;32m   3894\u001b[0m \u001b[38;5;28;01mif\u001b[39;00m is_integer(indexer):\n\u001b[0;32m   3895\u001b[0m     indexer \u001b[38;5;241m=\u001b[39m [indexer]\n",
      "File \u001b[1;32m~\\anaconda3\\Lib\\site-packages\\pandas\\core\\indexes\\base.py:3798\u001b[0m, in \u001b[0;36mIndex.get_loc\u001b[1;34m(self, key)\u001b[0m\n\u001b[0;32m   3793\u001b[0m     \u001b[38;5;28;01mif\u001b[39;00m \u001b[38;5;28misinstance\u001b[39m(casted_key, \u001b[38;5;28mslice\u001b[39m) \u001b[38;5;129;01mor\u001b[39;00m (\n\u001b[0;32m   3794\u001b[0m         \u001b[38;5;28misinstance\u001b[39m(casted_key, abc\u001b[38;5;241m.\u001b[39mIterable)\n\u001b[0;32m   3795\u001b[0m         \u001b[38;5;129;01mand\u001b[39;00m \u001b[38;5;28many\u001b[39m(\u001b[38;5;28misinstance\u001b[39m(x, \u001b[38;5;28mslice\u001b[39m) \u001b[38;5;28;01mfor\u001b[39;00m x \u001b[38;5;129;01min\u001b[39;00m casted_key)\n\u001b[0;32m   3796\u001b[0m     ):\n\u001b[0;32m   3797\u001b[0m         \u001b[38;5;28;01mraise\u001b[39;00m InvalidIndexError(key)\n\u001b[1;32m-> 3798\u001b[0m     \u001b[38;5;28;01mraise\u001b[39;00m \u001b[38;5;167;01mKeyError\u001b[39;00m(key) \u001b[38;5;28;01mfrom\u001b[39;00m \u001b[38;5;21;01merr\u001b[39;00m\n\u001b[0;32m   3799\u001b[0m \u001b[38;5;28;01mexcept\u001b[39;00m \u001b[38;5;167;01mTypeError\u001b[39;00m:\n\u001b[0;32m   3800\u001b[0m     \u001b[38;5;66;03m# If we have a listlike key, _check_indexing_error will raise\u001b[39;00m\n\u001b[0;32m   3801\u001b[0m     \u001b[38;5;66;03m#  InvalidIndexError. Otherwise we fall through and re-raise\u001b[39;00m\n\u001b[0;32m   3802\u001b[0m     \u001b[38;5;66;03m#  the TypeError.\u001b[39;00m\n\u001b[0;32m   3803\u001b[0m     \u001b[38;5;28mself\u001b[39m\u001b[38;5;241m.\u001b[39m_check_indexing_error(key)\n",
      "\u001b[1;31mKeyError\u001b[0m: 'artist_list'"
     ]
    }
   ],
   "source": [
    "hot_100_expanded_artists = hot_100.explode('artist_list')"
   ]
  },
  {
   "cell_type": "code",
   "execution_count": null,
   "id": "1b2f7679-1f9e-4e3b-be03-1dfb150c3f53",
   "metadata": {
    "tags": []
   },
   "outputs": [],
   "source": [
    "#Plot artists with most songs on the chart\n",
    "main_artists_songs = hot_100.main_artist.value_counts()\n",
    "expanded_artists_songs = hot_100_expanded_artists.artist_list.value_counts()\n",
    "visualization.plot_popular_artists(\n",
    "    main_artists_songs, expanded_artists_songs, name_y = \"Song count\", title = \"Artists with most songs on the Billboard Hot 100\", count = 15\n",
    ")"
   ]
  },
  {
   "cell_type": "markdown",
   "id": "c0f04d07-c77e-4ee9-9ffc-87bc969ac098",
   "metadata": {},
   "source": [
    "The top four is the same both when counting features and not - Taylor Swift, Drake, Glee Cast (a popular TV musical show) and Future. For number of artists' own songs, Taylor Swift is first, but when we take into account the artist featuring in other's songs, Drake overtakes her. Many popular songs have a small rap part, performed by a rapper and many popular rap songs have more than one performer, which makes some rappers rise in position in the second chart - Lil Wayne, Lil Uzi Vert. Nicki Minaj and Travis Scott are not even in the top 15 when looking at only their own songs, as a big part of their chart performance is when they are featured on other artist's songs."
   ]
  },
  {
   "cell_type": "code",
   "execution_count": null,
   "id": "953bed30-fe31-4739-b33a-e230a71bff4d",
   "metadata": {
    "tags": []
   },
   "outputs": [],
   "source": [
    "#Plot artists whose songs have spent the most weeks on charts\n",
    "artists_most_weeks = hot_100.groupby('main_artist')['weeks_on_chart'].sum().sort_values(ascending = False)\n",
    "artists_most_weeks_features = (\n",
    "    hot_100_expanded_artists.groupby('artist_list')['weeks_on_chart'].sum().sort_values(ascending = False)\n",
    ")\n",
    "visualization.plot_popular_artists(\n",
    "    artists_most_weeks, artists_most_weeks_features, name_y = \"Total weeks\", title = \"Artists with most weeks on chart\", count = 15\n",
    ")"
   ]
  },
  {
   "cell_type": "markdown",
   "id": "a3ecfa9f-436b-47cd-8fdd-a65eb478b061",
   "metadata": {},
   "source": [
    "This visualizes the number of weeks all songs of each artist have spent on the chart in total. Drake and Taylor are again leading the chart both with just their songs and with features included, however Drake heavily outnumbers Taylor Swift when we take features into account, while Taylor's total weeks seem to not change at all, which is because she rarely features on other's songs. Madonna's position falls down, as she is also an artist who is rarely featured on other's songs."
   ]
  },
  {
   "cell_type": "code",
   "execution_count": null,
   "id": "06d8755a-485a-44b1-ae02-6f35af2ac6a8",
   "metadata": {
    "tags": []
   },
   "outputs": [],
   "source": [
    "#Plot artists with the highest average spotify popularity per song, but only count ones with more than 30 songs\n",
    "#30 is the needed data points for statistical significance\n",
    "song_counts = hot_100.groupby('main_artist')['spotify_popularity'].count() #get the number of songs\n",
    "above_30_songs = song_counts[song_counts > 30].index #Filter only artists with more than 30 songs\n",
    "\n",
    "popularity_spotify = (hot_100[hot_100['main_artist'].isin(above_30_songs)]\n",
    "                   .groupby('main_artist')['spotify_popularity']\n",
    "                   .mean()\n",
    "                   .sort_values(ascending=False))\n",
    "\n",
    "\n",
    "#Do the same, while counting features\n",
    "song_counts = hot_100_expanded_artists.groupby('artist_list')['spotify_popularity'].count() #get the number of songs\n",
    "above_30_songs = song_counts[song_counts > 30].index #Filter only artists with more than 30 songs\n",
    "\n",
    "popularity_with_features_spotify = (hot_100_expanded_artists[hot_100_expanded_artists['artist_list'].isin(above_30_songs)]\n",
    "                   .groupby('artist_list')['spotify_popularity']\n",
    "                   .mean()\n",
    "                   .sort_values(ascending=False))"
   ]
  },
  {
   "cell_type": "code",
   "execution_count": null,
   "id": "27d9ce53-c3e1-401a-b6c3-adf339fd4eec",
   "metadata": {
    "tags": []
   },
   "outputs": [],
   "source": [
    "visualization.plot_popular_artists(\n",
    "    popularity_spotify, popularity_with_features_spotify, \n",
    "    name_y = \"Average spotify popularity per song\", \n",
    "    title = \"Most Popular Artists On Spotify Based On Billboard Hot 100 Songs\", count = 15\n",
    ")"
   ]
  },
  {
   "cell_type": "markdown",
   "id": "da492b69-be21-4be7-81c5-281a7650fb85",
   "metadata": {},
   "source": [
    "Mostly the same names are in the top 15 again, however there is some difference in the positions of artists, leading the charts, and ones, leading in spotify for the same songs. One interesting observation is that the rapper Juice WRLD is the most popular in spotify, when taking features into account. This means he is features in a lot of popular songs, but his own ones aren't on the same level of popularity.\n",
    "\n",
    "Names like Drake and Taylor are in a little lower position here, mostly because of the sheer number of songs they have charted, leading the average spotify popularity down."
   ]
  },
  {
   "cell_type": "code",
   "execution_count": null,
   "id": "45bc3a2a-ef67-4cf7-8774-fd356b1afb80",
   "metadata": {
    "tags": []
   },
   "outputs": [],
   "source": [
    "#Plot artists with the highest average position on the charts, again only for artists with more than 30 songs\n",
    "song_counts = hot_100.groupby('main_artist')['peak_position'].count() #get the number of songs\n",
    "above_30_songs = song_counts[song_counts > 30].index #Filter only artists with more than 30 songs\n",
    "\n",
    "average_position = (hot_100[hot_100['main_artist'].isin(above_30_songs)]\n",
    "                   .groupby('main_artist')['peak_position']\n",
    "                   .mean()\n",
    "                   .sort_values(ascending=False)) * -1\n",
    "\n",
    "\n",
    "#Do the same, while counting features\n",
    "song_counts = hot_100_expanded_artists.groupby('artist_list')['peak_position'].count() #get the number of songs\n",
    "above_30_songs = song_counts[song_counts > 30].index #Filter only artists with more than 30 songs\n",
    "\n",
    "average_position_features = (hot_100_expanded_artists[hot_100_expanded_artists['artist_list'].isin(above_30_songs)]\n",
    "                   .groupby('artist_list')['peak_position']\n",
    "                   .mean()\n",
    "                   .sort_values(ascending=False)) * -1"
   ]
  },
  {
   "cell_type": "code",
   "execution_count": null,
   "id": "90ab0fa2-24c1-43b0-b701-bf64c4033422",
   "metadata": {
    "tags": []
   },
   "outputs": [],
   "source": [
    "visualization.plot_popular_artists(\n",
    "    average_position, average_position_features, \n",
    "    name_y = \"Average chart position\", \n",
    "    title = \"Artists with the highest average chart positions\", count = 15\n",
    ")"
   ]
  },
  {
   "cell_type": "markdown",
   "id": "46f6bf77-26ea-40b4-9a12-d8a58ca99f89",
   "metadata": {},
   "source": [
    "When looking atthe artists with the highest average position on the charts, Madonna is a clear winner, followed by Michael Jackson and Rihanna. The artists when counting and not counting features are mostly the same with some small movement in their position."
   ]
  },
  {
   "cell_type": "markdown",
   "id": "95851fee-7727-4418-8b51-6fbdfb6be7df",
   "metadata": {},
   "source": [
    "## Genre Analysis\n",
    "\n",
    "Lets perform some analysis on the genres, given to the songs, based on their performers' associated genres. Currently the genres feature is stored as a list. I will expand the dataset to contain a row for each genre of a song.\n",
    "\n",
    "Lets see which are the genres, which are most common on the Billboard Hot 100. Then lets see how popular were some genres over the years. I first need to extract the year from the date column."
   ]
  },
  {
   "cell_type": "code",
   "execution_count": null,
   "id": "5f55aeb2-c525-4f43-87a4-c1bf222724e4",
   "metadata": {
    "tags": []
   },
   "outputs": [],
   "source": [
    "hot_100.date = pd.to_datetime(hot_100.date)\n",
    "hot_100['year'] = hot_100.date.dt.year\n",
    "\n",
    "hot_100.spotify_genre = hot_100.spotify_genre.dropna().apply(ast.literal_eval)\n",
    "hot_100_expanded_genres = hot_100.explode('spotify_genre')\n",
    "hot_100_expanded_genres = hot_100_expanded_genres.dropna(subset = 'spotify_genre')"
   ]
  },
  {
   "cell_type": "code",
   "execution_count": null,
   "id": "06d493c4-1490-495f-af51-3c4f8fbceb0f",
   "metadata": {
    "tags": []
   },
   "outputs": [],
   "source": [
    "common_genres = hot_100_expanded_genres.spotify_genre.value_counts().head(25).to_dict()\n",
    "\n",
    "plt.figure(figsize = (13, 7))\n",
    "plt.bar(common_genres.keys(), common_genres.values(), color = 'mediumspringgreen', edgecolor = 'black')\n",
    "plt.xlabel('Genre')\n",
    "plt.ylabel('Number of songs')\n",
    "plt.xticks(rotation = 30, ha = 'right')\n",
    "plt.title('Top 25 most common genres in the Billboard Hot 100')\n",
    "plt.grid(axis = 'y')\n",
    "\n",
    "plt.show()"
   ]
  },
  {
   "cell_type": "markdown",
   "id": "09693559-7aed-4710-9d90-c426406bbab6",
   "metadata": {},
   "source": [
    "### Genre chart pressence"
   ]
  },
  {
   "cell_type": "markdown",
   "id": "1618bf09-7664-4204-8cbe-eaafc323f3e2",
   "metadata": {},
   "source": [
    "The most common is 'mellow gold' - a style of music that blends alternative rock with folk, country, and lo-fi elements. Lets see how it performed over the years."
   ]
  },
  {
   "cell_type": "code",
   "execution_count": null,
   "id": "8b6a2050-504d-4675-9830-080ccd1e1188",
   "metadata": {
    "tags": []
   },
   "outputs": [],
   "source": [
    "visualization.plot_genre_performance(hot_100_expanded_genres, \"mellow gold\")"
   ]
  },
  {
   "cell_type": "markdown",
   "id": "4e738b2f-e6b8-4bd4-a3ab-f0f5eedc10bb",
   "metadata": {},
   "source": [
    "We can see mellow gold started rising in popularity during the late 60s and lost it fast during the late 80s. This is about 20 years dominated by the genre. After the year 2000, mellow gold songs are very rare on the Billboard Hot 100."
   ]
  },
  {
   "cell_type": "code",
   "execution_count": null,
   "id": "99308177-e436-4673-933b-f97e4e22e5af",
   "metadata": {
    "tags": []
   },
   "outputs": [],
   "source": [
    "visualization.period_avg_position(hot_100_expanded_genres, \"mellow gold\", 1965, 1990)"
   ]
  },
  {
   "cell_type": "code",
   "execution_count": null,
   "id": "a18d28ee-1119-4d70-98ba-fb4de3a5e92f",
   "metadata": {
    "tags": []
   },
   "outputs": [],
   "source": [
    "visualization.plot_genre_performance(hot_100_expanded_genres, \"soft rock\")"
   ]
  },
  {
   "cell_type": "markdown",
   "id": "902ad7e0-9a81-40b9-9636-326d85dfc179",
   "metadata": {},
   "source": [
    "Soft rock genre was very popular during the 70s to 90s, then gradually dropped off and lost pretty much all its pressence in the charts by the year 2000"
   ]
  },
  {
   "cell_type": "code",
   "execution_count": null,
   "id": "332905cf-0b2f-4eaa-9502-f3afec2f1b53",
   "metadata": {
    "tags": []
   },
   "outputs": [],
   "source": [
    "visualization.period_avg_position(hot_100_expanded_genres, 'soft rock', 1965, 1990)"
   ]
  },
  {
   "cell_type": "markdown",
   "id": "11fb7024-3b01-4003-b4e1-ae1ef504d41a",
   "metadata": {},
   "source": [
    "Adult standards primarily features a blend of pop, jazz, and big band music from the mid-20th century"
   ]
  },
  {
   "cell_type": "code",
   "execution_count": null,
   "id": "a27ab859-5ffc-401d-8051-e63029b20b6e",
   "metadata": {
    "tags": []
   },
   "outputs": [],
   "source": [
    "visualization.plot_genre_performance(hot_100_expanded_genres, \"adult standards\")"
   ]
  },
  {
   "cell_type": "markdown",
   "id": "c7e15ede-2ea4-45cd-ab21-45dbc44cadb1",
   "metadata": {},
   "source": [
    "It reached its peak pressence in the charts during the mid 60s and started to gradually decrease after that. Its average position is a little lower compared to the previous two genres."
   ]
  },
  {
   "cell_type": "code",
   "execution_count": null,
   "id": "61311887-9288-4069-9e39-13920871e2be",
   "metadata": {
    "tags": []
   },
   "outputs": [],
   "source": [
    "visualization.period_avg_position(hot_100_expanded_genres, 'adult standards', 1957, 1975)"
   ]
  },
  {
   "cell_type": "markdown",
   "id": "021ead15-fd57-482c-b3b4-11fb5525e034",
   "metadata": {},
   "source": [
    "The total amount of disco songs is surprisingly low, considering how popular it used to be. Its pressence on the chart started to gradually rise from the 60s, peaked during the mid 70s and started declining after that."
   ]
  },
  {
   "cell_type": "code",
   "execution_count": null,
   "id": "d73245a4-ef8e-4fed-8227-1714625c0bea",
   "metadata": {
    "tags": []
   },
   "outputs": [],
   "source": [
    "visualization.plot_genre_performance(hot_100_expanded_genres, \"disco\")"
   ]
  },
  {
   "cell_type": "code",
   "execution_count": null,
   "id": "fbd849a2-2470-4f11-8121-7b2dffd9f3a0",
   "metadata": {
    "tags": []
   },
   "outputs": [],
   "source": [
    "visualization.period_avg_position(hot_100_expanded_genres, 'disco', 1970, 1985)"
   ]
  },
  {
   "cell_type": "markdown",
   "id": "ace16416-f66e-46db-b05a-e2b399d0a9f6",
   "metadata": {},
   "source": [
    "Finally, lets see the performance of the most popular genres nowadays - pop and rap"
   ]
  },
  {
   "cell_type": "code",
   "execution_count": null,
   "id": "4ee37d12-42b1-42dd-a0ac-358758e6f1a4",
   "metadata": {
    "tags": []
   },
   "outputs": [],
   "source": [
    "visualization.plot_genre_performance(hot_100_expanded_genres, \"pop\")"
   ]
  },
  {
   "cell_type": "markdown",
   "id": "f80450d5-5fc4-4c16-a3d6-747891747dcb",
   "metadata": {},
   "source": [
    "We can see pop starting to slowly rise during the 90s to early 2000s, then explode in popularity in the late 2000s."
   ]
  },
  {
   "cell_type": "code",
   "execution_count": null,
   "id": "30941799-4953-4a15-b950-418b15659e2f",
   "metadata": {},
   "outputs": [],
   "source": [
    "visualization.plot_genre_performance(hot_100_expanded_genres, \"rap\")"
   ]
  },
  {
   "cell_type": "markdown",
   "id": "d4a6ae23-bba7-46b2-bdf0-792976c63fc5",
   "metadata": {},
   "source": [
    "The rap genre started becoming popular in the early 90s, but exploded its chart pressence in the most recent years."
   ]
  },
  {
   "cell_type": "markdown",
   "id": "60f4abb8-469f-4d67-9d06-027195f435f0",
   "metadata": {},
   "source": [
    "### Spotify features highest values"
   ]
  },
  {
   "cell_type": "markdown",
   "id": "1c421ea6-a480-42f9-909b-c0d91c29f4d6",
   "metadata": {},
   "source": [
    "Next lets see which genres have the highest average values for the different spotify features. I will only take into account genres that have more than 100 songs for them in the dataset, so that only ones with significant statistical meaning will be used."
   ]
  },
  {
   "cell_type": "code",
   "execution_count": null,
   "id": "8f9050ac-ae54-4c4d-acec-34047949eb8f",
   "metadata": {
    "tags": []
   },
   "outputs": [],
   "source": [
    "#Count occurrences of each genre\n",
    "genre_counts = hot_100_expanded_genres.spotify_genre.value_counts()\n",
    "\n",
    "#Filter genres with more than 100 values\n",
    "valid_genres = genre_counts[genre_counts > 100].index\n",
    "filtered_genres_df = hot_100_expanded_genres[hot_100_expanded_genres.spotify_genre.isin(valid_genres)]"
   ]
  },
  {
   "cell_type": "code",
   "execution_count": null,
   "id": "5434fbf9-cbbf-4322-85f8-eb8d37bd5986",
   "metadata": {
    "tags": []
   },
   "outputs": [],
   "source": [
    "filtered_genres_df.columns"
   ]
  },
  {
   "cell_type": "code",
   "execution_count": null,
   "id": "e4cfba56-72ef-4e21-8754-79e752b045fe",
   "metadata": {
    "tags": []
   },
   "outputs": [],
   "source": [
    "cols_to_plot = [\n",
    "    'explicit_track', 'danceability', \n",
    "    'energy', 'key', 'loudness', 'speechiness', \n",
    "    'acousticness', 'instrumentalness', \n",
    "    'liveness', 'valence', \n",
    "    'tempo','spotify_popularity'\n",
    "]\n",
    "colors = ['red', 'green', 'blue', 'orange', 'purple', 'brown', 'pink', 'gray', 'cyan', 'magenta', 'yellow', 'olive']"
   ]
  },
  {
   "cell_type": "code",
   "execution_count": null,
   "id": "94abfbd3-0395-4a62-9a52-482de391d3d6",
   "metadata": {
    "tags": []
   },
   "outputs": [],
   "source": [
    "fig, axs = plt.subplots(4, 3, figsize=(12, 15))\n",
    "for row in range(0, len(cols_to_plot), 3):\n",
    "    for col in range(3):\n",
    "        visualization.spotify_feature_subplot(axs[row // 3][col], filtered_genres_df, cols_to_plot[row + col], clr = colors[row + col])\n",
    "plt.tight_layout()\n",
    "plt.show()"
   ]
  },
  {
   "cell_type": "markdown",
   "id": "c24a10a3-3200-4c48-8459-6f5ce955a622",
   "metadata": {},
   "source": [
    "#### Observations\n",
    "\n",
    "* The `explicit_track` feature is a categorical value - either 1 or 0. This means that the displayed top 5 genres are the ones that have the highest percentage of explicit songs. These are, unsurprisingly, mostly rap subgenres, having a total of over 80% explicit songs each. \n",
    "* Hip hop, funk and rap subgenres, have the highest danceability (crunk is a subgenre of southern hip hop).\n",
    "* Subgenres of rock, metal and punk have the highest average energy per track.\n",
    "* Pop and metal are the loudest genres.\n",
    "* Hip hop/rap are the genres with the highest speechiness - they usually say a lot of words, sometimes not following a beat like pop songs do.\n",
    "* Genres that are more 'chill' have the highest acousticness. Deep adult-standards is a jazzy, balad heavy music, swing is a subgenre of jazz, nashville sound is a subgenre of country music.\n",
    "* Soul jazz is the clear winner in terms of instrumentallness.\n",
    "* Punk, pop, rock and rap have the highest tempo. \n",
    "* Rap subgenres have the highest spotify popularity."
   ]
  }
 ],
 "metadata": {
  "kernelspec": {
   "display_name": "Python 3 (ipykernel)",
   "language": "python",
   "name": "python3"
  },
  "language_info": {
   "codemirror_mode": {
    "name": "ipython",
    "version": 3
   },
   "file_extension": ".py",
   "mimetype": "text/x-python",
   "name": "python",
   "nbconvert_exporter": "python",
   "pygments_lexer": "ipython3",
   "version": "3.11.7"
  }
 },
 "nbformat": 4,
 "nbformat_minor": 5
}
