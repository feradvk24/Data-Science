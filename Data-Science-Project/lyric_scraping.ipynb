{
 "cells": [
  {
   "cell_type": "code",
   "execution_count": 1,
   "id": "23f11120-9356-47ca-b65a-102b3b9b4541",
   "metadata": {
    "tags": []
   },
   "outputs": [],
   "source": [
    "import pandas as pd\n",
    "import data_collection"
   ]
  },
  {
   "cell_type": "markdown",
   "id": "2e687ba8-cbb0-44da-9777-3b33859163b8",
   "metadata": {},
   "source": [
    "Here I will collect lyrics for the songs that are missing them by doing web scraping on the **AZLyrics** website."
   ]
  },
  {
   "cell_type": "code",
   "execution_count": 3,
   "id": "a6d1d8ac-f5a9-406b-81cf-70971711e825",
   "metadata": {
    "tags": []
   },
   "outputs": [],
   "source": [
    "data = pd.read_csv(\"data/hot_100.csv\")"
   ]
  },
  {
   "cell_type": "code",
   "execution_count": 4,
   "id": "7cb7f982-818f-457d-b72e-aade54ff60f0",
   "metadata": {
    "tags": []
   },
   "outputs": [],
   "source": [
    "missing_lyrics = data[data.lyrics.isna()]"
   ]
  },
  {
   "cell_type": "code",
   "execution_count": 5,
   "id": "946ab04d-43aa-467a-99ab-b1947417e40b",
   "metadata": {
    "tags": []
   },
   "outputs": [],
   "source": [
    "filled_lyrics = []\n",
    "\n",
    "for i in range(1):\n",
    "    small_sample = missing_lyrics.head(10)\n",
    "    for index, row in small_sample.iterrows():\n",
    "        artist = row['main_artist']\n",
    "        song = row['song']\n",
    "        scraper = data_collection.AZLyrics(artist = artist, song = song)\n",
    "        response = scraper.scrape()\n",
    "        filled_lyrics.append((song, artist, response))\n",
    "    small_sample.reset_index(drop = True).drop(range(10))"
   ]
  },
  {
   "cell_type": "code",
   "execution_count": 6,
   "id": "3bb65fa7-738b-41eb-b4e6-192f7cd30d32",
   "metadata": {
    "tags": []
   },
   "outputs": [
    {
     "data": {
      "text/plain": [
       "[('A Bar Song (Tipsy)',\n",
       "  'Shaboozey',\n",
       "  '\\n\\r\\nMy baby want a Birkin, she\\'s been tellin\\' me all night long\\nGasoline and groceries, the list goes on and on\\nThis 9 to 5 ain\\'t workin\\', why the hell do I work so hard?\\nI can\\'t worry \\'bout my problems, I can\\'t take \\'em when I\\'m gone (Uh)\\n\\nOne, here comes the two, to the three, to the four\\nTell \\'em \"Bring another round\", we need plenty more\\nTwo steppin\\' on the table, she don\\'t need a dance floor\\nOh my, good Lord\\n\\nSomeone pour me up a double shot of whiskey\\nThey know me and Jack Daniel\\'s got a history\\nThere\\'s a party downtown, near 5th Street\\nEverybody at the bar gettin\\' tipsy\\nEverybody at the bar gettin\\' tipsy\\nEverybody at the bar gettin\\' tipsy\\n\\nI\\'ve been Boozey since I left, I ain\\'t changin\\' for a check\\nTell my ma\\', I ain\\'t forget (Oh, Lord, uh)\\nWoke up drunk at 10 a.m., we gon\\' do this shit again\\nTell your girl to bring a friend (Oh, Lord)\\n\\nOne, here comes the two, to the three, to the four\\nTell \\'em \"Bring another round\", we need plenty more\\nTwo steppin\\' on the table, she don\\'t need a dance floor\\nOh my, good Lord\\n\\nSomeone pour me up a double shot of whiskey (A double shot of whiskey)\\nThey know me and Jack Daniel\\'s got a history (We go way back)\\nThere\\'s a party downtown, near 5th Street\\nEverybody at the bar gettin\\' tipsy (Woo)\\nEverybody at the bar gettin\\' tipsy (At the bar gettin\\' tipsy)\\nEverybody at the bar gettin\\' tipsy\\n\\nOne, here comes the two, to the three, to the four\\nWhen it\\'s last call and they kick us out the door\\nIt\\'s gettin\\' kind of late but the ladies want some more\\nOh my, good Lord (Tell \\'em drinks on me)\\n\\nSomeone pour me up a double shot of whiskey (A double shot of whiskey)\\nThey know me and Jack Daniel\\'s got a history (Way back)\\nThere\\'s a party downtown, near 5th Street (Come on)\\nEverybody at the bar gettin\\' tipsy (Woo-ooh)\\nCan someone pour me up a double shot of whiskey (A double shot of whiskey)\\nThey know me and Jack Daniel\\'s got a history (It\\'s Jack D)\\nAt the bottom of a bottle gon\\' miss me (Baby, don\\'t miss me)\\nEverybody at the bar gettin\\' tipsy (At the bar gettin\\' tipsy)\\nEverybody at the bar gettin\\' tipsy\\nEverybody at the bar gettin\\' tipsy\\n\\nThat\\'s fuckin\\' messed up, bro, they kicked me out the bar\\n'),\n",
       " ('I Had Some Help',\n",
       "  'Post Malone',\n",
       "  \"\\n\\r\\nYou got a lot of nerve, don't you, baby?\\nI only hit the curb 'cause you made me\\nYou're tellin' all your friends that I'm crazy\\nLike I'm the only one\\n\\nWhy'd you throw them stones if you\\nHad a wild hair of your own or two?\\nLivin' in your big glass house with a view\\nI thought you knew\\n\\nI had some help\\nIt ain't like I can make this kind of mess all by myself\\nDon't act like you ain't help me pull that bottle off the shelf\\nBeen deep in every weekend if you couldn't tell\\nThey say teamwork makes the dream work\\nHell, I had some help (Help)\\n(Help)\\n\\nYou thought I'd take the blame for us a-crumblin'\\nGo 'round like you ain't guilty of somethin'\\nAlready lost the game that you been runnin'\\nGuess it's catchin' up to you, huh\\nYou think that you're so innocent\\nAfter all the shit you did\\nI ain't an angel you ain't heaven-sent\\nCan't wash our hands off this\\n\\nI had some help\\nIt ain't like I can make this kind of mess all by myself\\nDon't act like you ain't help me pull that bottle off the shelf\\nBeen deep in every weekend if you couldn't tell\\nThey say teamwork makes the dream work\\nHell, I had some help (Help)\\n(Help)\\n(Help)\\n(Help)\\n\\nIt takes two to break a heart in two, ooh\\nBaby, you blame me and baby, I blame you\\nOh, if that ain't the truth (Oh)\\n\\nI had some help\\nIt ain't like I can make this kind of mess all by myself\\nDon't act like you ain't help me pull that bottle off the shelf\\nBeen deep in every weekend if you couldn't tell\\nThey say teamwork makes the dream work\\nHell, I had some help (Help)\\n(Help)\\n(Help)\\n(Help)\\n\"),\n",
       " ('Not Like Us',\n",
       "  'Kendrick Lamar',\n",
       "  '\\n\\r\\nPsst, I see dead people\\n(Mustard on the beat, ho)\\n\\nAyy, Mustard on the beat, ho\\nDeebo any rap nigga, he a free throw\\nMan down, call an amberlamps, tell him, \"Breathe, bro\"\\nNail a nigga to the cross, he walk around like Teezo\\nWhat\\'s up with these jabroni-ass niggas tryna see Compton?\\nThe industry can hate me, fuck \\'em all and they mama\\nHow many opps you really got? I mean, it\\'s too many options\\nI\\'m finna pass on this body, I\\'m John Stockton\\nBeat your ass and hide the Bible if God watchin\\'\\nSometimes you gotta pop out and show niggas\\nCertified boogeyman, I\\'m the one that up the score with \\'em\\nWalk him down, whole time, I know he got some ho in him\\nPole on him, extort shit, bully Death Row on him\\nSay, Drake, I hear you like \\'em young\\nYou better not ever go to cell block one\\nTo any bitch that talk to him and they in love\\nJust make sure you hide your lil\\' sister from him\\nThey tell me Chubbs the only one that get your hand-me-downs\\nAnd Party at the party playin\\' with his nose now\\nAnd Baka got a weird case, why is he around?\\nCertified Lover Boy? Certified pedophiles\\nWop, wop, wop, wop, wop, Dot, fuck \\'em up\\nWop, wop, wop, wop, wop, I\\'ma do my stuff\\nWhy you trollin\\' like a bitch? Ain\\'t you tired?\\nTryna strike a chord and it\\'s probably A minor\\n\\nThey not like us, they not like us, they not like us\\nThey not like us, they not like us, they not like us\\n\\nYou think the Bay gon\\' let you disrespect Pac, nigga?\\nI think that Oakland show gon\\' be your last stop, nigga\\nDid Cole foul, I don\\'t know why you still pretendin\\'\\nWhat is the owl? Bird niggas and bird bitches, go\\nThe audience not dumb\\nShape the stories how you want, hey, Drake, they\\'re not slow\\nRabbit hole is still deep, I can go further, I promise\\nAin\\'t that somethin\\'? B-Rad stands for bitch and you Malibu most wanted\\nAin\\'t no law, boy, you ball boy, fetch Gatorade or somethin\\'\\nSince 2009, I had this bitch jumpin\\'\\nYou niggas\\'ll get a wedgie, be flipped over your boxers\\nWhat OVO for? The \"Other Vaginal Option\"? Pussy\\nNigga better straighten they posture, got famous all up in Compton\\nMight write this for the doctorate, tell the pop star quit hidin\\'\\nFuck a caption, want action, no accident\\nAnd I\\'m hands-on, he fuck around, get polished\\nFucked on Wayne girl while he was in jail, that\\'s connivin\\'\\nThen get his face tatted like a bitch apologizin\\'\\nI\\'m glad DeRoz\\' came home, y\\'all didn\\'t deserve him neither\\nFrom Alondra down to Central, nigga better not speak on Serena\\nAnd your homeboy need subpoena, that predator move in flocks\\nThat name gotta be registered and placed on neighborhood watch\\nI lean on you niggas like another line of Wock\\'\\nYeah, it\\'s all eyes on me, and I\\'ma send it up to Pac, ayy\\nPut the wrong label on me, I\\'ma get \\'em dropped, ayy\\nSweet Chin Music and I won\\'t pass the aux, ayy\\nHow many stocks do I really have in stock? Ayy\\nOne, two, three, four, five, plus five, ayy\\nDevil is a lie, he a 69 God, ayy\\nFreaky-ass niggas need to stay they ass inside, ayy\\nRoll they ass up like a fresh pack of \\'za, ayy\\nCity is back up, it\\'s a must, we outside, ayy\\n\\nThey not like us, they not like us, they not like us\\nThey not like us, they not like us, they not like us\\n\\nOnce upon a time, all of us was in chains\\nHomie still doubled down callin\\' us some slaves\\nAtlanta was the Mecca, buildin\\' railroads and trains\\nBear with me for a second, let me put y\\'all on game\\nThe settlers was usin\\' townfolk to make \\'em richer\\nFast-forward, 2024, you got the same agenda\\nYou run to Atlanta when you need a check balance\\nLet me break it down for you, this the real nigga challenge\\nYou called Future when you didn\\'t see the club (Ayy, what?)\\nLil Baby helped you get your lingo up (What?)\\n21 gave you false street cred\\nThug made you feel like you a slime in your head (Ayy, what?)\\nQuavo said you can be from Northside (What?)\\n2 Chainz say you good, but he lied\\nYou run to Atlanta when you need a few dollars\\nNo, you not a colleague, you a fuckin\\' colonizer\\nThe family matter and the truth for the matter\\nIt was God\\'s plan to show y\\'all the liar\\n\\nMm\\nMm-mm\\nHe a fan, he a fan, he a fan (Mm)\\nHe a fan, he a fan, he a\\nFreaky-ass nigga, he a 69 God\\nFreaky-ass nigga, he a 69 God\\nHey, hey, hey, hey, run for your life\\nHey, hey, hey, hey, run for your life\\nFreaky-ass nigga, he a 69 God\\nFreaky-ass nigga, he a 69 God\\nHey, hey, hey, hey, run for your life\\nHey, hey, hey, hey, run for your life\\nLet me hear you say, \"OV-ho\" (OV-ho)\\nSay, \"OV-ho\" (OV-ho)\\nThen step this way, step that way\\nThen step this way, step that way\\n\\nAre you my friend?\\nAre we locked in?\\nThen step this way, step that way\\nThen step this way, step that way\\n'),\n",
       " ('Espresso',\n",
       "  'Sabrina Carpenter',\n",
       "  \"\\n\\r\\nNow he's thinkin' 'bout me every night, oh\\nIs it that sweet? I guess so\\nSay you can't sleep, baby, I know\\nThat's that me espresso\\nMove it up, down, left, right, oh\\nSwitch it up like Nintendo\\nSay you can't sleep, baby, I know\\nThat's that me espresso\\n\\nI can't relate\\nTo desperation\\nMy 'give a fucks' are on vacation\\nAnd I got this one boy\\nAnd he won't stop calling\\nWhen they act this way\\nI know I got em'\\n\\nToo bad your ex don't do it for ya\\nWalked in and dream came trued it for ya\\nSoft skin and I perfumed it for ya\\nI know I Mountain Dew it for ya\\nThat morning coffee brewed it for ya\\nOne touch and I brand newed it for ya\\n\\nNow he's thinkin' 'bout me every night, oh\\nIs it that sweet? I guess so\\nSay you can't sleep, baby, I know\\nThat's that me espresso\\nMove it up, down, left, right, oh\\nSwitch it up like Nintendo\\nSay you can't sleep, baby, I know\\nThat's that me espresso\\n\\nHoly shit\\nIs it that sweet? I guess so\\n\\nI'm working late 'cause I'm a singer\\nOh, he looks so cute wrapped around my finger\\nMy twisted humor make him laugh so often\\nMy honey bee, come and get this pollen\\n\\nToo bad your ex don't do it for ya\\nWalked in and dream came trued it for ya\\nSoft skin and I perfumed it for ya\\nI know I Mountain Dew it for ya\\nThat morning coffee brewed it for ya\\nOne touch and I brand newed it for ya\\n\\nNow he's thinkin' 'bout me every night, oh\\nIs it that sweet? I guess so\\nSay you can't sleep, baby, I know\\nThat's that me espresso\\nMove it up, down, left, right, oh\\nSwitch it up like Nintendo\\nSay you can't sleep, baby, I know\\nThat's that me espresso\\n\\nThinkin' 'bout me every night, oh\\nIs it that sweet? I guess so\\nSay you can't sleep, baby, I know\\nThat's that me espresso\\nMove it up, down, left, right, oh\\nSwitch it up like Nintendo\\nSay you can't sleep, baby, I know\\nThat's that me espresso\\n\\nIs it that sweet? I guess so\\nMmm, that's that me espresso\\n\"),\n",
       " ('Million Dollar Baby',\n",
       "  'Tommy Richman',\n",
       "  '\\n\\r\\nDo it, baby, do what I should think\\nDo it-do it, baby, do what I could think\\nDo it-do it, baby, do what I should think\\nDo it-do it, baby, do what I could think\\nDo it-do it-do it, baby, do what I should think\\nDo it, baby, do what I could think\\nDo it-do it-do it, baby, do what I should think\\nDo it-do it, baby, do what I could think\\n\\nI ain\\'t never rep a set, baby (Tsk, tsk)\\nI ain\\'t do no wrong\\nI could clean up good for you\\nOh, I know right from wrong\\n\\'Cause I wanna make it so badly (Mm, mm, mm)\\nI\\'m a million dollar baby (Mm, mm, mm)\\nDon\\'t at me, yeah, hell nah (Yeah, yeah, yeah)\\n\\nYou rep my city for so damn long (Ah, ah)\\nBut you still don\\'t notice me, my sound next (Mm, mm, mm)\\nVA next, I\\'m at they neck, I\\'m runnin\\' up a check (Mm, mm, mm, yeah, yeah, yeah)\\nI see a bad lil\\' mama, she a diva (Mm)\\nNo matter what happens, he cannot come between us again (Mm, mm, mm)\\nI know we\\'re better than friends (Mm, mm, mm)\\nBetter than friends\\nI took her to Queen\\'s Gambit (Yeah, yeah)\\nShowed around my friends (Right now)\\nTried to pick some energy up, it don\\'t matter\\nI know you never moved on if you tried (Oh, no)\\nI don\\'t believe it, baby, I know you lied (Oh, no)\\nAll night long, what you mean, \"I changed\"?\\nHaven\\'t stayed the same\\nHad me losin\\' my mind (Ooh, ooh, ooh)\\nI said, \"The city is mine\" (Ooh, ooh, ooh)\\n\\nI ain\\'t never rep a set, baby (Mm, mm-mm)\\nI ain\\'t do no wrong\\nI could clean up good for you (Mm, mm-mm)\\nOh, I know right from wrong\\n\\'Cause I wanna make it so badly (Mm, mm, mm)\\nI\\'m a million dollar baby (Mm, mm, mm)\\nDon\\'t at me\\nI ain\\'t never rep a set, baby (Mm, mm-mm)\\nI ain\\'t do no wrong\\nI could clean up good for you (Mm, mm-mm)\\nOh, I know right from wrong\\n\\'Cause I wanna make it, so badly (Mm, mm, mm)\\nI\\'m a million dollar baby (Mm, mm, mm)\\nDon\\'t at me, yeah, hell nah\\n\\nHell-hell nah\\nYeah, yeah, hell-hell nah\\nDo it, baby, do what I should think\\nHell-hell nah\\nDo it-do it, baby, do what I could think\\n\\nDo it, baby, do what I should think\\nHell-hell nah\\nDo it-do it, baby, do what I could think\\nYeah, hell-hell nah\\nHell-hell nah\\n'),\n",
       " ('Good Luck, Babe!',\n",
       "  'Chappell Roan',\n",
       "  '\\n\\r\\nIt\\'s fine, it\\'s cool\\nYou can say that we are nothing, but you know the truth\\nAnd guess I\\'m the fool\\nWith her arms out like an angel through the car sunroof\\n\\nI don\\'t wanna call it off\\nBut you don\\'t wanna call it love\\nYou only wanna be the one that I call baby\\n\\nYou can kiss a hundred boys in bars\\nShoot another shot, try to stop the feeling\\nYou can say it\\'s just the way you are\\nMake a new excuse, another stupid reason\\nGood luck, babe! (Well good luck) Well good luck, babe! (Well good luck)\\nYou\\'d have to stop the world just to stop the feeling\\nGood luck, babe! (Well good luck) Well good luck, babe! (Well good luck)\\nYou\\'d have to stop the world just to stop the feeling\\n\\nI\\'m cliche, who cares?\\nIt\\'s a sexually explicit kind of love affair\\nAnd I cry, it\\'s not fair\\nI just need a little lovin\\', I just need a little air\\n\\nThink I\\'m gonna call it off\\nEven if you call it love\\nI just wanna love someone who calls me baby\\n\\nYou can kiss a hundred boys in bars\\nShoot another shot, try to stop the feeling\\nYou can say it\\'s just the way you are\\nMake a new excuse, another stupid reason\\nGood luck, babe! (Well good luck) Well good luck, babe! (Well good luck)\\nYou\\'d have to stop the world just to stop the feeling\\nGood luck, babe! (Well good luck) Well good luck, babe! (Well good luck)\\nYou\\'d have to stop the world just to stop the feeling\\n\\nAnd when you wake up next to him in the middle of the night\\nWith your head in your hands, you\\'re nothing more than his wife\\nAnd when you think about me, all of those years ago\\nYou\\'re standing face to face with \"I told you so\"\\nYou know I hate to say it, I told you so\\nYou know I hate to say it but, I told you so\\n\\nYou can kiss a hundred boys in bars\\nShoot another shot, try to stop the feeling\\nYou can say it\\'s just the way you are\\nMake a new excuse, another stupid reason\\nGood luck, babe! (Well good luck) Well good luck, babe! (Well good luck)\\nYou\\'d have to stop the world just to stop the feeling\\nGood luck, babe! (Well good luck) Well good luck, babe! (Well good luck)\\nYou\\'d have to stop the world just to stop the feeling\\nYou\\'d have to stop the world just to stop the feeling\\nYou\\'d have to stop the world just to stop the feeling\\nYou\\'d have to stop the world just to stop the feeling\\n'),\n",
       " ('Birds Of A Feather',\n",
       "  'Billie Eilish',\n",
       "  \"\\n\\r\\nI want you to stay\\n'Til I'm in the grave\\n'Til I rot away, dead and buried\\n'Til I'm in the casket you carry\\n\\nIf you go, I'm goin' too\\n'Cause it was always you\\n(Alright)\\nAnd if I'm turnin' blue, please don't save me\\nNothin' left to lose without my baby\\n\\nBirds of a feather\\nWe should stick together, I know\\nI said I'd never\\nThink I wasn't better alone\\nCan't change the weather\\nMight not be forever\\nBut if it's forever, it's even better\\n\\nAnd I don't know what I'm cryin' for\\nI don't think I could love you more\\nIt might not be long, but, baby, I\\nI'll love you 'til the day that I die\\n'Til the day that I die\\n'Til the light leaves my eyes\\n'Til the day that I die\\n\\nI want you to see\\nHow you look to me\\nYou wouldn't believe if I told ya\\nYou would keep the compliments I throw ya\\n\\nBut you're so full of shit\\nTell me it's a bit (oh, oh)\\nSay you don't see it, your mind's polluted\\nSay you wanna quit, don't be stupid\\n\\nAnd I don't know what I'm cryin' for\\nI don't think I could love you more\\nMight not be long, but, baby, I\\nDon't wanna say goodbye\\n\\nBirds of a feather\\nWe should stick together, I know ('til the day that I die)\\nI said I'd never\\nThink I wasn't better alone ('til the light leaves my eyes)\\nCan't change the weather\\nMight not be forever ('til the day that I die)\\nBut if it's forever it's even better\\n\\nI knew you in another life\\nYou had that same look in your eyes\\nI love you, don't act so surprised\\n\"),\n",
       " ('Please Please Please',\n",
       "  'Sabrina Carpenter',\n",
       "  \"\\n\\r\\nI know I have good judgment, I know I have good taste\\nIt's funny and it's ironic that only I feel that way\\nI promise 'em that you're different and everyone makes mistakes\\nBut just don't\\nI heard that you're an actor, so act like a stand-up guy\\nWhatever devil's inside you, don't let him out tonight\\nI tell them it's just your culture and everyone rolls their eyes\\nYeah, I know\\nAll I'm asking, baby\\n\\nPlease, please, please\\nDon't prove I'm right\\nAnd please, please, please\\nDon't bring me to tears when I just did my makeup so nice\\nHeartbreak is one thing, my ego's another\\nI beg you, don't embarrass me, motherfucker, oh\\nPlease, please, please (Ah)\\n\\nWell, I have a fun idea, babe (Uh-huh), maybe just stay inside\\nI know you're cravin' some fresh air, but the ceiling fan is so nice (It's so nice, right?)\\nAnd we could live so happily if no one knows that you're with me\\nI'm just kidding, but really (Kinda), really, really\\n\\nPlease, please, please (Please don't prove I'm right)\\nDon't prove I'm right\\nAnd please, please, please\\nDon't bring me to tears when I just did my makeup so nice\\nHeartbreak is one thing (Heartbreak is one thing), my ego's another (Ego's another)\\nI beg you, don't embarrass me, motherfucker, oh\\nPlease, please, please (Ah)\\n\\nIf you wanna go and be stupid\\nDon't do it in front of me\\nIf you don't wanna cry to my music\\nDon't make me hate you prolifically\\nPlease, please, please (Please)\\nPlease, please, please (Please)\\nPlease (Please), please (Please), please\\n(Ah)\\n\"),\n",
       " ('Lose Control',\n",
       "  'Teddy Swims',\n",
       "  \"\\n\\r\\nSomething's got a hold of me lately\\nNo, I don't know myself anymore\\nFeels like the walls are all closing in\\nAnd the devil's knocking at my door, whoa\\n\\nOutta my mind, how many times\\nDid I tell you I'm no good at being alone?\\nYeah it's taking a toll on me, trying my best to keep\\nFrom tearing the skin off my bones\\n\\nDon't you know\\nI lose control\\nWhen you're not next to me?\\nI'm falling apart right in front of you\\nCan't you see\\nI lose control\\nWhen you're not next to me?\\nYeah, you're breaking my heart, baby\\nYou make a mess of me\\n\\nProblematic, problem is\\nI want your body like a fiend, like a bad habit\\nBad habit's hard to break when I'm with you\\nYeah I know, I could do it on my own, but I want\\nThat real full moon black magic and it takes two\\nProblematic, problem is\\nWhen I'm with you I'm an addict\\nAnd I need some relief, my skin in your teeth\\nCan't see the forest through the trees\\nGot me down on my knees, darling please, oh\\n\\nI lose control\\nWhen you're not next to me\\nI'm falling apart right in front of you\\nCan't you see\\nI lose control\\nWhen you're not next to me?\\nYeah, you're breaking my heart, baby\\nYou make a mess of me, yeah\\n\\nI lose control\\nWhen you're not here with me\\nI'm falling apart right in front of you\\nCan't you see\\nI lose control\\nWhen you're not here with me?\\nYeah, you're breaking my heart, baby\\nYou make a mess of me\\n\"),\n",
       " ('Too Sweet', 'Hozier', None)]"
      ]
     },
     "execution_count": 6,
     "metadata": {},
     "output_type": "execute_result"
    }
   ],
   "source": [
    "filled_lyrics"
   ]
  }
 ],
 "metadata": {
  "kernelspec": {
   "display_name": "Python 3 (ipykernel)",
   "language": "python",
   "name": "python3"
  },
  "language_info": {
   "codemirror_mode": {
    "name": "ipython",
    "version": 3
   },
   "file_extension": ".py",
   "mimetype": "text/x-python",
   "name": "python",
   "nbconvert_exporter": "python",
   "pygments_lexer": "ipython3",
   "version": "3.11.7"
  }
 },
 "nbformat": 4,
 "nbformat_minor": 5
}
