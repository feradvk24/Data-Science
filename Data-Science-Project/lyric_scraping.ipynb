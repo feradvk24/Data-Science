{
 "cells": [
  {
   "cell_type": "code",
   "execution_count": 18,
   "id": "23f11120-9356-47ca-b65a-102b3b9b4541",
   "metadata": {
    "tags": []
   },
   "outputs": [],
   "source": [
    "import pandas as pd\n",
    "import data_collection"
   ]
  },
  {
   "cell_type": "markdown",
   "id": "2e687ba8-cbb0-44da-9777-3b33859163b8",
   "metadata": {},
   "source": [
    "Here I will collect lyrics for the songs that are missing them by doing web scraping on the **AZLyrics** website."
   ]
  },
  {
   "cell_type": "code",
   "execution_count": 20,
   "id": "a6d1d8ac-f5a9-406b-81cf-70971711e825",
   "metadata": {
    "tags": []
   },
   "outputs": [],
   "source": [
    "data = pd.read_csv(\"hot_100.csv\")"
   ]
  },
  {
   "cell_type": "code",
   "execution_count": 21,
   "id": "7cb7f982-818f-457d-b72e-aade54ff60f0",
   "metadata": {
    "tags": []
   },
   "outputs": [],
   "source": [
    "missing_lyrics = data[data.lyrics.isna()]"
   ]
  },
  {
   "cell_type": "code",
   "execution_count": 34,
   "id": "946ab04d-43aa-467a-99ab-b1947417e40b",
   "metadata": {
    "tags": []
   },
   "outputs": [],
   "source": [
    "filled_lyrics = []\n",
    "\n",
    "for i in range(1):\n",
    "    small_sample = missing_lyrics.head(10)\n",
    "    for index, row in small_sample.iterrows():\n",
    "        artist = row['main_artist']\n",
    "        song = row['song']\n",
    "        scraper = data_collection.AZLyrics(artist = artist, song = song)\n",
    "        response = scraper.scrape()\n",
    "        filled_lyrics.append((song, artist, response))\n",
    "    small_sample.reset_index(drop = True).drop(range(10))"
   ]
  },
  {
   "cell_type": "code",
   "execution_count": 36,
   "id": "3bb65fa7-738b-41eb-b4e6-192f7cd30d32",
   "metadata": {
    "tags": []
   },
   "outputs": [
    {
     "data": {
      "text/plain": [
       "[('A Bar Song (Tipsy)', 'Shaboozey', None),\n",
       " ('I Had Some Help', 'Post Malone', None),\n",
       " ('Not Like Us', 'Kendrick Lamar', None),\n",
       " ('Espresso', 'Sabrina Carpenter', None),\n",
       " ('Million Dollar Baby', 'Tommy Richman', None),\n",
       " ('Good Luck, Babe!', 'Chappell Roan', None),\n",
       " ('Birds Of A Feather', 'Billie Eilish', None),\n",
       " ('Please Please Please', 'Sabrina Carpenter', None),\n",
       " ('Lose Control', 'Teddy Swims', None),\n",
       " ('Too Sweet', 'Hozier', None)]"
      ]
     },
     "execution_count": 36,
     "metadata": {},
     "output_type": "execute_result"
    }
   ],
   "source": [
    "filled_lyrics"
   ]
  }
 ],
 "metadata": {
  "kernelspec": {
   "display_name": "Python 3 (ipykernel)",
   "language": "python",
   "name": "python3"
  },
  "language_info": {
   "codemirror_mode": {
    "name": "ipython",
    "version": 3
   },
   "file_extension": ".py",
   "mimetype": "text/x-python",
   "name": "python",
   "nbconvert_exporter": "python",
   "pygments_lexer": "ipython3",
   "version": "3.11.7"
  }
 },
 "nbformat": 4,
 "nbformat_minor": 5
}
