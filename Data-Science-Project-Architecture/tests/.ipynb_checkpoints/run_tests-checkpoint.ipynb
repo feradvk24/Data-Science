{
 "cells": [
  {
   "cell_type": "code",
   "execution_count": 2,
   "id": "49095279-030e-4e7b-b41a-83417ba2307e",
   "metadata": {
    "tags": []
   },
   "outputs": [
    {
     "name": "stdout",
     "output_type": "stream",
     "text": [
      "\u001b[1m============================= test session starts =============================\u001b[0m\n",
      "platform win32 -- Python 3.11.7, pytest-8.3.2, pluggy-1.5.0\n",
      "rootdir: C:\\\\Users\\\\ferad\\\\OneDrive\\\\\\u0414\\u043e\\u043a\\u0443\\u043c\\u0435\\u043d\\u0442\\u0438\\\\GitHub\\\\Softuni\\\\Data-Science\\\\Data-Science-Project-Architecture\\\\tests\n",
      "plugins: anyio-3.7.1\n",
      "collected 2 items\n",
      "\n",
      "tests.py \u001b[31mF\u001b[0m\u001b[31mF\u001b[0m\u001b[31m                                                              [100%]\u001b[0m\n",
      "\n",
      "================================== FAILURES ===================================\n",
      "\u001b[31m\u001b[1m_____________________________ test_normalize_bmi ______________________________\u001b[0m\n",
      "\n",
      "    \u001b[0m\u001b[94mdef\u001b[39;49;00m \u001b[92mtest_normalize_bmi\u001b[39;49;00m():\u001b[90m\u001b[39;49;00m\n",
      ">       \u001b[94massert\u001b[39;49;00m \u001b[96mabs\u001b[39;49;00m(normalize_bmi(\u001b[94m25\u001b[39;49;00m, \u001b[94m22\u001b[39;49;00m, \u001b[94m18\u001b[39;49;00m, \u001b[94m30\u001b[39;49;00m, \u001b[94m15\u001b[39;49;00m) - \u001b[94m0.3333333333333333\u001b[39;49;00m) < \u001b[94m1e-6\u001b[39;49;00m\u001b[90m\u001b[39;49;00m\n",
      "\u001b[1m\u001b[31mE       assert 0.2916666666666667 < 1e-06\u001b[0m\n",
      "\u001b[1m\u001b[31mE        +  where 0.2916666666666667 = abs((0.625 - 0.3333333333333333))\u001b[0m\n",
      "\u001b[1m\u001b[31mE        +    where 0.625 = normalize_bmi(25, 22, 18, 30, 15)\u001b[0m\n",
      "\n",
      "\u001b[1m\u001b[31mtests.py\u001b[0m:9: AssertionError\n",
      "\u001b[31m\u001b[1m______________________________ test_add_feature _______________________________\u001b[0m\n",
      "\n",
      "    \u001b[0m\u001b[94mdef\u001b[39;49;00m \u001b[92mtest_add_feature\u001b[39;49;00m():\u001b[90m\u001b[39;49;00m\n",
      "        \u001b[90m# Sample data\u001b[39;49;00m\u001b[90m\u001b[39;49;00m\n",
      "        data = pd.DataFrame({\u001b[90m\u001b[39;49;00m\n",
      "            \u001b[33m'\u001b[39;49;00m\u001b[33mfeature1\u001b[39;49;00m\u001b[33m'\u001b[39;49;00m: [\u001b[94m1\u001b[39;49;00m, \u001b[94m2\u001b[39;49;00m, \u001b[94m3\u001b[39;49;00m, \u001b[94m4\u001b[39;49;00m],\u001b[90m\u001b[39;49;00m\n",
      "            \u001b[33m'\u001b[39;49;00m\u001b[33mfeature2\u001b[39;49;00m\u001b[33m'\u001b[39;49;00m: [\u001b[94m10\u001b[39;49;00m, \u001b[94m20\u001b[39;49;00m, \u001b[94m30\u001b[39;49;00m, \u001b[94m40\u001b[39;49;00m],\u001b[90m\u001b[39;49;00m\n",
      "            \u001b[33m'\u001b[39;49;00m\u001b[33mfeature3\u001b[39;49;00m\u001b[33m'\u001b[39;49;00m: [\u001b[94m100\u001b[39;49;00m, \u001b[94m200\u001b[39;49;00m, \u001b[94m300\u001b[39;49;00m, \u001b[94m400\u001b[39;49;00m],\u001b[90m\u001b[39;49;00m\n",
      "            \u001b[33m'\u001b[39;49;00m\u001b[33mfeature4\u001b[39;49;00m\u001b[33m'\u001b[39;49;00m: [\u001b[94m5\u001b[39;49;00m, \u001b[94m6\u001b[39;49;00m, \u001b[94m7\u001b[39;49;00m, \u001b[94m8\u001b[39;49;00m]\u001b[90m\u001b[39;49;00m\n",
      "        })\u001b[90m\u001b[39;49;00m\n",
      "    \u001b[90m\u001b[39;49;00m\n",
      "        \u001b[90m# Test with positive features, negative features, and total_count=True\u001b[39;49;00m\u001b[90m\u001b[39;49;00m\n",
      ">       result = add_feature(data, new_feature_name=\u001b[33m'\u001b[39;49;00m\u001b[33mcustom_feature\u001b[39;49;00m\u001b[33m'\u001b[39;49;00m,\u001b[90m\u001b[39;49;00m\n",
      "                             positive_features=[\u001b[33m'\u001b[39;49;00m\u001b[33mfeature1\u001b[39;49;00m\u001b[33m'\u001b[39;49;00m, \u001b[33m'\u001b[39;49;00m\u001b[33mfeature2\u001b[39;49;00m\u001b[33m'\u001b[39;49;00m],\u001b[90m\u001b[39;49;00m\n",
      "                             negative_features=[\u001b[33m'\u001b[39;49;00m\u001b[33mfeature3\u001b[39;49;00m\u001b[33m'\u001b[39;49;00m],\u001b[90m\u001b[39;49;00m\n",
      "                             preprocessed_features=[\u001b[33m'\u001b[39;49;00m\u001b[33mfeature4\u001b[39;49;00m\u001b[33m'\u001b[39;49;00m],\u001b[90m\u001b[39;49;00m\n",
      "                             total_count=\u001b[94mTrue\u001b[39;49;00m)\u001b[90m\u001b[39;49;00m\n",
      "\n",
      "\u001b[1m\u001b[31mtests.py\u001b[0m:32: \n",
      "_ _ _ _ _ _ _ _ _ _ _ _ _ _ _ _ _ _ _ _ _ _ _ _ _ _ _ _ _ _ _ _ _ _ _ _ _ _ _ _\n",
      "\n",
      "dataset =    feature1  feature2  feature3  feature4\n",
      "0         1        10       100         5\n",
      "1         2        20       200         6\n",
      "2         3        30       300         7\n",
      "3         4        40       400         8\n",
      "new_feature_name = 'custom_feature'\n",
      "positive_features = ['feature1', 'feature2'], negative_features = ['feature3']\n",
      "preprocessed_features = ['feature4'], total_count = True\n",
      "\n",
      "    \u001b[0m\u001b[94mdef\u001b[39;49;00m \u001b[92madd_feature\u001b[39;49;00m(dataset, new_feature_name = \u001b[33m'\u001b[39;49;00m\u001b[33mnew_feature\u001b[39;49;00m\u001b[33m'\u001b[39;49;00m, positive_features = [], negative_features = [], preprocessed_features = [], total_count = \u001b[94mFalse\u001b[39;49;00m):\u001b[90m\u001b[39;49;00m\n",
      "    \u001b[90m    \u001b[39;49;00m\u001b[33m\"\"\"\u001b[39;49;00m\n",
      "    \u001b[33m    Adds a new feature to a DataFrame by normalizing specified features and calculating either the total or mean value.\u001b[39;49;00m\n",
      "    \u001b[33m\u001b[39;49;00m\n",
      "    \u001b[33m    Parameters:\u001b[39;49;00m\n",
      "    \u001b[33m    - dataset (pd.DataFrame): The input DataFrame containing the features to be processed.\u001b[39;49;00m\n",
      "    \u001b[33m    - new_feature_name (str, optional): The name of the new feature to be created. Default is 'new_feature'.\u001b[39;49;00m\n",
      "    \u001b[33m    - positive_features (list of str, optional): List of feature names to be treated as positive, which will be normalized directly. Default is an empty list.\u001b[39;49;00m\n",
      "    \u001b[33m    - negative_features (list of str, optional): List of feature names to be treated as negative, which will be reversed before normalization. Default is an empty list.\u001b[39;49;00m\n",
      "    \u001b[33m    - preprocessed_features (list of str, optional): List of feature names to include in the output without normalization. Default is an empty list.\u001b[39;49;00m\n",
      "    \u001b[33m    - total_count (bool, optional): If True, the new feature will be the sum of the normalized features.\u001b[39;49;00m\n",
      "    \u001b[33m    If False, it will be the mean of the normalized features. Default is False.\u001b[39;49;00m\n",
      "    \u001b[33m\u001b[39;49;00m\n",
      "    \u001b[33m    Returns:\u001b[39;49;00m\n",
      "    \u001b[33m    - pd.Series: A Series containing the new feature with the specified name.\u001b[39;49;00m\n",
      "    \u001b[33m    \"\"\"\u001b[39;49;00m\u001b[90m\u001b[39;49;00m\n",
      "        scaler = MinMaxScaler()\u001b[90m\u001b[39;49;00m\n",
      "    \u001b[90m\u001b[39;49;00m\n",
      "        \u001b[90m#Reverse the values, so that less is good and more is bad\u001b[39;49;00m\u001b[90m\u001b[39;49;00m\n",
      "        \u001b[94mfor\u001b[39;49;00m column \u001b[95min\u001b[39;49;00m negative_features:\u001b[90m\u001b[39;49;00m\n",
      ">           data_copy[column] = data_copy[column].max() - data_copy[column]\u001b[90m\u001b[39;49;00m\n",
      "\u001b[1m\u001b[31mE           UnboundLocalError: cannot access local variable 'data_copy' where it is not associated with a value\u001b[0m\n",
      "\n",
      "\u001b[1m\u001b[31m..\\src\\data_manipulation.py\u001b[0m:25: UnboundLocalError\n",
      "\u001b[36m\u001b[1m=========================== short test summary info ===========================\u001b[0m\n",
      "\u001b[31mFAILED\u001b[0m tests.py::\u001b[1mtest_normalize_bmi\u001b[0m - assert 0.2916666666666667 < 1e-06\n",
      "\u001b[31mFAILED\u001b[0m tests.py::\u001b[1mtest_add_feature\u001b[0m - UnboundLocalError: cannot access local variable 'data_copy' where it is not...\n",
      "\u001b[31m============================== \u001b[31m\u001b[1m2 failed\u001b[0m\u001b[31m in 1.59s\u001b[0m\u001b[31m ==============================\u001b[0m\n"
     ]
    }
   ],
   "source": [
    "!pytest tests.py"
   ]
  }
 ],
 "metadata": {
  "kernelspec": {
   "display_name": "Python 3 (ipykernel)",
   "language": "python",
   "name": "python3"
  },
  "language_info": {
   "codemirror_mode": {
    "name": "ipython",
    "version": 3
   },
   "file_extension": ".py",
   "mimetype": "text/x-python",
   "name": "python",
   "nbconvert_exporter": "python",
   "pygments_lexer": "ipython3",
   "version": "3.11.7"
  }
 },
 "nbformat": 4,
 "nbformat_minor": 5
}
