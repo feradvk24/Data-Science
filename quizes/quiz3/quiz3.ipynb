{
 "cells": [
  {
   "cell_type": "code",
   "execution_count": 35,
   "id": "1398d9b6-e1be-4cce-a220-84349e99ddcf",
   "metadata": {
    "tags": []
   },
   "outputs": [],
   "source": [
    "import numpy as np\n",
    "import pandas as pd\n",
    "import cv2\n",
    "import sys\n",
    "from scipy.ndimage import binary_opening\n",
    "from skimage.morphology import square"
   ]
  },
  {
   "cell_type": "code",
   "execution_count": 9,
   "id": "71cd1041-a22f-4416-9e92-3efddadde803",
   "metadata": {
    "tags": []
   },
   "outputs": [
    {
     "data": {
      "text/plain": [
       "array([[[50, 35, 39],\n",
       "        [51, 37, 39],\n",
       "        [53, 39, 40],\n",
       "        ...,\n",
       "        [23, 14, 10],\n",
       "        [22, 16, 11],\n",
       "        [22, 16, 11]],\n",
       "\n",
       "       [[50, 35, 39],\n",
       "        [52, 38, 40],\n",
       "        [53, 39, 40],\n",
       "        ...,\n",
       "        [24, 15, 11],\n",
       "        [22, 16, 11],\n",
       "        [22, 16, 11]],\n",
       "\n",
       "       [[51, 36, 40],\n",
       "        [52, 38, 40],\n",
       "        [53, 39, 40],\n",
       "        ...,\n",
       "        [24, 15, 11],\n",
       "        [21, 15, 10],\n",
       "        [21, 15, 10]],\n",
       "\n",
       "       ...,\n",
       "\n",
       "       [[20, 31, 35],\n",
       "        [25, 36, 40],\n",
       "        [29, 40, 44],\n",
       "        ...,\n",
       "        [ 4,  7, 12],\n",
       "        [ 6,  9, 13],\n",
       "        [ 5,  8, 12]],\n",
       "\n",
       "       [[ 7, 18, 22],\n",
       "        [12, 23, 27],\n",
       "        [19, 30, 34],\n",
       "        ...,\n",
       "        [12, 15, 20],\n",
       "        [ 9, 12, 16],\n",
       "        [ 8, 11, 15]],\n",
       "\n",
       "       [[14, 21, 24],\n",
       "        [18, 25, 28],\n",
       "        [17, 24, 27],\n",
       "        ...,\n",
       "        [24, 23, 25],\n",
       "        [23, 20, 22],\n",
       "        [24, 21, 23]]], dtype=uint8)"
      ]
     },
     "execution_count": 9,
     "metadata": {},
     "output_type": "execute_result"
    }
   ],
   "source": [
    "burger = cv2.imread(\"burger.jpg\")\n",
    "burger"
   ]
  },
  {
   "cell_type": "code",
   "execution_count": 15,
   "id": "0d61788b-5ab8-426f-8243-99d9b496a92e",
   "metadata": {
    "tags": []
   },
   "outputs": [
    {
     "data": {
      "text/plain": [
       "783270"
      ]
     },
     "execution_count": 15,
     "metadata": {},
     "output_type": "execute_result"
    }
   ],
   "source": [
    "sys.getsizeof(burger)"
   ]
  },
  {
   "cell_type": "code",
   "execution_count": 27,
   "id": "82d5b434-ef80-447b-8fc3-a2b9d99fac53",
   "metadata": {
    "tags": []
   },
   "outputs": [],
   "source": [
    "red = burger[:,:,0]\n",
    "green = burger[:,:,1]\n",
    "blue = burger[:,:,2]"
   ]
  },
  {
   "cell_type": "code",
   "execution_count": 29,
   "id": "675be51f-0bda-4cfd-8adc-cefc477bd3ee",
   "metadata": {
    "tags": []
   },
   "outputs": [
    {
     "data": {
      "text/plain": [
       "36.792577439645726"
      ]
     },
     "execution_count": 29,
     "metadata": {},
     "output_type": "execute_result"
    }
   ],
   "source": [
    "red.mean()"
   ]
  },
  {
   "cell_type": "code",
   "execution_count": 31,
   "id": "ff20af7e-b740-4c1a-aad1-69ebbdb86bfb",
   "metadata": {
    "tags": []
   },
   "outputs": [
    {
     "data": {
      "text/plain": [
       "84.07097325334621"
      ]
     },
     "execution_count": 31,
     "metadata": {},
     "output_type": "execute_result"
    }
   ],
   "source": [
    "green.mean()"
   ]
  },
  {
   "cell_type": "code",
   "execution_count": 33,
   "id": "60208aa6-20d9-4e6c-a38f-57b0d646035d",
   "metadata": {
    "tags": []
   },
   "outputs": [
    {
     "data": {
      "text/plain": [
       "90.08790156373304"
      ]
     },
     "execution_count": 33,
     "metadata": {},
     "output_type": "execute_result"
    }
   ],
   "source": [
    "blue.mean()"
   ]
  },
  {
   "cell_type": "code",
   "execution_count": 47,
   "id": "115c2df6-a9d7-474e-9a49-f2dbe0823b20",
   "metadata": {
    "tags": []
   },
   "outputs": [],
   "source": [
    "_, binary_blue_channel = cv2.threshold(blue, 127, 255, cv2.THRESH_BINARY)"
   ]
  },
  {
   "cell_type": "code",
   "execution_count": 49,
   "id": "eeb61363-8363-4cd6-aa28-a1a2c42f02cb",
   "metadata": {
    "tags": []
   },
   "outputs": [],
   "source": [
    "structuring_element = square(3)"
   ]
  },
  {
   "cell_type": "code",
   "execution_count": 51,
   "id": "5e25b70b-81f8-4154-a2f1-101f8f91c5e8",
   "metadata": {
    "tags": []
   },
   "outputs": [],
   "source": [
    "opened_image = binary_opening(binary_blue_channel, structure=structuring_element)\n",
    "\n",
    "# Count the number of white pixels\n",
    "white_pixel_count = np.sum(opened_image == 255)"
   ]
  },
  {
   "cell_type": "code",
   "execution_count": 53,
   "id": "f245194a-f30f-4d89-82ef-50369f725821",
   "metadata": {
    "tags": []
   },
   "outputs": [
    {
     "data": {
      "text/plain": [
       "0"
      ]
     },
     "execution_count": 53,
     "metadata": {},
     "output_type": "execute_result"
    }
   ],
   "source": [
    "white_pixel_count"
   ]
  }
 ],
 "metadata": {
  "kernelspec": {
   "display_name": "Python 3 (ipykernel)",
   "language": "python",
   "name": "python3"
  },
  "language_info": {
   "codemirror_mode": {
    "name": "ipython",
    "version": 3
   },
   "file_extension": ".py",
   "mimetype": "text/x-python",
   "name": "python",
   "nbconvert_exporter": "python",
   "pygments_lexer": "ipython3",
   "version": "3.11.7"
  }
 },
 "nbformat": 4,
 "nbformat_minor": 5
}
