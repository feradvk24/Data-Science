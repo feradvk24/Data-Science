{
 "cells": [
  {
   "cell_type": "code",
   "execution_count": 1,
   "id": "2d5e865f-2952-49ee-8e77-47548eff930d",
   "metadata": {
    "tags": []
   },
   "outputs": [],
   "source": [
    "import pandas as pd\n",
    "import requests\n",
    "from collections import Counter\n",
    "from nltk.tokenize import word_tokenize\n",
    "import string \n",
    "from nltk.corpus import stopwords"
   ]
  },
  {
   "cell_type": "code",
   "execution_count": 2,
   "id": "13a647bc-06d1-4220-b124-5ca5d385a9b6",
   "metadata": {
    "tags": []
   },
   "outputs": [],
   "source": [
    "response = requests.get(\"https://www.gutenberg.org/files/1342/1342-0.txt\")"
   ]
  },
  {
   "cell_type": "code",
   "execution_count": 3,
   "id": "28bbb747-4449-491a-aed1-65b84a6be8db",
   "metadata": {
    "tags": []
   },
   "outputs": [],
   "source": [
    "text = response.text"
   ]
  },
  {
   "cell_type": "code",
   "execution_count": 4,
   "id": "8bb3e70f-762f-4ded-942e-bec3fe1a1456",
   "metadata": {
    "tags": []
   },
   "outputs": [],
   "source": [
    "words = word_tokenize(text)"
   ]
  },
  {
   "cell_type": "code",
   "execution_count": 5,
   "id": "1fc978cd-9f55-4658-be82-37d21907b7fb",
   "metadata": {
    "tags": []
   },
   "outputs": [],
   "source": [
    "word_counts = Counter(words)"
   ]
  },
  {
   "cell_type": "code",
   "execution_count": 6,
   "id": "d19e601b-6a91-4d61-8304-0106744155fd",
   "metadata": {
    "tags": []
   },
   "outputs": [
    {
     "data": {
      "text/plain": [
       "[(',', 9850),\n",
       " ('the', 4348),\n",
       " ('.', 4246),\n",
       " ('to', 4231),\n",
       " ('of', 3822),\n",
       " ('and', 3565),\n",
       " ('her', 2163),\n",
       " ('a', 1979),\n",
       " ('in', 1884),\n",
       " ('was', 1862),\n",
       " ('I', 1792),\n",
       " (';', 1704),\n",
       " ('not', 1567),\n",
       " ('that', 1524),\n",
       " ('she', 1406),\n",
       " ('it', 1288),\n",
       " ('be', 1258),\n",
       " ('his', 1203),\n",
       " ('as', 1159),\n",
       " ('had', 1153)]"
      ]
     },
     "execution_count": 6,
     "metadata": {},
     "output_type": "execute_result"
    }
   ],
   "source": [
    "word_counts.most_common(20)"
   ]
  },
  {
   "cell_type": "code",
   "execution_count": 7,
   "id": "8990c8b0-fe00-4600-8735-4d3d41ac53bb",
   "metadata": {
    "tags": []
   },
   "outputs": [
    {
     "data": {
      "text/plain": [
       "44"
      ]
     },
     "execution_count": 7,
     "metadata": {},
     "output_type": "execute_result"
    }
   ],
   "source": [
    "word_counts[\"pride\"]"
   ]
  },
  {
   "cell_type": "code",
   "execution_count": 8,
   "id": "e82d9bde-6ab6-437c-bb52-88573b59d497",
   "metadata": {
    "tags": []
   },
   "outputs": [
    {
     "data": {
      "text/plain": [
       "5"
      ]
     },
     "execution_count": 8,
     "metadata": {},
     "output_type": "execute_result"
    }
   ],
   "source": [
    "word_counts[\"prejudice\"]"
   ]
  },
  {
   "cell_type": "code",
   "execution_count": 9,
   "id": "feec8907-735e-45cb-b411-24c75820aa06",
   "metadata": {
    "tags": []
   },
   "outputs": [],
   "source": [
    "stop_words = set(stopwords.words('english'))"
   ]
  },
  {
   "cell_type": "code",
   "execution_count": 10,
   "id": "e6de9185-cb6c-49f6-ab58-e12953b2e021",
   "metadata": {
    "tags": []
   },
   "outputs": [],
   "source": [
    "words = [word for word in words if word not in stop_words and word not in string.punctuation]"
   ]
  },
  {
   "cell_type": "code",
   "execution_count": 11,
   "id": "59141e9e-82e0-415f-b4c9-40d79a369eb4",
   "metadata": {
    "tags": []
   },
   "outputs": [
    {
     "data": {
      "text/plain": [
       "66063"
      ]
     },
     "execution_count": 11,
     "metadata": {},
     "output_type": "execute_result"
    }
   ],
   "source": [
    "len(words)"
   ]
  },
  {
   "cell_type": "code",
   "execution_count": 12,
   "id": "04a3b395-941e-470b-b008-c7bfdd4774e9",
   "metadata": {
    "tags": []
   },
   "outputs": [],
   "source": [
    "counter_word = Counter(words)"
   ]
  },
  {
   "cell_type": "code",
   "execution_count": 17,
   "id": "d788dd82-81c3-4678-8f11-48cce7b7ab13",
   "metadata": {
    "tags": []
   },
   "outputs": [],
   "source": [
    "import nltk\n",
    "from nltk import word_tokenize, pos_tag, ne_chunk\n",
    "from nltk.corpus import state_union"
   ]
  },
  {
   "cell_type": "code",
   "execution_count": null,
   "id": "f70e77af-e2c1-4351-bfde-b7cf745ce44f",
   "metadata": {},
   "outputs": [],
   "source": []
  },
  {
   "cell_type": "code",
   "execution_count": 19,
   "id": "c0d68a44-dd7a-4a89-8e68-adf99daa8a0d",
   "metadata": {
    "tags": []
   },
   "outputs": [
    {
     "name": "stdout",
     "output_type": "stream",
     "text": [
      "Named entities (characters) found:\n",
      "{'_Darcy', 'Pride', 'Mr. Morris', 'Chapter X', 'Denny', 'William', 'Lizzy', 'Family', 'Thomson_', 'Lucas', 'Chapter XXXIV', 'Hatfield', 'Rendered', 'Miss Elizabeth', 'Swift', 'Mr. Bingley', 'Chapter XV', 'Thank God', 'Ashworth', 'Had Elizabeth', 'Tease', 'Mr. Bingleyâ\\x80\\x99s', 'Chapter XL', 'Charles', '_Their_', 'Haggerston', 'Lady Lucas', 'Mr. Hurst', 'â\\x80\\x9cwhich', 'Respect', 'Adieu', 'Miss Bennet', 'Beatrix', 'Miss Lucases', 'Mr. Fitzwilliam Darcy', 'Mr. Shapely', 'Philips', 'Smiles', 'God', 'Purvis Lodge', 'Northanger Abbey', 'Mrs. Collins', 'Caroline Bingley', 'Hurst', 'Longbourn', 'Scott', 'Between Elizabeth', 'Mr. Austen Leigh', 'John Thorpe', 'Crawford', 'Henry Tilney', 'Mr. Gardiner', 'Elizabeth', 'Vain', 'Chapter VI', 'Bingley', 'Pray', 'Lewis', 'Lizzie', 'Edmund', 'Miss Bates', 'Netherfield Park', 'Miss Bennets', 'Fanny', 'Gardiner', 'Jenkinson', 'Miss', 'Mr. Darcyâ\\x80\\x99s', 'Argemone Lavington', 'Brighton', 'Miss Lydia Bennet', 'Bourgh', 'Thank', 'Jane Fairfax', 'Harriet', 'March', 'Chapter XXIV', 'Sir Lewis de Bourgh', 'Netherfield', 'Everybody', 'Park', 'Captain Carter', 'Kenilworth', 'Never', 'Chapter XIII', 'Nicholls', 'Richard', 'Are', 'Diana', 'Louisa', 'Lady', '_That_', 'Cross Road', 'Nichols', 'John', 'Society', 'Heaven', 'Anxiety', 'Chapter XVIII', 'Illustration', 'Dearest Lizzy', 'Wickham', 'Barbara', 'Colonel', 'Chapter LVI', 'Away', 'Miss Darcyâ\\x80\\x99s', 'Mr. Denny', 'Rosings Park', 'John Dashwood', 'Chapter XII', 'Such', 'Console Lady Catherine', 'Mary Wollstonecraft', 'Mr. Darcy', 'Charlotte Lucas', 'Chapter IV', 'London George Allen', 'Poor Eliza', 'Lady Anne Darcy', 'Don Juanish', 'Chapter', 'Mr. Wickham', 'Absence', 'â\\x80\\x99', '_You_', 'Lady Anne', 'Oxford', 'Wilfully', 'Lord', 'Sir', 'Choose', 'Annesley', '_It', 'Frank Churchill', 'Michaelmas', 'Girls', 'Hunsford', 'Chapter XXII', 'Miss Bingley', 'De Bourgh', 'Warwick', 'Miss Pope', 'Miss Burney', 'Miss de Bourgh', 'William Lucasâ\\x80\\x99s', 'Chapter XXXI', 'George Allen', 'Hill', '_Sept', 'Miss De', 'Hertfordshire', 'Poor Charlotte', 'Mr. Jonesâ\\x80\\x99s', 'Kitty', 'George Saintsbury', 'Jane Austen', 'Mr. Goldwin Smith', 'Chapter XLVI', 'Fitzwilliam', 'Miss Darcy', '_Still', 'Mr. Collins.â\\x80\\x9d', 'Maria Lucas', 'Emma', 'Poor Jane', 'Had Lydia', 'Scotch', 'Chapter XIV', 'Long', 'Georgiana Darcy', 'Pen', 'Sir William', 'Chapter XXX', 'Clapham', '_They_', 'Lady Catherineâ\\x80\\x99s', 'Sir Lewis', 'Happy', 'Lakes', 'Pemberley', 'Lambton', 'Mr. Addison', 'Stay', 'Miss De Bourgh', 'Miss Lydia', 'Yours', 'Mary King', 'Georgiana', 'Epsom', 'Dawson', 'Catherine', 'Poor Kitty', 'Bennet', 'Ladyship', 'Chapter LXI', 'Oakham Mount', 'George Wickham', 'Meryton', 'Derbyshire', 'George', 'Mr. Bennet', 'Maria', 'Jane', '_I_', 'Mr.', 'Miss Elizabeth Bennet', 'Sir William Lucas', 'Hope', 'Regard', 'Steady', 'Darcy', 'Chapter XLIV', 'Miss Austen', 'Lady Catherine', 'London', 'Mr. Collins', 'Lydia', 'Anne', 'Elizabeth Bennet', 'Chapter XLIX', 'Jane Bennet', 'Hugh Thomson', 'Poor', 'Easter', 'Mary', 'Balls', 'Miss Eliza', 'Miss Lizzy', 'Anxious', 'Eliza Bennet', 'Barbara Grant', 'Nay', 'Make', 'William Goulding', 'Lucas Lodge', 'Pemberley Woods', 'Chapter XX', 'Mr. Jones', 'Chapter XVI', 'Chapter XXXVI', 'Smollett', 'Rosings', 'Beatrix Esmond', 'Kent', 'Lydia Wickham', 'Darcy_', 'Colonel Fitzwilliam', 'Mr. Philipsâ\\x80\\x99s', 'Caroline', 'Much', 'Bromley', 'Chapter XXI', 'Diana Vernon', 'Pratt', 'Mr. Stone', 'Chapter XXV', 'Breakfast', 'Chapter XXXII', 'Mr. Philips', 'Mamma', 'Colonel F.', 'Colonel Forster', 'â\\x80\\x9d', 'Charlotte', 'Vanity', '_He_', 'Had', 'Surprise', 'Mr. Robinson', 'Miss King', 'Sir Williamâ\\x80\\x99s', 'Chatsworth', 'Miss Lucas', 'Reynolds', 'Brother', '_The Bingleys', '_To J. Comyns Carr', 'How', 'Addison', 'Sarah', 'Collins', 'Pemberley House', 'Eliza'}\n"
     ]
    }
   ],
   "source": [
    "# Tokenize and tag text\n",
    "tokens = word_tokenize(text)\n",
    "tagged = pos_tag(tokens)\n",
    "\n",
    "# Named entity recognition\n",
    "chunked = ne_chunk(tagged)\n",
    "\n",
    "# Extract named entities\n",
    "named_entities = set()\n",
    "for subtree in chunked:\n",
    "    if isinstance(subtree, nltk.Tree) and subtree.label() == 'PERSON':\n",
    "        named_entities.add(' '.join(word for word, pos in subtree))\n",
    "\n",
    "print(\"Named entities (characters) found:\")\n",
    "print(named_entities)"
   ]
  }
 ],
 "metadata": {
  "kernelspec": {
   "display_name": "Python 3 (ipykernel)",
   "language": "python",
   "name": "python3"
  },
  "language_info": {
   "codemirror_mode": {
    "name": "ipython",
    "version": 3
   },
   "file_extension": ".py",
   "mimetype": "text/x-python",
   "name": "python",
   "nbconvert_exporter": "python",
   "pygments_lexer": "ipython3",
   "version": "3.11.7"
  }
 },
 "nbformat": 4,
 "nbformat_minor": 5
}
